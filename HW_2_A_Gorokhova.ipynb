{
  "cells": [
    {
      "cell_type": "markdown",
      "metadata": {
        "id": "view-in-github",
        "colab_type": "text"
      },
      "source": [
        "<a href=\"https://colab.research.google.com/github/NastaCom/ML_for_business/blob/main/HW_2_A_Gorokhova.ipynb\" target=\"_parent\"><img src=\"https://colab.research.google.com/assets/colab-badge.svg\" alt=\"Open In Colab\"/></a>"
      ]
    },
    {
      "cell_type": "markdown",
      "id": "ded0f0c2",
      "metadata": {
        "id": "ded0f0c2"
      },
      "source": [
        "1. Самостоятельно разобраться с тем, что такое tfidf (документация https://scikit-learn.org/stable/modules/generated/sklearn.feature_extraction.text.TfidfVectorizer.html и еще - https://scikit-learn.org/stable/modules/feature_extraction.html#text-feature-extraction)\n",
        "2. Модифицировать код функции get_user_embedding таким образом, чтобы считалось не среднее (как в примере np.mean), а медиана. Применить такое преобразование к данным, обучить модель прогнозирования оттока и посчитать метрики качества и сохранить их: roc auc, precision/recall/f_score (для 3 последних - подобрать оптимальный порог с помощью precision_recall_curve, как это делалось на уроке)\n",
        "3. Повторить п.2, но используя уже не медиану, а max\n",
        "4. (опциональное) Воспользовавшись полученными знаниями из п.1, повторить пункт 2, но уже взвешивая новости по tfidf (подсказка: нужно получить веса-коэффициенты для каждого документа. Не все документы одинаково информативны и несут какой-то положительный сигнал). Подсказка 2 - нужен именно idf, как вес.\n",
        "5. Сформировать на выходе единую таблицу, сравнивающую качество 4 разных методов получения эмбедингов пользователей: mean, median, max, idf_mean по метрикам roc_auc, precision, recall, f_score\n",
        "6. Сделать самостоятельные выводы и предположения о том, почему тот или ной способ оказался эффективнее остальных"
      ]
    },
    {
      "cell_type": "code",
      "execution_count": null,
      "id": "a081f68e",
      "metadata": {
        "id": "a081f68e"
      },
      "outputs": [],
      "source": [
        "import pandas as pd"
      ]
    },
    {
      "cell_type": "code",
      "execution_count": null,
      "id": "8032bf3d",
      "metadata": {
        "id": "8032bf3d",
        "outputId": "e05956c2-ef98-40fb-a6a0-59c581b692c2"
      },
      "outputs": [
        {
          "name": "stdout",
          "output_type": "stream",
          "text": [
            "(27000, 2)\n"
          ]
        },
        {
          "data": {
            "text/html": [
              "<div>\n",
              "<style scoped>\n",
              "    .dataframe tbody tr th:only-of-type {\n",
              "        vertical-align: middle;\n",
              "    }\n",
              "\n",
              "    .dataframe tbody tr th {\n",
              "        vertical-align: top;\n",
              "    }\n",
              "\n",
              "    .dataframe thead th {\n",
              "        text-align: right;\n",
              "    }\n",
              "</style>\n",
              "<table border=\"1\" class=\"dataframe\">\n",
              "  <thead>\n",
              "    <tr style=\"text-align: right;\">\n",
              "      <th></th>\n",
              "      <th>doc_id</th>\n",
              "      <th>title</th>\n",
              "    </tr>\n",
              "  </thead>\n",
              "  <tbody>\n",
              "    <tr>\n",
              "      <th>0</th>\n",
              "      <td>6</td>\n",
              "      <td>Заместитель председателяnправительства РФnСерг...</td>\n",
              "    </tr>\n",
              "    <tr>\n",
              "      <th>1</th>\n",
              "      <td>4896</td>\n",
              "      <td>Матч 1/16 финала Кубка России по футболу был п...</td>\n",
              "    </tr>\n",
              "    <tr>\n",
              "      <th>2</th>\n",
              "      <td>4897</td>\n",
              "      <td>Форвард «Авангарда» Томаш Заборский прокоммент...</td>\n",
              "    </tr>\n",
              "  </tbody>\n",
              "</table>\n",
              "</div>"
            ],
            "text/plain": [
              "   doc_id                                              title\n",
              "0       6  Заместитель председателяnправительства РФnСерг...\n",
              "1    4896  Матч 1/16 финала Кубка России по футболу был п...\n",
              "2    4897  Форвард «Авангарда» Томаш Заборский прокоммент..."
            ]
          },
          "execution_count": 73,
          "metadata": {},
          "output_type": "execute_result"
        }
      ],
      "source": [
        "news = pd.read_csv(\"articles.csv\")\n",
        "print(news.shape)\n",
        "news.head(3)"
      ]
    },
    {
      "cell_type": "markdown",
      "id": "e9b3965c",
      "metadata": {
        "id": "e9b3965c"
      },
      "source": [
        "Загрузим пользователей и списки последних прочитанных новостей"
      ]
    },
    {
      "cell_type": "code",
      "execution_count": null,
      "id": "2d352fb8",
      "metadata": {
        "id": "2d352fb8",
        "outputId": "633e0adc-03ed-4e89-cd86-5fd47c8e95f3"
      },
      "outputs": [
        {
          "data": {
            "text/html": [
              "<div>\n",
              "<style scoped>\n",
              "    .dataframe tbody tr th:only-of-type {\n",
              "        vertical-align: middle;\n",
              "    }\n",
              "\n",
              "    .dataframe tbody tr th {\n",
              "        vertical-align: top;\n",
              "    }\n",
              "\n",
              "    .dataframe thead th {\n",
              "        text-align: right;\n",
              "    }\n",
              "</style>\n",
              "<table border=\"1\" class=\"dataframe\">\n",
              "  <thead>\n",
              "    <tr style=\"text-align: right;\">\n",
              "      <th></th>\n",
              "      <th>uid</th>\n",
              "      <th>articles</th>\n",
              "    </tr>\n",
              "  </thead>\n",
              "  <tbody>\n",
              "    <tr>\n",
              "      <th>0</th>\n",
              "      <td>u105138</td>\n",
              "      <td>[293672, 293328, 293001, 293622, 293126, 1852]</td>\n",
              "    </tr>\n",
              "    <tr>\n",
              "      <th>1</th>\n",
              "      <td>u108690</td>\n",
              "      <td>[3405, 1739, 2972, 1158, 1599, 322665]</td>\n",
              "    </tr>\n",
              "    <tr>\n",
              "      <th>2</th>\n",
              "      <td>u108339</td>\n",
              "      <td>[1845, 2009, 2356, 1424, 2939, 323389]</td>\n",
              "    </tr>\n",
              "  </tbody>\n",
              "</table>\n",
              "</div>"
            ],
            "text/plain": [
              "       uid                                        articles\n",
              "0  u105138  [293672, 293328, 293001, 293622, 293126, 1852]\n",
              "1  u108690          [3405, 1739, 2972, 1158, 1599, 322665]\n",
              "2  u108339          [1845, 2009, 2356, 1424, 2939, 323389]"
            ]
          },
          "execution_count": 74,
          "metadata": {},
          "output_type": "execute_result"
        }
      ],
      "source": [
        "users = pd.read_csv(\"users_articles.csv\")\n",
        "users.head(3)"
      ]
    },
    {
      "cell_type": "markdown",
      "id": "ea6929c0",
      "metadata": {
        "id": "ea6929c0"
      },
      "source": [
        "## 1. Получаем векторные представления новостей"
      ]
    },
    {
      "cell_type": "code",
      "execution_count": null,
      "id": "c26e3a1b",
      "metadata": {
        "id": "c26e3a1b",
        "outputId": "a0236ebd-b8da-40dc-b757-dab656213bbf"
      },
      "outputs": [
        {
          "name": "stdout",
          "output_type": "stream",
          "text": [
            "Requirement already satisfied: gensim in c:\\users\\user\\anaconda3\\lib\\site-packages (4.2.0)\n",
            "Requirement already satisfied: Cython==0.29.28 in c:\\users\\user\\anaconda3\\lib\\site-packages (from gensim) (0.29.28)\n",
            "Requirement already satisfied: smart-open>=1.8.1 in c:\\users\\user\\anaconda3\\lib\\site-packages (from gensim) (6.0.0)\n",
            "Requirement already satisfied: numpy>=1.17.0 in c:\\users\\user\\anaconda3\\lib\\site-packages (from gensim) (1.20.1)\n",
            "Requirement already satisfied: scipy>=0.18.1 in c:\\users\\user\\anaconda3\\lib\\site-packages (from gensim) (1.6.2)\n"
          ]
        }
      ],
      "source": [
        "!pip install gensim"
      ]
    },
    {
      "cell_type": "code",
      "execution_count": null,
      "id": "2612de45",
      "metadata": {
        "id": "2612de45"
      },
      "outputs": [],
      "source": [
        "#from gensim.test.utils import common_texts\n",
        "from gensim.corpora.dictionary import Dictionary"
      ]
    },
    {
      "cell_type": "code",
      "execution_count": null,
      "id": "50a845b8",
      "metadata": {
        "id": "50a845b8",
        "outputId": "856a9364-49c9-4fc0-f707-a151d7f6e259"
      },
      "outputs": [
        {
          "name": "stdout",
          "output_type": "stream",
          "text": [
            "Requirement already satisfied: razdel in c:\\users\\user\\anaconda3\\lib\\site-packages (0.5.0)\n",
            "Requirement already satisfied: nltk in c:\\users\\user\\anaconda3\\lib\\site-packages (3.7)\n",
            "Requirement already satisfied: joblib in c:\\users\\user\\anaconda3\\lib\\site-packages (from nltk) (1.0.1)\n",
            "Requirement already satisfied: regex>=2021.8.3 in c:\\users\\user\\anaconda3\\lib\\site-packages (from nltk) (2022.6.2)\n",
            "Requirement already satisfied: click in c:\\users\\user\\anaconda3\\lib\\site-packages (from nltk) (7.1.2)\n",
            "Requirement already satisfied: tqdm in c:\\users\\user\\anaconda3\\lib\\site-packages (from nltk) (4.59.0)\n",
            "Requirement already satisfied: pymorphy2 in c:\\users\\user\\anaconda3\\lib\\site-packages (0.9.1)\n",
            "Requirement already satisfied: dawg-python>=0.7.1 in c:\\users\\user\\anaconda3\\lib\\site-packages (from pymorphy2) (0.7.2)\n",
            "Requirement already satisfied: pymorphy2-dicts-ru<3.0,>=2.4 in c:\\users\\user\\anaconda3\\lib\\site-packages (from pymorphy2) (2.4.417127.4579844)\n",
            "Requirement already satisfied: docopt>=0.6 in c:\\users\\user\\anaconda3\\lib\\site-packages (from pymorphy2) (0.6.2)\n"
          ]
        }
      ],
      "source": [
        "!pip install --upgrade razdel\n",
        "!pip install --upgrade nltk\n",
        "!pip install pymorphy2"
      ]
    },
    {
      "cell_type": "code",
      "execution_count": null,
      "id": "9303ce9c",
      "metadata": {
        "id": "9303ce9c"
      },
      "outputs": [],
      "source": [
        "#предобработка текстов\n",
        "import re\n",
        "import numpy as np\n",
        "import nltk\n",
        "from nltk.corpus import stopwords\n",
        "#from nltk.tokenize import word_tokenize\n",
        "\n",
        "from razdel import tokenize # https://github.com/natasha/razdel\n",
        "#!pip install razdel\n",
        "\n",
        "import pymorphy2  # pip install pymorphy2"
      ]
    },
    {
      "cell_type": "code",
      "execution_count": null,
      "id": "ba588a69",
      "metadata": {
        "id": "ba588a69",
        "outputId": "542abc32-d6ac-4414-f227-5086264cb81e"
      },
      "outputs": [
        {
          "name": "stderr",
          "output_type": "stream",
          "text": [
            "[nltk_data] Downloading package stopwords to\n",
            "[nltk_data]     C:\\Users\\User\\AppData\\Roaming\\nltk_data...\n",
            "[nltk_data]   Package stopwords is already up-to-date!\n"
          ]
        },
        {
          "data": {
            "text/plain": [
              "True"
            ]
          },
          "execution_count": 79,
          "metadata": {},
          "output_type": "execute_result"
        }
      ],
      "source": [
        "nltk.download('stopwords')"
      ]
    },
    {
      "cell_type": "code",
      "execution_count": null,
      "id": "746ef91e",
      "metadata": {
        "id": "746ef91e"
      },
      "outputs": [],
      "source": [
        "stopword_ru = stopwords.words('russian')\n",
        "len(stopword_ru)\n",
        "\n",
        "morph = pymorphy2.MorphAnalyzer()"
      ]
    },
    {
      "cell_type": "code",
      "execution_count": null,
      "id": "572cfd16",
      "metadata": {
        "id": "572cfd16",
        "outputId": "9853ed46-35b7-4698-c160-077d6cb20ca6"
      },
      "outputs": [
        {
          "data": {
            "text/plain": [
              "776"
            ]
          },
          "execution_count": 81,
          "metadata": {},
          "output_type": "execute_result"
        }
      ],
      "source": [
        "with open('stopwords.txt') as f:\n",
        "    additional_stopwords = [w.strip() for w in f.readlines() if w]\n",
        "stopword_ru += additional_stopwords\n",
        "len(stopword_ru)"
      ]
    },
    {
      "cell_type": "code",
      "execution_count": null,
      "id": "42488885",
      "metadata": {
        "id": "42488885"
      },
      "outputs": [],
      "source": [
        "def clean_text(text):\n",
        "    '''\n",
        "    очистка текста\n",
        "    \n",
        "    на выходе очищеный текст\n",
        "    \n",
        "    '''\n",
        "    if not isinstance(text, str):\n",
        "        text = str(text)\n",
        "    \n",
        "    text = text.lower()\n",
        "    text = text.strip('\\n').strip('\\r').strip('\\t')\n",
        "    text = re.sub(\"-\\s\\r\\n\\|-\\s\\r\\n|\\r\\n\", '', str(text))\n",
        "\n",
        "    text = re.sub(\"[0-9]|[-—.,:;_%©«»?*!@#№$^•·&()]|[+=]|[[]|[]]|[/]|\", '', text)\n",
        "    text = re.sub(r\"\\r\\n\\t|\\n|\\\\s|\\r\\t|\\\\n\", ' ', text)\n",
        "    text = re.sub(r'[\\xad]|[\\s+]', ' ', text.strip())\n",
        "    \n",
        "    #tokens = list(tokenize(text))\n",
        "    #words = [_.text for _ in tokens]\n",
        "    #words = [w for w in words if w not in stopword_ru]\n",
        "    \n",
        "    #return \" \".join(words)\n",
        "    return text\n",
        "\n",
        "cache = {}\n",
        "\n",
        "def lemmatization(text):\n",
        "    '''\n",
        "    лемматизация\n",
        "        [0] если зашел тип не `str` делаем его `str`\n",
        "        [1] токенизация предложения через razdel\n",
        "        [2] проверка есть ли в начале слова '-'\n",
        "        [3] проверка токена с одного символа\n",
        "        [4] проверка есть ли данное слово в кэше\n",
        "        [5] лемматизация слова\n",
        "        [6] проверка на стоп-слова\n",
        "\n",
        "    на выходе лист отлемматизированых токенов\n",
        "    '''\n",
        "\n",
        "    # [0]\n",
        "    if not isinstance(text, str):\n",
        "        text = str(text)\n",
        "    \n",
        "    # [1]\n",
        "    tokens = list(tokenize(text))\n",
        "    words = [_.text for _ in tokens]\n",
        "\n",
        "    words_lem = []\n",
        "    for w in words:\n",
        "        if w[0] == '-': # [2]\n",
        "            w = w[1:]\n",
        "        if len(w)>1: # [3]\n",
        "            if w in cache: # [4]\n",
        "                words_lem.append(cache[w])\n",
        "            else: # [5]\n",
        "                temp_cach = cache[w] = morph.parse(w)[0].normal_form\n",
        "                words_lem.append(temp_cach)\n",
        "    \n",
        "    words_lem_without_stopwords=[i for i in words_lem if not i in stopword_ru] # [6]\n",
        "    \n",
        "    return words_lem_without_stopwords"
      ]
    },
    {
      "cell_type": "code",
      "execution_count": null,
      "id": "472d0361",
      "metadata": {
        "id": "472d0361",
        "outputId": "29c38448-44c7-4de8-db03-d2fd529f4f54"
      },
      "outputs": [
        {
          "name": "stdout",
          "output_type": "stream",
          "text": [
            "Wall time: 52.6 s\n"
          ]
        }
      ],
      "source": [
        "%%time\n",
        "#Запускаем очистку текста. Будет долго...\n",
        "news['title'] = news['title'].apply(lambda x: clean_text(x), 1)"
      ]
    },
    {
      "cell_type": "code",
      "execution_count": null,
      "id": "5ee32632",
      "metadata": {
        "id": "5ee32632",
        "outputId": "449898ac-2d3d-4059-98a9-8bae11dc3538"
      },
      "outputs": [
        {
          "name": "stdout",
          "output_type": "stream",
          "text": [
            "Wall time: 8min 20s\n"
          ]
        }
      ],
      "source": [
        "%%time\n",
        "#Запускаем лемматизацию текста. Будет очень долго...\n",
        "news['title'] = news['title'].apply(lambda x: lemmatization(x), 1)"
      ]
    },
    {
      "cell_type": "markdown",
      "id": "23f5f322",
      "metadata": {
        "id": "23f5f322"
      },
      "source": [
        "А теперь в 3 строчки обучим нашу модель"
      ]
    },
    {
      "cell_type": "code",
      "execution_count": null,
      "id": "4bc2a180",
      "metadata": {
        "id": "4bc2a180"
      },
      "outputs": [],
      "source": [
        "#сформируем список наших текстов, разбив еще и на пробелы\n",
        "texts = [t for t in news['title'].values]\n",
        "\n",
        "# Create a corpus from a list of texts\n",
        "common_dictionary = Dictionary(texts)\n",
        "common_corpus = [common_dictionary.doc2bow(text) for text in texts]"
      ]
    },
    {
      "cell_type": "code",
      "execution_count": null,
      "id": "cfa71dd7",
      "metadata": {
        "id": "cfa71dd7",
        "outputId": "083cea0f-c2c8-4ded-af0e-5dc42e629789"
      },
      "outputs": [
        {
          "data": {
            "text/plain": [
              "'европа'"
            ]
          },
          "execution_count": 86,
          "metadata": {},
          "output_type": "execute_result"
        }
      ],
      "source": [
        "common_dictionary[20]"
      ]
    },
    {
      "cell_type": "markdown",
      "id": "f4af988f",
      "metadata": {
        "id": "f4af988f"
      },
      "source": [
        "Все просто - это словарь наших слов"
      ]
    },
    {
      "cell_type": "markdown",
      "id": "166215e0",
      "metadata": {
        "id": "166215e0"
      },
      "source": [
        "Запускаем обучение"
      ]
    },
    {
      "cell_type": "code",
      "execution_count": null,
      "id": "fc2ffcda",
      "metadata": {
        "id": "fc2ffcda"
      },
      "outputs": [],
      "source": [
        "from gensim.models import LdaModel\n",
        "# Train the model on the corpus.\n",
        "lda = LdaModel(common_corpus, num_topics=20, id2word=common_dictionary)#, passes=10)"
      ]
    },
    {
      "cell_type": "code",
      "execution_count": null,
      "id": "abbc0b79",
      "metadata": {
        "id": "abbc0b79"
      },
      "outputs": [],
      "source": [
        "from gensim.test.utils import datapath\n",
        "# Save model to disk.\n",
        "temp_file = datapath(\"model.lda\")\n",
        "lda.save(temp_file)\n",
        "\n",
        "# Load a potentially pretrained model from disk.\n",
        "lda = LdaModel.load(temp_file)"
      ]
    },
    {
      "cell_type": "markdown",
      "id": "3058926d",
      "metadata": {
        "id": "3058926d"
      },
      "source": [
        "Обучили модель. Теперь 2 вопроса:\n",
        "\n",
        "1. как выглядят наши темы\n",
        "2. как получить для документа вектор значений (вероятности принадлежности каждой теме)"
      ]
    },
    {
      "cell_type": "code",
      "execution_count": null,
      "id": "3a2c2768",
      "metadata": {
        "id": "3a2c2768",
        "outputId": "e1458cbb-535a-4448-f324-e8a534b88b0f"
      },
      "outputs": [
        {
          "name": "stdout",
          "output_type": "stream",
          "text": [
            "['форвард', 'авангард', 'томаш', 'заборский', 'прокомментировать', 'игра', 'свой', 'команда', 'матч', 'чемпионат', 'кхл', 'против', 'атланта', 'nnnn', 'провести', 'плохой', 'матч', 'нижний', 'новгород', 'против', 'торпедо', 'настраиваться', 'первый', 'минута', 'включиться', 'работа', 'сказать', 'заборский', 'получиться', 'забросить', 'быстрый', 'гол', 'задать', 'хороший', 'темп', 'поединок', 'мочь', 'играть', 'ещё', 'хороший', 'сторона', 'пять', 'очко', 'выезд', 'девять', 'это', 'хороший']\n"
          ]
        },
        {
          "data": {
            "text/plain": [
              "[(4, 0.38080192),\n",
              " (5, 0.23048362),\n",
              " (8, 0.14044231),\n",
              " (16, 0.019799381),\n",
              " (19, 0.21174665)]"
            ]
          },
          "execution_count": 89,
          "metadata": {},
          "output_type": "execute_result"
        }
      ],
      "source": [
        "# Create a new corpus, made of previously unseen documents.\n",
        "other_texts = [t for t in news['title'].iloc[:3]]\n",
        "other_corpus = [common_dictionary.doc2bow(text) for text in other_texts]\n",
        "\n",
        "unseen_doc = other_corpus[2]\n",
        "print(other_texts[2])\n",
        "lda[unseen_doc] "
      ]
    },
    {
      "cell_type": "code",
      "execution_count": null,
      "id": "0ade65aa",
      "metadata": {
        "id": "0ade65aa",
        "outputId": "9b6e0176-a874-4545-bf88-e6c8a7464f1d"
      },
      "outputs": [
        {
          "name": "stdout",
          "output_type": "stream",
          "text": [
            "topic_0: женщина пациент исследование медведев мужчина девочка университет\n",
            "topic_1: снизиться двигатель проверка нанести сектор сон полоса\n",
            "topic_2: турецкий медицина устанавливать ким тело оперативно датчик\n",
            "topic_3: год газ суд дело рубль ребёнок который\n",
            "topic_4: это год который мочь свой россия весь\n",
            "topic_5: конкурс супруг польша греция тур польский команда\n",
            "topic_6: квартира чиновник армения макаров арабский арбитраж приток\n",
            "topic_7: год компания млн nn исследование который россия\n",
            "topic_8: человек который журнал погибнуть это год помощь\n",
            "topic_9: исследование взрыв планета лаборатория автор статья превысить\n",
            "topic_10: произойти пострадать место nn данные район результат\n",
            "topic_11: участок торговый территория аэропорт ступень площадь турция\n",
            "topic_12: гражданин лечение солнце обнаружить задержать фотография восток\n",
            "topic_13: банк фонд год президент снижение россия это\n",
            "topic_14: остров северный японский разместить япония предмет корея\n",
            "topic_15: год страна млрд россия который проект nn\n",
            "topic_16: топливо лекарство бензин компьютерный прирост отель кит\n",
            "topic_17: миссия университет иран студент научный аналог израиль\n",
            "topic_18: мозг смерть налог физика диск трансляция платёжный\n",
            "topic_19: год ракета который новый свой писать возраст\n"
          ]
        }
      ],
      "source": [
        "x=lda.show_topics(num_topics=25, num_words=7,formatted=False)\n",
        "topics_words = [(tp[0], [wd[0] for wd in tp[1]]) for tp in x]\n",
        "\n",
        "#Below Code Prints Only Words \n",
        "for topic,words in topics_words:\n",
        "    print(\"topic_{}: \".format(topic)+\" \".join(words))"
      ]
    },
    {
      "cell_type": "markdown",
      "id": "0e845ae6",
      "metadata": {
        "id": "0e845ae6"
      },
      "source": [
        "Мне нравится то, что при заданном параметре количества тем, большинство тем получились смысловыми в отличие от того, когда я задавала больше 30 тем (когда задаем более 30 тем, то смысл их теряется)"
      ]
    },
    {
      "cell_type": "markdown",
      "id": "b9335e7e",
      "metadata": {
        "id": "b9335e7e"
      },
      "source": [
        "Давайте напишем функцию, которая будет нам возвращать векторное представление новости"
      ]
    },
    {
      "cell_type": "code",
      "execution_count": null,
      "id": "bca273ec",
      "metadata": {
        "id": "bca273ec"
      },
      "outputs": [],
      "source": [
        "#text = news['title'].iloc[0]\n",
        "\n",
        "def get_lda_vector(text):\n",
        "    unseen_doc = common_dictionary.doc2bow(text)\n",
        "    lda_tuple = lda[unseen_doc]\n",
        "    not_null_topics = dict(zip([i[0] for i in lda_tuple], [i[1] for i in lda_tuple]))\n",
        "\n",
        "    output_vector = []\n",
        "    for i in range(25):\n",
        "        if i not in not_null_topics:\n",
        "            output_vector.append(0)\n",
        "        else:\n",
        "            output_vector.append(not_null_topics[i])\n",
        "    return np.array(output_vector)"
      ]
    },
    {
      "cell_type": "code",
      "execution_count": null,
      "id": "e69c9ddd",
      "metadata": {
        "id": "e69c9ddd",
        "outputId": "0cd39572-7595-43f0-a105-86819d43c126"
      },
      "outputs": [
        {
          "data": {
            "text/html": [
              "<div>\n",
              "<style scoped>\n",
              "    .dataframe tbody tr th:only-of-type {\n",
              "        vertical-align: middle;\n",
              "    }\n",
              "\n",
              "    .dataframe tbody tr th {\n",
              "        vertical-align: top;\n",
              "    }\n",
              "\n",
              "    .dataframe thead th {\n",
              "        text-align: right;\n",
              "    }\n",
              "</style>\n",
              "<table border=\"1\" class=\"dataframe\">\n",
              "  <thead>\n",
              "    <tr style=\"text-align: right;\">\n",
              "      <th></th>\n",
              "      <th>doc_id</th>\n",
              "      <th>topic_0</th>\n",
              "      <th>topic_1</th>\n",
              "      <th>topic_2</th>\n",
              "      <th>topic_3</th>\n",
              "      <th>topic_4</th>\n",
              "      <th>topic_5</th>\n",
              "      <th>topic_6</th>\n",
              "      <th>topic_7</th>\n",
              "      <th>topic_8</th>\n",
              "      <th>...</th>\n",
              "      <th>topic_15</th>\n",
              "      <th>topic_16</th>\n",
              "      <th>topic_17</th>\n",
              "      <th>topic_18</th>\n",
              "      <th>topic_19</th>\n",
              "      <th>topic_20</th>\n",
              "      <th>topic_21</th>\n",
              "      <th>topic_22</th>\n",
              "      <th>topic_23</th>\n",
              "      <th>topic_24</th>\n",
              "    </tr>\n",
              "  </thead>\n",
              "  <tbody>\n",
              "    <tr>\n",
              "      <th>0</th>\n",
              "      <td>6</td>\n",
              "      <td>0.0</td>\n",
              "      <td>0.0</td>\n",
              "      <td>0.0</td>\n",
              "      <td>0.0</td>\n",
              "      <td>0.000000</td>\n",
              "      <td>0.083967</td>\n",
              "      <td>0.0</td>\n",
              "      <td>0.000000</td>\n",
              "      <td>0.0000</td>\n",
              "      <td>...</td>\n",
              "      <td>0.0</td>\n",
              "      <td>0.000000</td>\n",
              "      <td>0.0</td>\n",
              "      <td>0.0</td>\n",
              "      <td>0.000000</td>\n",
              "      <td>0.0</td>\n",
              "      <td>0.0</td>\n",
              "      <td>0.0</td>\n",
              "      <td>0.0</td>\n",
              "      <td>0.0</td>\n",
              "    </tr>\n",
              "    <tr>\n",
              "      <th>1</th>\n",
              "      <td>4896</td>\n",
              "      <td>0.0</td>\n",
              "      <td>0.0</td>\n",
              "      <td>0.0</td>\n",
              "      <td>0.0</td>\n",
              "      <td>0.209481</td>\n",
              "      <td>0.369596</td>\n",
              "      <td>0.0</td>\n",
              "      <td>0.000000</td>\n",
              "      <td>0.0000</td>\n",
              "      <td>...</td>\n",
              "      <td>0.0</td>\n",
              "      <td>0.000000</td>\n",
              "      <td>0.0</td>\n",
              "      <td>0.0</td>\n",
              "      <td>0.054375</td>\n",
              "      <td>0.0</td>\n",
              "      <td>0.0</td>\n",
              "      <td>0.0</td>\n",
              "      <td>0.0</td>\n",
              "      <td>0.0</td>\n",
              "    </tr>\n",
              "    <tr>\n",
              "      <th>2</th>\n",
              "      <td>4897</td>\n",
              "      <td>0.0</td>\n",
              "      <td>0.0</td>\n",
              "      <td>0.0</td>\n",
              "      <td>0.0</td>\n",
              "      <td>0.380906</td>\n",
              "      <td>0.230494</td>\n",
              "      <td>0.0</td>\n",
              "      <td>0.000000</td>\n",
              "      <td>0.1403</td>\n",
              "      <td>...</td>\n",
              "      <td>0.0</td>\n",
              "      <td>0.019805</td>\n",
              "      <td>0.0</td>\n",
              "      <td>0.0</td>\n",
              "      <td>0.211768</td>\n",
              "      <td>0.0</td>\n",
              "      <td>0.0</td>\n",
              "      <td>0.0</td>\n",
              "      <td>0.0</td>\n",
              "      <td>0.0</td>\n",
              "    </tr>\n",
              "    <tr>\n",
              "      <th>3</th>\n",
              "      <td>4898</td>\n",
              "      <td>0.0</td>\n",
              "      <td>0.0</td>\n",
              "      <td>0.0</td>\n",
              "      <td>0.0</td>\n",
              "      <td>0.841626</td>\n",
              "      <td>0.147720</td>\n",
              "      <td>0.0</td>\n",
              "      <td>0.000000</td>\n",
              "      <td>0.0000</td>\n",
              "      <td>...</td>\n",
              "      <td>0.0</td>\n",
              "      <td>0.000000</td>\n",
              "      <td>0.0</td>\n",
              "      <td>0.0</td>\n",
              "      <td>0.000000</td>\n",
              "      <td>0.0</td>\n",
              "      <td>0.0</td>\n",
              "      <td>0.0</td>\n",
              "      <td>0.0</td>\n",
              "      <td>0.0</td>\n",
              "    </tr>\n",
              "    <tr>\n",
              "      <th>4</th>\n",
              "      <td>4899</td>\n",
              "      <td>0.0</td>\n",
              "      <td>0.0</td>\n",
              "      <td>0.0</td>\n",
              "      <td>0.0</td>\n",
              "      <td>0.000000</td>\n",
              "      <td>0.099285</td>\n",
              "      <td>0.0</td>\n",
              "      <td>0.113419</td>\n",
              "      <td>0.0000</td>\n",
              "      <td>...</td>\n",
              "      <td>0.0</td>\n",
              "      <td>0.000000</td>\n",
              "      <td>0.0</td>\n",
              "      <td>0.0</td>\n",
              "      <td>0.000000</td>\n",
              "      <td>0.0</td>\n",
              "      <td>0.0</td>\n",
              "      <td>0.0</td>\n",
              "      <td>0.0</td>\n",
              "      <td>0.0</td>\n",
              "    </tr>\n",
              "  </tbody>\n",
              "</table>\n",
              "<p>5 rows × 26 columns</p>\n",
              "</div>"
            ],
            "text/plain": [
              "   doc_id  topic_0  topic_1  topic_2  topic_3   topic_4   topic_5  topic_6  \\\n",
              "0       6      0.0      0.0      0.0      0.0  0.000000  0.083967      0.0   \n",
              "1    4896      0.0      0.0      0.0      0.0  0.209481  0.369596      0.0   \n",
              "2    4897      0.0      0.0      0.0      0.0  0.380906  0.230494      0.0   \n",
              "3    4898      0.0      0.0      0.0      0.0  0.841626  0.147720      0.0   \n",
              "4    4899      0.0      0.0      0.0      0.0  0.000000  0.099285      0.0   \n",
              "\n",
              "    topic_7  topic_8  ...  topic_15  topic_16  topic_17  topic_18  topic_19  \\\n",
              "0  0.000000   0.0000  ...       0.0  0.000000       0.0       0.0  0.000000   \n",
              "1  0.000000   0.0000  ...       0.0  0.000000       0.0       0.0  0.054375   \n",
              "2  0.000000   0.1403  ...       0.0  0.019805       0.0       0.0  0.211768   \n",
              "3  0.000000   0.0000  ...       0.0  0.000000       0.0       0.0  0.000000   \n",
              "4  0.113419   0.0000  ...       0.0  0.000000       0.0       0.0  0.000000   \n",
              "\n",
              "   topic_20  topic_21  topic_22  topic_23  topic_24  \n",
              "0       0.0       0.0       0.0       0.0       0.0  \n",
              "1       0.0       0.0       0.0       0.0       0.0  \n",
              "2       0.0       0.0       0.0       0.0       0.0  \n",
              "3       0.0       0.0       0.0       0.0       0.0  \n",
              "4       0.0       0.0       0.0       0.0       0.0  \n",
              "\n",
              "[5 rows x 26 columns]"
            ]
          },
          "execution_count": 92,
          "metadata": {},
          "output_type": "execute_result"
        }
      ],
      "source": [
        "topic_matrix = pd.DataFrame([get_lda_vector(text) for text in news['title'].values])\n",
        "topic_matrix.columns = ['topic_{}'.format(i) for i in range(25)]\n",
        "topic_matrix['doc_id'] = news['doc_id'].values\n",
        "topic_matrix = topic_matrix[['doc_id']+['topic_{}'.format(i) for i in range(25)]]\n",
        "topic_matrix.head(5)"
      ]
    },
    {
      "cell_type": "markdown",
      "id": "fdd8ea5d",
      "metadata": {
        "id": "fdd8ea5d"
      },
      "source": [
        "Прекрасно, мы получили вектора наших новостей! И даже умеем интерпретировать получившиеся темы.\n",
        "\n",
        "Можно двигаться далее"
      ]
    },
    {
      "cell_type": "markdown",
      "id": "7e5c68b2",
      "metadata": {
        "id": "7e5c68b2"
      },
      "source": [
        "## Следующий шаг - векторные представления пользователей"
      ]
    },
    {
      "cell_type": "code",
      "execution_count": null,
      "id": "8abba2ae",
      "metadata": {
        "id": "8abba2ae",
        "outputId": "1a36da56-8151-495b-ca0a-da08028509ba"
      },
      "outputs": [
        {
          "data": {
            "text/html": [
              "<div>\n",
              "<style scoped>\n",
              "    .dataframe tbody tr th:only-of-type {\n",
              "        vertical-align: middle;\n",
              "    }\n",
              "\n",
              "    .dataframe tbody tr th {\n",
              "        vertical-align: top;\n",
              "    }\n",
              "\n",
              "    .dataframe thead th {\n",
              "        text-align: right;\n",
              "    }\n",
              "</style>\n",
              "<table border=\"1\" class=\"dataframe\">\n",
              "  <thead>\n",
              "    <tr style=\"text-align: right;\">\n",
              "      <th></th>\n",
              "      <th>uid</th>\n",
              "      <th>articles</th>\n",
              "    </tr>\n",
              "  </thead>\n",
              "  <tbody>\n",
              "    <tr>\n",
              "      <th>0</th>\n",
              "      <td>u105138</td>\n",
              "      <td>[293672, 293328, 293001, 293622, 293126, 1852]</td>\n",
              "    </tr>\n",
              "    <tr>\n",
              "      <th>1</th>\n",
              "      <td>u108690</td>\n",
              "      <td>[3405, 1739, 2972, 1158, 1599, 322665]</td>\n",
              "    </tr>\n",
              "    <tr>\n",
              "      <th>2</th>\n",
              "      <td>u108339</td>\n",
              "      <td>[1845, 2009, 2356, 1424, 2939, 323389]</td>\n",
              "    </tr>\n",
              "  </tbody>\n",
              "</table>\n",
              "</div>"
            ],
            "text/plain": [
              "       uid                                        articles\n",
              "0  u105138  [293672, 293328, 293001, 293622, 293126, 1852]\n",
              "1  u108690          [3405, 1739, 2972, 1158, 1599, 322665]\n",
              "2  u108339          [1845, 2009, 2356, 1424, 2939, 323389]"
            ]
          },
          "execution_count": 93,
          "metadata": {},
          "output_type": "execute_result"
        }
      ],
      "source": [
        "users.head(3)"
      ]
    },
    {
      "cell_type": "code",
      "execution_count": null,
      "id": "aafed48b",
      "metadata": {
        "id": "aafed48b"
      },
      "outputs": [],
      "source": [
        "doc_dict = dict(zip(topic_matrix['doc_id'].values, topic_matrix[['topic_{}'.format(i) for i in range(25)]].values))"
      ]
    },
    {
      "cell_type": "code",
      "execution_count": null,
      "id": "9156d7f3",
      "metadata": {
        "id": "9156d7f3",
        "outputId": "d7760a59-3c0b-491d-b02a-d2782cb509ef"
      },
      "outputs": [
        {
          "data": {
            "text/plain": [
              "array([0.        , 0.04706377, 0.        , 0.19667509, 0.30432928,\n",
              "       0.        , 0.        , 0.        , 0.05567013, 0.        ,\n",
              "       0.        , 0.        , 0.04710399, 0.03123297, 0.        ,\n",
              "       0.        , 0.        , 0.        , 0.04008742, 0.26225883,\n",
              "       0.        , 0.        , 0.        , 0.        , 0.        ])"
            ]
          },
          "execution_count": 95,
          "metadata": {},
          "output_type": "execute_result"
        }
      ],
      "source": [
        "doc_dict[293622]"
      ]
    },
    {
      "cell_type": "code",
      "execution_count": null,
      "id": "4da60f09",
      "metadata": {
        "id": "4da60f09"
      },
      "outputs": [],
      "source": [
        "user_articles_list = users['articles'].iloc[33]\n",
        "\n",
        "def get_user_embedding(user_articles_list):\n",
        "    user_articles_list = eval(user_articles_list)\n",
        "    user_vector = np.array([doc_dict[doc_id] for doc_id in user_articles_list])\n",
        "    user_vector = np.mean(user_vector, 0)\n",
        "    return user_vector"
      ]
    },
    {
      "cell_type": "code",
      "execution_count": null,
      "id": "9ed9edeb",
      "metadata": {
        "id": "9ed9edeb",
        "outputId": "077d1008-f879-4f30-e2b9-e233fe38dc6b"
      },
      "outputs": [
        {
          "data": {
            "text/plain": [
              "array([0.02256256, 0.        , 0.        , 0.17102842, 0.40363183,\n",
              "       0.00344263, 0.        , 0.05682056, 0.01407462, 0.01390469,\n",
              "       0.        , 0.01633969, 0.01239157, 0.15962793, 0.        ,\n",
              "       0.05292457, 0.        , 0.        , 0.02452497, 0.03615773,\n",
              "       0.        , 0.        , 0.        , 0.        , 0.        ])"
            ]
          },
          "execution_count": 97,
          "metadata": {},
          "output_type": "execute_result"
        }
      ],
      "source": [
        "get_user_embedding(user_articles_list)"
      ]
    },
    {
      "cell_type": "code",
      "execution_count": null,
      "id": "322271b5",
      "metadata": {
        "id": "322271b5",
        "outputId": "2a274fb2-b427-4f02-b2cd-346e3c7621d4"
      },
      "outputs": [
        {
          "data": {
            "text/plain": [
              "'[323329, 321961, 324743, 323186, 324632, 474690]'"
            ]
          },
          "execution_count": 98,
          "metadata": {},
          "output_type": "execute_result"
        }
      ],
      "source": [
        "users['articles'].iloc[33]"
      ]
    },
    {
      "cell_type": "code",
      "execution_count": null,
      "id": "1e378a33",
      "metadata": {
        "id": "1e378a33",
        "outputId": "a9d16a12-c370-4bca-c89b-0aa12f1d1f67"
      },
      "outputs": [
        {
          "data": {
            "text/plain": [
              "'глава российский мид сергей лавров опровергнуть появиться сми информация якобы готовиться обмен декларация россия сша сотрудничество сфера сообщать риа новость nn читать сообщение разговаривать автор сообщение знать откуда автор источник какихлибо основание подобный род репортаж знать откуда информация появиться сказать журналист итог встреча госсекретарь сша джон керри nn позиция свой изложить декларация напринимать достаточно рамка обсе рамка совет россия нато высокий уровень продекларировать всё обеспечивать неделимость безопасность никто обеспечивать свой безопасность счёт безопасность продолжить министр слово лавров москва считать система нато создавать проблема наш безопасность поэтому декларация недостаточно мочь договариваться совместный система россия предлагать ещё начинать год президент путин посещать сша нужно вести речь очередной декларация гарантия который проверять объективный военнотехнический критерий гарантия ненаправленность система против российский ядерный потенциал подчеркнуть глава мид вторник газета коммерсантъ ссылаться дипломатический источник написать барак обама владимир путин выйти тупик обменяться политический декларация пообещать использовать свой потенциал друг против друг'"
            ]
          },
          "execution_count": 99,
          "metadata": {},
          "output_type": "execute_result"
        }
      ],
      "source": [
        "\" \".join(news[news['doc_id']==323186]['title'].iloc[0])"
      ]
    },
    {
      "cell_type": "markdown",
      "id": "4ba6fcbb",
      "metadata": {
        "id": "4ba6fcbb"
      },
      "source": [
        "Теперь получим эмбединги для всех пользователей и проверим их качество на конкретной downstream-задаче"
      ]
    },
    {
      "cell_type": "code",
      "execution_count": null,
      "id": "55e051ef",
      "metadata": {
        "id": "55e051ef",
        "outputId": "9de6df32-1bec-4ef7-9937-02ea754179a8"
      },
      "outputs": [
        {
          "data": {
            "text/html": [
              "<div>\n",
              "<style scoped>\n",
              "    .dataframe tbody tr th:only-of-type {\n",
              "        vertical-align: middle;\n",
              "    }\n",
              "\n",
              "    .dataframe tbody tr th {\n",
              "        vertical-align: top;\n",
              "    }\n",
              "\n",
              "    .dataframe thead th {\n",
              "        text-align: right;\n",
              "    }\n",
              "</style>\n",
              "<table border=\"1\" class=\"dataframe\">\n",
              "  <thead>\n",
              "    <tr style=\"text-align: right;\">\n",
              "      <th></th>\n",
              "      <th>uid</th>\n",
              "      <th>topic_0</th>\n",
              "      <th>topic_1</th>\n",
              "      <th>topic_2</th>\n",
              "      <th>topic_3</th>\n",
              "      <th>topic_4</th>\n",
              "      <th>topic_5</th>\n",
              "      <th>topic_6</th>\n",
              "      <th>topic_7</th>\n",
              "      <th>topic_8</th>\n",
              "      <th>...</th>\n",
              "      <th>topic_15</th>\n",
              "      <th>topic_16</th>\n",
              "      <th>topic_17</th>\n",
              "      <th>topic_18</th>\n",
              "      <th>topic_19</th>\n",
              "      <th>topic_20</th>\n",
              "      <th>topic_21</th>\n",
              "      <th>topic_22</th>\n",
              "      <th>topic_23</th>\n",
              "      <th>topic_24</th>\n",
              "    </tr>\n",
              "  </thead>\n",
              "  <tbody>\n",
              "    <tr>\n",
              "      <th>0</th>\n",
              "      <td>u105138</td>\n",
              "      <td>0.000000</td>\n",
              "      <td>0.007844</td>\n",
              "      <td>0.011994</td>\n",
              "      <td>0.091975</td>\n",
              "      <td>0.291231</td>\n",
              "      <td>0.0</td>\n",
              "      <td>0.002446</td>\n",
              "      <td>0.207919</td>\n",
              "      <td>0.063326</td>\n",
              "      <td>...</td>\n",
              "      <td>0.064623</td>\n",
              "      <td>0.0</td>\n",
              "      <td>0.000000</td>\n",
              "      <td>0.014402</td>\n",
              "      <td>0.074436</td>\n",
              "      <td>0.0</td>\n",
              "      <td>0.0</td>\n",
              "      <td>0.0</td>\n",
              "      <td>0.0</td>\n",
              "      <td>0.0</td>\n",
              "    </tr>\n",
              "    <tr>\n",
              "      <th>1</th>\n",
              "      <td>u108690</td>\n",
              "      <td>0.006725</td>\n",
              "      <td>0.004296</td>\n",
              "      <td>0.000000</td>\n",
              "      <td>0.093983</td>\n",
              "      <td>0.513662</td>\n",
              "      <td>0.0</td>\n",
              "      <td>0.000000</td>\n",
              "      <td>0.079703</td>\n",
              "      <td>0.021048</td>\n",
              "      <td>...</td>\n",
              "      <td>0.053466</td>\n",
              "      <td>0.0</td>\n",
              "      <td>0.002201</td>\n",
              "      <td>0.000000</td>\n",
              "      <td>0.007061</td>\n",
              "      <td>0.0</td>\n",
              "      <td>0.0</td>\n",
              "      <td>0.0</td>\n",
              "      <td>0.0</td>\n",
              "      <td>0.0</td>\n",
              "    </tr>\n",
              "    <tr>\n",
              "      <th>2</th>\n",
              "      <td>u108339</td>\n",
              "      <td>0.008151</td>\n",
              "      <td>0.000000</td>\n",
              "      <td>0.000000</td>\n",
              "      <td>0.128645</td>\n",
              "      <td>0.349716</td>\n",
              "      <td>0.0</td>\n",
              "      <td>0.003206</td>\n",
              "      <td>0.062419</td>\n",
              "      <td>0.062808</td>\n",
              "      <td>...</td>\n",
              "      <td>0.093596</td>\n",
              "      <td>0.0</td>\n",
              "      <td>0.000000</td>\n",
              "      <td>0.026040</td>\n",
              "      <td>0.005755</td>\n",
              "      <td>0.0</td>\n",
              "      <td>0.0</td>\n",
              "      <td>0.0</td>\n",
              "      <td>0.0</td>\n",
              "      <td>0.0</td>\n",
              "    </tr>\n",
              "  </tbody>\n",
              "</table>\n",
              "<p>3 rows × 26 columns</p>\n",
              "</div>"
            ],
            "text/plain": [
              "       uid   topic_0   topic_1   topic_2   topic_3   topic_4  topic_5  \\\n",
              "0  u105138  0.000000  0.007844  0.011994  0.091975  0.291231      0.0   \n",
              "1  u108690  0.006725  0.004296  0.000000  0.093983  0.513662      0.0   \n",
              "2  u108339  0.008151  0.000000  0.000000  0.128645  0.349716      0.0   \n",
              "\n",
              "    topic_6   topic_7   topic_8  ...  topic_15  topic_16  topic_17  topic_18  \\\n",
              "0  0.002446  0.207919  0.063326  ...  0.064623       0.0  0.000000  0.014402   \n",
              "1  0.000000  0.079703  0.021048  ...  0.053466       0.0  0.002201  0.000000   \n",
              "2  0.003206  0.062419  0.062808  ...  0.093596       0.0  0.000000  0.026040   \n",
              "\n",
              "   topic_19  topic_20  topic_21  topic_22  topic_23  topic_24  \n",
              "0  0.074436       0.0       0.0       0.0       0.0       0.0  \n",
              "1  0.007061       0.0       0.0       0.0       0.0       0.0  \n",
              "2  0.005755       0.0       0.0       0.0       0.0       0.0  \n",
              "\n",
              "[3 rows x 26 columns]"
            ]
          },
          "execution_count": 100,
          "metadata": {},
          "output_type": "execute_result"
        }
      ],
      "source": [
        "user_embeddings = pd.DataFrame([i for i in users['articles'].apply(lambda x: get_user_embedding(x), 1)])\n",
        "user_embeddings.columns = ['topic_{}'.format(i) for i in range(25)]\n",
        "user_embeddings['uid'] = users['uid'].values\n",
        "user_embeddings = user_embeddings[['uid']+['topic_{}'.format(i) for i in range(25)]]\n",
        "user_embeddings.head(3)"
      ]
    },
    {
      "cell_type": "markdown",
      "id": "b98db4b0",
      "metadata": {
        "id": "b98db4b0"
      },
      "source": [
        "#### Теперь выполню немного иначе по условию к дз... чтобы получилось модифицировать код функции get_user_embedding таким образом, чтобы считалось и среднее и медиана и max"
      ]
    },
    {
      "cell_type": "code",
      "execution_count": null,
      "id": "ce2ac7b8",
      "metadata": {
        "id": "ce2ac7b8"
      },
      "outputs": [],
      "source": [
        "def get_user_embedding_method(user_articles_list, method='mean'):\n",
        "    \"\"\"\n",
        "    method: 'mean' / 'median' / 'max'\n",
        "    \"\"\"\n",
        "    user_articles_list = eval(user_articles_list)\n",
        "    user_vector_met = np.array([doc_dict[doc_id] for doc_id in user_articles_list])\n",
        "    if method == 'mean':\n",
        "        user_vector_met = np.mean(user_vector_met, axis=0)  \n",
        "    elif method == 'median':\n",
        "        user_vector_met = np.median(user_vector_met, axis=0)\n",
        "    elif method == 'max':\n",
        "        user_vector_met = np.max(user_vector_met, 0)  \n",
        "    return user_vector_met"
      ]
    },
    {
      "cell_type": "code",
      "execution_count": null,
      "id": "cd12ba3f",
      "metadata": {
        "id": "cd12ba3f",
        "outputId": "a71436d8-3e0e-4b4f-e88d-2b7fd037c979"
      },
      "outputs": [
        {
          "data": {
            "text/plain": [
              "array([0.02256256, 0.        , 0.        , 0.17102842, 0.40363183,\n",
              "       0.00344263, 0.        , 0.05682056, 0.01407462, 0.01390469,\n",
              "       0.        , 0.01633969, 0.01239157, 0.15962793, 0.        ,\n",
              "       0.05292457, 0.        , 0.        , 0.02452497, 0.03615773,\n",
              "       0.        , 0.        , 0.        , 0.        , 0.        ])"
            ]
          },
          "execution_count": 102,
          "metadata": {},
          "output_type": "execute_result"
        }
      ],
      "source": [
        "user_articles_list = users['articles'].iloc[33]\n",
        "get_user_embedding_method(user_articles_list, method='mean')\n",
        "# 'median'\n",
        "# 'max'"
      ]
    },
    {
      "cell_type": "code",
      "execution_count": null,
      "id": "5f966438",
      "metadata": {
        "id": "5f966438",
        "outputId": "8e581518-b02e-454d-a2a7-b8a05d410b7d"
      },
      "outputs": [
        {
          "data": {
            "text/html": [
              "<div>\n",
              "<style scoped>\n",
              "    .dataframe tbody tr th:only-of-type {\n",
              "        vertical-align: middle;\n",
              "    }\n",
              "\n",
              "    .dataframe tbody tr th {\n",
              "        vertical-align: top;\n",
              "    }\n",
              "\n",
              "    .dataframe thead th {\n",
              "        text-align: right;\n",
              "    }\n",
              "</style>\n",
              "<table border=\"1\" class=\"dataframe\">\n",
              "  <thead>\n",
              "    <tr style=\"text-align: right;\">\n",
              "      <th></th>\n",
              "      <th>uid</th>\n",
              "      <th>topic_0</th>\n",
              "      <th>topic_1</th>\n",
              "      <th>topic_2</th>\n",
              "      <th>topic_3</th>\n",
              "      <th>topic_4</th>\n",
              "      <th>topic_5</th>\n",
              "      <th>topic_6</th>\n",
              "      <th>topic_7</th>\n",
              "      <th>topic_8</th>\n",
              "      <th>...</th>\n",
              "      <th>topic_15</th>\n",
              "      <th>topic_16</th>\n",
              "      <th>topic_17</th>\n",
              "      <th>topic_18</th>\n",
              "      <th>topic_19</th>\n",
              "      <th>topic_20</th>\n",
              "      <th>topic_21</th>\n",
              "      <th>topic_22</th>\n",
              "      <th>topic_23</th>\n",
              "      <th>topic_24</th>\n",
              "    </tr>\n",
              "  </thead>\n",
              "  <tbody>\n",
              "    <tr>\n",
              "      <th>0</th>\n",
              "      <td>u105138</td>\n",
              "      <td>0.000000</td>\n",
              "      <td>0.007844</td>\n",
              "      <td>0.011994</td>\n",
              "      <td>0.091975</td>\n",
              "      <td>0.291231</td>\n",
              "      <td>0.0</td>\n",
              "      <td>0.002446</td>\n",
              "      <td>0.207919</td>\n",
              "      <td>0.063326</td>\n",
              "      <td>...</td>\n",
              "      <td>0.064623</td>\n",
              "      <td>0.0</td>\n",
              "      <td>0.000000</td>\n",
              "      <td>0.014402</td>\n",
              "      <td>0.074436</td>\n",
              "      <td>0.0</td>\n",
              "      <td>0.0</td>\n",
              "      <td>0.0</td>\n",
              "      <td>0.0</td>\n",
              "      <td>0.0</td>\n",
              "    </tr>\n",
              "    <tr>\n",
              "      <th>1</th>\n",
              "      <td>u108690</td>\n",
              "      <td>0.006725</td>\n",
              "      <td>0.004296</td>\n",
              "      <td>0.000000</td>\n",
              "      <td>0.093983</td>\n",
              "      <td>0.513662</td>\n",
              "      <td>0.0</td>\n",
              "      <td>0.000000</td>\n",
              "      <td>0.079703</td>\n",
              "      <td>0.021048</td>\n",
              "      <td>...</td>\n",
              "      <td>0.053466</td>\n",
              "      <td>0.0</td>\n",
              "      <td>0.002201</td>\n",
              "      <td>0.000000</td>\n",
              "      <td>0.007061</td>\n",
              "      <td>0.0</td>\n",
              "      <td>0.0</td>\n",
              "      <td>0.0</td>\n",
              "      <td>0.0</td>\n",
              "      <td>0.0</td>\n",
              "    </tr>\n",
              "    <tr>\n",
              "      <th>2</th>\n",
              "      <td>u108339</td>\n",
              "      <td>0.008151</td>\n",
              "      <td>0.000000</td>\n",
              "      <td>0.000000</td>\n",
              "      <td>0.128645</td>\n",
              "      <td>0.349716</td>\n",
              "      <td>0.0</td>\n",
              "      <td>0.003206</td>\n",
              "      <td>0.062419</td>\n",
              "      <td>0.062808</td>\n",
              "      <td>...</td>\n",
              "      <td>0.093596</td>\n",
              "      <td>0.0</td>\n",
              "      <td>0.000000</td>\n",
              "      <td>0.026040</td>\n",
              "      <td>0.005755</td>\n",
              "      <td>0.0</td>\n",
              "      <td>0.0</td>\n",
              "      <td>0.0</td>\n",
              "      <td>0.0</td>\n",
              "      <td>0.0</td>\n",
              "    </tr>\n",
              "  </tbody>\n",
              "</table>\n",
              "<p>3 rows × 26 columns</p>\n",
              "</div>"
            ],
            "text/plain": [
              "       uid   topic_0   topic_1   topic_2   topic_3   topic_4  topic_5  \\\n",
              "0  u105138  0.000000  0.007844  0.011994  0.091975  0.291231      0.0   \n",
              "1  u108690  0.006725  0.004296  0.000000  0.093983  0.513662      0.0   \n",
              "2  u108339  0.008151  0.000000  0.000000  0.128645  0.349716      0.0   \n",
              "\n",
              "    topic_6   topic_7   topic_8  ...  topic_15  topic_16  topic_17  topic_18  \\\n",
              "0  0.002446  0.207919  0.063326  ...  0.064623       0.0  0.000000  0.014402   \n",
              "1  0.000000  0.079703  0.021048  ...  0.053466       0.0  0.002201  0.000000   \n",
              "2  0.003206  0.062419  0.062808  ...  0.093596       0.0  0.000000  0.026040   \n",
              "\n",
              "   topic_19  topic_20  topic_21  topic_22  topic_23  topic_24  \n",
              "0  0.074436       0.0       0.0       0.0       0.0       0.0  \n",
              "1  0.007061       0.0       0.0       0.0       0.0       0.0  \n",
              "2  0.005755       0.0       0.0       0.0       0.0       0.0  \n",
              "\n",
              "[3 rows x 26 columns]"
            ]
          },
          "execution_count": 103,
          "metadata": {},
          "output_type": "execute_result"
        }
      ],
      "source": [
        "user_embeddings_mean = pd.DataFrame([i for i in users['articles'].apply(lambda x: get_user_embedding_method(x, method='mean'), 1)])\n",
        "user_embeddings_mean.columns = ['topic_{}'.format(i) for i in range(25)]\n",
        "user_embeddings_mean['uid'] = users['uid'].values\n",
        "user_embeddings_mean = user_embeddings_mean[['uid']+['topic_{}'.format(i) for i in range(25)]]\n",
        "user_embeddings_mean.head(3)"
      ]
    },
    {
      "cell_type": "code",
      "execution_count": null,
      "id": "b0e839ce",
      "metadata": {
        "id": "b0e839ce",
        "outputId": "b0ec278f-8137-4322-f347-a72befc27e29"
      },
      "outputs": [
        {
          "data": {
            "text/html": [
              "<div>\n",
              "<style scoped>\n",
              "    .dataframe tbody tr th:only-of-type {\n",
              "        vertical-align: middle;\n",
              "    }\n",
              "\n",
              "    .dataframe tbody tr th {\n",
              "        vertical-align: top;\n",
              "    }\n",
              "\n",
              "    .dataframe thead th {\n",
              "        text-align: right;\n",
              "    }\n",
              "</style>\n",
              "<table border=\"1\" class=\"dataframe\">\n",
              "  <thead>\n",
              "    <tr style=\"text-align: right;\">\n",
              "      <th></th>\n",
              "      <th>uid</th>\n",
              "      <th>topic_0</th>\n",
              "      <th>topic_1</th>\n",
              "      <th>topic_2</th>\n",
              "      <th>topic_3</th>\n",
              "      <th>topic_4</th>\n",
              "      <th>topic_5</th>\n",
              "      <th>topic_6</th>\n",
              "      <th>topic_7</th>\n",
              "      <th>topic_8</th>\n",
              "      <th>...</th>\n",
              "      <th>topic_15</th>\n",
              "      <th>topic_16</th>\n",
              "      <th>topic_17</th>\n",
              "      <th>topic_18</th>\n",
              "      <th>topic_19</th>\n",
              "      <th>topic_20</th>\n",
              "      <th>topic_21</th>\n",
              "      <th>topic_22</th>\n",
              "      <th>topic_23</th>\n",
              "      <th>topic_24</th>\n",
              "    </tr>\n",
              "  </thead>\n",
              "  <tbody>\n",
              "    <tr>\n",
              "      <th>0</th>\n",
              "      <td>u105138</td>\n",
              "      <td>0.0</td>\n",
              "      <td>0.0</td>\n",
              "      <td>0.0</td>\n",
              "      <td>0.096478</td>\n",
              "      <td>0.299995</td>\n",
              "      <td>0.0</td>\n",
              "      <td>0.0</td>\n",
              "      <td>0.172715</td>\n",
              "      <td>0.027835</td>\n",
              "      <td>...</td>\n",
              "      <td>0.084493</td>\n",
              "      <td>0.0</td>\n",
              "      <td>0.0</td>\n",
              "      <td>0.0</td>\n",
              "      <td>0.025295</td>\n",
              "      <td>0.0</td>\n",
              "      <td>0.0</td>\n",
              "      <td>0.0</td>\n",
              "      <td>0.0</td>\n",
              "      <td>0.0</td>\n",
              "    </tr>\n",
              "    <tr>\n",
              "      <th>1</th>\n",
              "      <td>u108690</td>\n",
              "      <td>0.0</td>\n",
              "      <td>0.0</td>\n",
              "      <td>0.0</td>\n",
              "      <td>0.062293</td>\n",
              "      <td>0.540247</td>\n",
              "      <td>0.0</td>\n",
              "      <td>0.0</td>\n",
              "      <td>0.067758</td>\n",
              "      <td>0.005277</td>\n",
              "      <td>...</td>\n",
              "      <td>0.031123</td>\n",
              "      <td>0.0</td>\n",
              "      <td>0.0</td>\n",
              "      <td>0.0</td>\n",
              "      <td>0.000000</td>\n",
              "      <td>0.0</td>\n",
              "      <td>0.0</td>\n",
              "      <td>0.0</td>\n",
              "      <td>0.0</td>\n",
              "      <td>0.0</td>\n",
              "    </tr>\n",
              "    <tr>\n",
              "      <th>2</th>\n",
              "      <td>u108339</td>\n",
              "      <td>0.0</td>\n",
              "      <td>0.0</td>\n",
              "      <td>0.0</td>\n",
              "      <td>0.100173</td>\n",
              "      <td>0.316928</td>\n",
              "      <td>0.0</td>\n",
              "      <td>0.0</td>\n",
              "      <td>0.079578</td>\n",
              "      <td>0.060020</td>\n",
              "      <td>...</td>\n",
              "      <td>0.049695</td>\n",
              "      <td>0.0</td>\n",
              "      <td>0.0</td>\n",
              "      <td>0.0</td>\n",
              "      <td>0.000000</td>\n",
              "      <td>0.0</td>\n",
              "      <td>0.0</td>\n",
              "      <td>0.0</td>\n",
              "      <td>0.0</td>\n",
              "      <td>0.0</td>\n",
              "    </tr>\n",
              "  </tbody>\n",
              "</table>\n",
              "<p>3 rows × 26 columns</p>\n",
              "</div>"
            ],
            "text/plain": [
              "       uid  topic_0  topic_1  topic_2   topic_3   topic_4  topic_5  topic_6  \\\n",
              "0  u105138      0.0      0.0      0.0  0.096478  0.299995      0.0      0.0   \n",
              "1  u108690      0.0      0.0      0.0  0.062293  0.540247      0.0      0.0   \n",
              "2  u108339      0.0      0.0      0.0  0.100173  0.316928      0.0      0.0   \n",
              "\n",
              "    topic_7   topic_8  ...  topic_15  topic_16  topic_17  topic_18  topic_19  \\\n",
              "0  0.172715  0.027835  ...  0.084493       0.0       0.0       0.0  0.025295   \n",
              "1  0.067758  0.005277  ...  0.031123       0.0       0.0       0.0  0.000000   \n",
              "2  0.079578  0.060020  ...  0.049695       0.0       0.0       0.0  0.000000   \n",
              "\n",
              "   topic_20  topic_21  topic_22  topic_23  topic_24  \n",
              "0       0.0       0.0       0.0       0.0       0.0  \n",
              "1       0.0       0.0       0.0       0.0       0.0  \n",
              "2       0.0       0.0       0.0       0.0       0.0  \n",
              "\n",
              "[3 rows x 26 columns]"
            ]
          },
          "execution_count": 104,
          "metadata": {},
          "output_type": "execute_result"
        }
      ],
      "source": [
        "user_embeddings_median = pd.DataFrame([i for i in users['articles'].apply(lambda x: get_user_embedding_method(x, method='median'), 1)])\n",
        "user_embeddings_median.columns = ['topic_{}'.format(i) for i in range(25)]\n",
        "user_embeddings_median['uid'] = users['uid'].values\n",
        "user_embeddings_median = user_embeddings_median[['uid']+['topic_{}'.format(i) for i in range(25)]]\n",
        "user_embeddings_median.head(3)"
      ]
    },
    {
      "cell_type": "code",
      "execution_count": null,
      "id": "28cacff9",
      "metadata": {
        "id": "28cacff9",
        "outputId": "271d1dfd-910d-40b8-c953-df3e7faf7089"
      },
      "outputs": [
        {
          "data": {
            "text/html": [
              "<div>\n",
              "<style scoped>\n",
              "    .dataframe tbody tr th:only-of-type {\n",
              "        vertical-align: middle;\n",
              "    }\n",
              "\n",
              "    .dataframe tbody tr th {\n",
              "        vertical-align: top;\n",
              "    }\n",
              "\n",
              "    .dataframe thead th {\n",
              "        text-align: right;\n",
              "    }\n",
              "</style>\n",
              "<table border=\"1\" class=\"dataframe\">\n",
              "  <thead>\n",
              "    <tr style=\"text-align: right;\">\n",
              "      <th></th>\n",
              "      <th>uid</th>\n",
              "      <th>topic_0</th>\n",
              "      <th>topic_1</th>\n",
              "      <th>topic_2</th>\n",
              "      <th>topic_3</th>\n",
              "      <th>topic_4</th>\n",
              "      <th>topic_5</th>\n",
              "      <th>topic_6</th>\n",
              "      <th>topic_7</th>\n",
              "      <th>topic_8</th>\n",
              "      <th>...</th>\n",
              "      <th>topic_15</th>\n",
              "      <th>topic_16</th>\n",
              "      <th>topic_17</th>\n",
              "      <th>topic_18</th>\n",
              "      <th>topic_19</th>\n",
              "      <th>topic_20</th>\n",
              "      <th>topic_21</th>\n",
              "      <th>topic_22</th>\n",
              "      <th>topic_23</th>\n",
              "      <th>topic_24</th>\n",
              "    </tr>\n",
              "  </thead>\n",
              "  <tbody>\n",
              "    <tr>\n",
              "      <th>0</th>\n",
              "      <td>u105138</td>\n",
              "      <td>0.000000</td>\n",
              "      <td>0.047064</td>\n",
              "      <td>0.071965</td>\n",
              "      <td>0.196675</td>\n",
              "      <td>0.497088</td>\n",
              "      <td>0.0</td>\n",
              "      <td>0.014674</td>\n",
              "      <td>0.474595</td>\n",
              "      <td>0.190693</td>\n",
              "      <td>...</td>\n",
              "      <td>0.112258</td>\n",
              "      <td>0.0</td>\n",
              "      <td>0.000000</td>\n",
              "      <td>0.046324</td>\n",
              "      <td>0.262259</td>\n",
              "      <td>0.0</td>\n",
              "      <td>0.0</td>\n",
              "      <td>0.0</td>\n",
              "      <td>0.0</td>\n",
              "      <td>0.0</td>\n",
              "    </tr>\n",
              "    <tr>\n",
              "      <th>1</th>\n",
              "      <td>u108690</td>\n",
              "      <td>0.025627</td>\n",
              "      <td>0.013710</td>\n",
              "      <td>0.000000</td>\n",
              "      <td>0.318699</td>\n",
              "      <td>0.683907</td>\n",
              "      <td>0.0</td>\n",
              "      <td>0.000000</td>\n",
              "      <td>0.182863</td>\n",
              "      <td>0.087029</td>\n",
              "      <td>...</td>\n",
              "      <td>0.146634</td>\n",
              "      <td>0.0</td>\n",
              "      <td>0.013204</td>\n",
              "      <td>0.000000</td>\n",
              "      <td>0.024022</td>\n",
              "      <td>0.0</td>\n",
              "      <td>0.0</td>\n",
              "      <td>0.0</td>\n",
              "      <td>0.0</td>\n",
              "      <td>0.0</td>\n",
              "    </tr>\n",
              "    <tr>\n",
              "      <th>2</th>\n",
              "      <td>u108339</td>\n",
              "      <td>0.030891</td>\n",
              "      <td>0.000000</td>\n",
              "      <td>0.000000</td>\n",
              "      <td>0.296128</td>\n",
              "      <td>0.533725</td>\n",
              "      <td>0.0</td>\n",
              "      <td>0.019236</td>\n",
              "      <td>0.116955</td>\n",
              "      <td>0.141427</td>\n",
              "      <td>...</td>\n",
              "      <td>0.288110</td>\n",
              "      <td>0.0</td>\n",
              "      <td>0.000000</td>\n",
              "      <td>0.156241</td>\n",
              "      <td>0.017647</td>\n",
              "      <td>0.0</td>\n",
              "      <td>0.0</td>\n",
              "      <td>0.0</td>\n",
              "      <td>0.0</td>\n",
              "      <td>0.0</td>\n",
              "    </tr>\n",
              "  </tbody>\n",
              "</table>\n",
              "<p>3 rows × 26 columns</p>\n",
              "</div>"
            ],
            "text/plain": [
              "       uid   topic_0   topic_1   topic_2   topic_3   topic_4  topic_5  \\\n",
              "0  u105138  0.000000  0.047064  0.071965  0.196675  0.497088      0.0   \n",
              "1  u108690  0.025627  0.013710  0.000000  0.318699  0.683907      0.0   \n",
              "2  u108339  0.030891  0.000000  0.000000  0.296128  0.533725      0.0   \n",
              "\n",
              "    topic_6   topic_7   topic_8  ...  topic_15  topic_16  topic_17  topic_18  \\\n",
              "0  0.014674  0.474595  0.190693  ...  0.112258       0.0  0.000000  0.046324   \n",
              "1  0.000000  0.182863  0.087029  ...  0.146634       0.0  0.013204  0.000000   \n",
              "2  0.019236  0.116955  0.141427  ...  0.288110       0.0  0.000000  0.156241   \n",
              "\n",
              "   topic_19  topic_20  topic_21  topic_22  topic_23  topic_24  \n",
              "0  0.262259       0.0       0.0       0.0       0.0       0.0  \n",
              "1  0.024022       0.0       0.0       0.0       0.0       0.0  \n",
              "2  0.017647       0.0       0.0       0.0       0.0       0.0  \n",
              "\n",
              "[3 rows x 26 columns]"
            ]
          },
          "execution_count": 105,
          "metadata": {},
          "output_type": "execute_result"
        }
      ],
      "source": [
        "user_embeddings_max = pd.DataFrame([i for i in users['articles'].apply(lambda x: get_user_embedding_method(x, method='max'), 1)])\n",
        "user_embeddings_max.columns = ['topic_{}'.format(i) for i in range(25)]\n",
        "user_embeddings_max['uid'] = users['uid'].values\n",
        "user_embeddings_max = user_embeddings_max[['uid']+['topic_{}'.format(i) for i in range(25)]]\n",
        "user_embeddings_max.head(3)"
      ]
    },
    {
      "cell_type": "markdown",
      "id": "072f0eb2",
      "metadata": {
        "id": "072f0eb2"
      },
      "source": [
        "Датасет готов - можно попробовать обучить модель. Загрузим нашу разметку"
      ]
    },
    {
      "cell_type": "code",
      "execution_count": null,
      "id": "c0881101",
      "metadata": {
        "id": "c0881101",
        "outputId": "6e99b1b5-c8e2-48b4-8c26-4810bcefe758"
      },
      "outputs": [
        {
          "data": {
            "text/html": [
              "<div>\n",
              "<style scoped>\n",
              "    .dataframe tbody tr th:only-of-type {\n",
              "        vertical-align: middle;\n",
              "    }\n",
              "\n",
              "    .dataframe tbody tr th {\n",
              "        vertical-align: top;\n",
              "    }\n",
              "\n",
              "    .dataframe thead th {\n",
              "        text-align: right;\n",
              "    }\n",
              "</style>\n",
              "<table border=\"1\" class=\"dataframe\">\n",
              "  <thead>\n",
              "    <tr style=\"text-align: right;\">\n",
              "      <th></th>\n",
              "      <th>uid</th>\n",
              "      <th>churn</th>\n",
              "    </tr>\n",
              "  </thead>\n",
              "  <tbody>\n",
              "    <tr>\n",
              "      <th>7997</th>\n",
              "      <td>u105756</td>\n",
              "      <td>0</td>\n",
              "    </tr>\n",
              "    <tr>\n",
              "      <th>7998</th>\n",
              "      <td>u108297</td>\n",
              "      <td>1</td>\n",
              "    </tr>\n",
              "    <tr>\n",
              "      <th>7999</th>\n",
              "      <td>u103444</td>\n",
              "      <td>0</td>\n",
              "    </tr>\n",
              "  </tbody>\n",
              "</table>\n",
              "</div>"
            ],
            "text/plain": [
              "          uid  churn\n",
              "7997  u105756      0\n",
              "7998  u108297      1\n",
              "7999  u103444      0"
            ]
          },
          "execution_count": 106,
          "metadata": {},
          "output_type": "execute_result"
        }
      ],
      "source": [
        "target = pd.read_csv(\"users_churn.csv\")\n",
        "target.tail(3)"
      ]
    },
    {
      "cell_type": "code",
      "execution_count": null,
      "id": "8c15c133",
      "metadata": {
        "id": "8c15c133",
        "outputId": "92f27ec2-33ef-4308-cb58-3c43721ef4e0"
      },
      "outputs": [
        {
          "data": {
            "text/html": [
              "<div>\n",
              "<style scoped>\n",
              "    .dataframe tbody tr th:only-of-type {\n",
              "        vertical-align: middle;\n",
              "    }\n",
              "\n",
              "    .dataframe tbody tr th {\n",
              "        vertical-align: top;\n",
              "    }\n",
              "\n",
              "    .dataframe thead th {\n",
              "        text-align: right;\n",
              "    }\n",
              "</style>\n",
              "<table border=\"1\" class=\"dataframe\">\n",
              "  <thead>\n",
              "    <tr style=\"text-align: right;\">\n",
              "      <th></th>\n",
              "      <th>uid</th>\n",
              "      <th>topic_0</th>\n",
              "      <th>topic_1</th>\n",
              "      <th>topic_2</th>\n",
              "      <th>topic_3</th>\n",
              "      <th>topic_4</th>\n",
              "      <th>topic_5</th>\n",
              "      <th>topic_6</th>\n",
              "      <th>topic_7</th>\n",
              "      <th>topic_8</th>\n",
              "      <th>...</th>\n",
              "      <th>topic_16</th>\n",
              "      <th>topic_17</th>\n",
              "      <th>topic_18</th>\n",
              "      <th>topic_19</th>\n",
              "      <th>topic_20</th>\n",
              "      <th>topic_21</th>\n",
              "      <th>topic_22</th>\n",
              "      <th>topic_23</th>\n",
              "      <th>topic_24</th>\n",
              "      <th>churn</th>\n",
              "    </tr>\n",
              "  </thead>\n",
              "  <tbody>\n",
              "    <tr>\n",
              "      <th>0</th>\n",
              "      <td>u105138</td>\n",
              "      <td>0.056637</td>\n",
              "      <td>0.028127</td>\n",
              "      <td>0.104210</td>\n",
              "      <td>0.141299</td>\n",
              "      <td>0.018573</td>\n",
              "      <td>0.0</td>\n",
              "      <td>0.066158</td>\n",
              "      <td>0.163787</td>\n",
              "      <td>0.0</td>\n",
              "      <td>...</td>\n",
              "      <td>0.482036</td>\n",
              "      <td>0.464016</td>\n",
              "      <td>0.073142</td>\n",
              "      <td>0.220763</td>\n",
              "      <td>0.0</td>\n",
              "      <td>0.0</td>\n",
              "      <td>0.0</td>\n",
              "      <td>0.0</td>\n",
              "      <td>0.0</td>\n",
              "      <td>0</td>\n",
              "    </tr>\n",
              "    <tr>\n",
              "      <th>1</th>\n",
              "      <td>u108690</td>\n",
              "      <td>0.208900</td>\n",
              "      <td>0.064096</td>\n",
              "      <td>0.162494</td>\n",
              "      <td>0.035692</td>\n",
              "      <td>0.000000</td>\n",
              "      <td>0.0</td>\n",
              "      <td>0.000000</td>\n",
              "      <td>0.101846</td>\n",
              "      <td>0.0</td>\n",
              "      <td>...</td>\n",
              "      <td>0.380261</td>\n",
              "      <td>0.382289</td>\n",
              "      <td>0.106149</td>\n",
              "      <td>0.111077</td>\n",
              "      <td>0.0</td>\n",
              "      <td>0.0</td>\n",
              "      <td>0.0</td>\n",
              "      <td>0.0</td>\n",
              "      <td>0.0</td>\n",
              "      <td>1</td>\n",
              "    </tr>\n",
              "    <tr>\n",
              "      <th>2</th>\n",
              "      <td>u108339</td>\n",
              "      <td>0.238232</td>\n",
              "      <td>0.140733</td>\n",
              "      <td>0.140135</td>\n",
              "      <td>0.015752</td>\n",
              "      <td>0.000000</td>\n",
              "      <td>0.0</td>\n",
              "      <td>0.000000</td>\n",
              "      <td>0.194362</td>\n",
              "      <td>0.0</td>\n",
              "      <td>...</td>\n",
              "      <td>0.284444</td>\n",
              "      <td>0.271461</td>\n",
              "      <td>0.336620</td>\n",
              "      <td>0.245231</td>\n",
              "      <td>0.0</td>\n",
              "      <td>0.0</td>\n",
              "      <td>0.0</td>\n",
              "      <td>0.0</td>\n",
              "      <td>0.0</td>\n",
              "      <td>1</td>\n",
              "    </tr>\n",
              "  </tbody>\n",
              "</table>\n",
              "<p>3 rows × 27 columns</p>\n",
              "</div>"
            ],
            "text/plain": [
              "       uid   topic_0   topic_1   topic_2   topic_3   topic_4  topic_5  \\\n",
              "0  u105138  0.056637  0.028127  0.104210  0.141299  0.018573      0.0   \n",
              "1  u108690  0.208900  0.064096  0.162494  0.035692  0.000000      0.0   \n",
              "2  u108339  0.238232  0.140733  0.140135  0.015752  0.000000      0.0   \n",
              "\n",
              "    topic_6   topic_7  topic_8  ...  topic_16  topic_17  topic_18  topic_19  \\\n",
              "0  0.066158  0.163787      0.0  ...  0.482036  0.464016  0.073142  0.220763   \n",
              "1  0.000000  0.101846      0.0  ...  0.380261  0.382289  0.106149  0.111077   \n",
              "2  0.000000  0.194362      0.0  ...  0.284444  0.271461  0.336620  0.245231   \n",
              "\n",
              "   topic_20  topic_21  topic_22  topic_23  topic_24  churn  \n",
              "0       0.0       0.0       0.0       0.0       0.0      0  \n",
              "1       0.0       0.0       0.0       0.0       0.0      1  \n",
              "2       0.0       0.0       0.0       0.0       0.0      1  \n",
              "\n",
              "[3 rows x 27 columns]"
            ]
          },
          "execution_count": 107,
          "metadata": {},
          "output_type": "execute_result"
        }
      ],
      "source": [
        "X_mean = pd.merge(user_embeddings_mean, target, 'left')\n",
        "X.head(3)"
      ]
    },
    {
      "cell_type": "code",
      "execution_count": null,
      "id": "07662aab",
      "metadata": {
        "id": "07662aab",
        "outputId": "fa8961d7-349e-4977-dcfd-8ee79d94dab5"
      },
      "outputs": [
        {
          "data": {
            "text/html": [
              "<div>\n",
              "<style scoped>\n",
              "    .dataframe tbody tr th:only-of-type {\n",
              "        vertical-align: middle;\n",
              "    }\n",
              "\n",
              "    .dataframe tbody tr th {\n",
              "        vertical-align: top;\n",
              "    }\n",
              "\n",
              "    .dataframe thead th {\n",
              "        text-align: right;\n",
              "    }\n",
              "</style>\n",
              "<table border=\"1\" class=\"dataframe\">\n",
              "  <thead>\n",
              "    <tr style=\"text-align: right;\">\n",
              "      <th></th>\n",
              "      <th>uid</th>\n",
              "      <th>topic_0</th>\n",
              "      <th>topic_1</th>\n",
              "      <th>topic_2</th>\n",
              "      <th>topic_3</th>\n",
              "      <th>topic_4</th>\n",
              "      <th>topic_5</th>\n",
              "      <th>topic_6</th>\n",
              "      <th>topic_7</th>\n",
              "      <th>topic_8</th>\n",
              "      <th>...</th>\n",
              "      <th>topic_16</th>\n",
              "      <th>topic_17</th>\n",
              "      <th>topic_18</th>\n",
              "      <th>topic_19</th>\n",
              "      <th>topic_20</th>\n",
              "      <th>topic_21</th>\n",
              "      <th>topic_22</th>\n",
              "      <th>topic_23</th>\n",
              "      <th>topic_24</th>\n",
              "      <th>churn</th>\n",
              "    </tr>\n",
              "  </thead>\n",
              "  <tbody>\n",
              "    <tr>\n",
              "      <th>0</th>\n",
              "      <td>u105138</td>\n",
              "      <td>0.056637</td>\n",
              "      <td>0.028127</td>\n",
              "      <td>0.104210</td>\n",
              "      <td>0.141299</td>\n",
              "      <td>0.018573</td>\n",
              "      <td>0.0</td>\n",
              "      <td>0.066158</td>\n",
              "      <td>0.163787</td>\n",
              "      <td>0.0</td>\n",
              "      <td>...</td>\n",
              "      <td>0.482036</td>\n",
              "      <td>0.464016</td>\n",
              "      <td>0.073142</td>\n",
              "      <td>0.220763</td>\n",
              "      <td>0.0</td>\n",
              "      <td>0.0</td>\n",
              "      <td>0.0</td>\n",
              "      <td>0.0</td>\n",
              "      <td>0.0</td>\n",
              "      <td>0</td>\n",
              "    </tr>\n",
              "    <tr>\n",
              "      <th>1</th>\n",
              "      <td>u108690</td>\n",
              "      <td>0.208900</td>\n",
              "      <td>0.064096</td>\n",
              "      <td>0.162494</td>\n",
              "      <td>0.035692</td>\n",
              "      <td>0.000000</td>\n",
              "      <td>0.0</td>\n",
              "      <td>0.000000</td>\n",
              "      <td>0.101846</td>\n",
              "      <td>0.0</td>\n",
              "      <td>...</td>\n",
              "      <td>0.380261</td>\n",
              "      <td>0.382289</td>\n",
              "      <td>0.106149</td>\n",
              "      <td>0.111077</td>\n",
              "      <td>0.0</td>\n",
              "      <td>0.0</td>\n",
              "      <td>0.0</td>\n",
              "      <td>0.0</td>\n",
              "      <td>0.0</td>\n",
              "      <td>1</td>\n",
              "    </tr>\n",
              "    <tr>\n",
              "      <th>2</th>\n",
              "      <td>u108339</td>\n",
              "      <td>0.238232</td>\n",
              "      <td>0.140733</td>\n",
              "      <td>0.140135</td>\n",
              "      <td>0.015752</td>\n",
              "      <td>0.000000</td>\n",
              "      <td>0.0</td>\n",
              "      <td>0.000000</td>\n",
              "      <td>0.194362</td>\n",
              "      <td>0.0</td>\n",
              "      <td>...</td>\n",
              "      <td>0.284444</td>\n",
              "      <td>0.271461</td>\n",
              "      <td>0.336620</td>\n",
              "      <td>0.245231</td>\n",
              "      <td>0.0</td>\n",
              "      <td>0.0</td>\n",
              "      <td>0.0</td>\n",
              "      <td>0.0</td>\n",
              "      <td>0.0</td>\n",
              "      <td>1</td>\n",
              "    </tr>\n",
              "  </tbody>\n",
              "</table>\n",
              "<p>3 rows × 27 columns</p>\n",
              "</div>"
            ],
            "text/plain": [
              "       uid   topic_0   topic_1   topic_2   topic_3   topic_4  topic_5  \\\n",
              "0  u105138  0.056637  0.028127  0.104210  0.141299  0.018573      0.0   \n",
              "1  u108690  0.208900  0.064096  0.162494  0.035692  0.000000      0.0   \n",
              "2  u108339  0.238232  0.140733  0.140135  0.015752  0.000000      0.0   \n",
              "\n",
              "    topic_6   topic_7  topic_8  ...  topic_16  topic_17  topic_18  topic_19  \\\n",
              "0  0.066158  0.163787      0.0  ...  0.482036  0.464016  0.073142  0.220763   \n",
              "1  0.000000  0.101846      0.0  ...  0.380261  0.382289  0.106149  0.111077   \n",
              "2  0.000000  0.194362      0.0  ...  0.284444  0.271461  0.336620  0.245231   \n",
              "\n",
              "   topic_20  topic_21  topic_22  topic_23  topic_24  churn  \n",
              "0       0.0       0.0       0.0       0.0       0.0      0  \n",
              "1       0.0       0.0       0.0       0.0       0.0      1  \n",
              "2       0.0       0.0       0.0       0.0       0.0      1  \n",
              "\n",
              "[3 rows x 27 columns]"
            ]
          },
          "execution_count": 108,
          "metadata": {},
          "output_type": "execute_result"
        }
      ],
      "source": [
        "X_median = pd.merge(user_embeddings_median, target, 'left')\n",
        "X.head(3)"
      ]
    },
    {
      "cell_type": "code",
      "execution_count": null,
      "id": "a4b01cab",
      "metadata": {
        "id": "a4b01cab",
        "outputId": "787ffdb2-47ed-4da8-f3dc-98cb34d21498"
      },
      "outputs": [
        {
          "data": {
            "text/html": [
              "<div>\n",
              "<style scoped>\n",
              "    .dataframe tbody tr th:only-of-type {\n",
              "        vertical-align: middle;\n",
              "    }\n",
              "\n",
              "    .dataframe tbody tr th {\n",
              "        vertical-align: top;\n",
              "    }\n",
              "\n",
              "    .dataframe thead th {\n",
              "        text-align: right;\n",
              "    }\n",
              "</style>\n",
              "<table border=\"1\" class=\"dataframe\">\n",
              "  <thead>\n",
              "    <tr style=\"text-align: right;\">\n",
              "      <th></th>\n",
              "      <th>uid</th>\n",
              "      <th>topic_0</th>\n",
              "      <th>topic_1</th>\n",
              "      <th>topic_2</th>\n",
              "      <th>topic_3</th>\n",
              "      <th>topic_4</th>\n",
              "      <th>topic_5</th>\n",
              "      <th>topic_6</th>\n",
              "      <th>topic_7</th>\n",
              "      <th>topic_8</th>\n",
              "      <th>...</th>\n",
              "      <th>topic_16</th>\n",
              "      <th>topic_17</th>\n",
              "      <th>topic_18</th>\n",
              "      <th>topic_19</th>\n",
              "      <th>topic_20</th>\n",
              "      <th>topic_21</th>\n",
              "      <th>topic_22</th>\n",
              "      <th>topic_23</th>\n",
              "      <th>topic_24</th>\n",
              "      <th>churn</th>\n",
              "    </tr>\n",
              "  </thead>\n",
              "  <tbody>\n",
              "    <tr>\n",
              "      <th>0</th>\n",
              "      <td>u105138</td>\n",
              "      <td>0.056637</td>\n",
              "      <td>0.028127</td>\n",
              "      <td>0.104210</td>\n",
              "      <td>0.141299</td>\n",
              "      <td>0.018573</td>\n",
              "      <td>0.0</td>\n",
              "      <td>0.066158</td>\n",
              "      <td>0.163787</td>\n",
              "      <td>0.0</td>\n",
              "      <td>...</td>\n",
              "      <td>0.482036</td>\n",
              "      <td>0.464016</td>\n",
              "      <td>0.073142</td>\n",
              "      <td>0.220763</td>\n",
              "      <td>0.0</td>\n",
              "      <td>0.0</td>\n",
              "      <td>0.0</td>\n",
              "      <td>0.0</td>\n",
              "      <td>0.0</td>\n",
              "      <td>0</td>\n",
              "    </tr>\n",
              "    <tr>\n",
              "      <th>1</th>\n",
              "      <td>u108690</td>\n",
              "      <td>0.208900</td>\n",
              "      <td>0.064096</td>\n",
              "      <td>0.162494</td>\n",
              "      <td>0.035692</td>\n",
              "      <td>0.000000</td>\n",
              "      <td>0.0</td>\n",
              "      <td>0.000000</td>\n",
              "      <td>0.101846</td>\n",
              "      <td>0.0</td>\n",
              "      <td>...</td>\n",
              "      <td>0.380261</td>\n",
              "      <td>0.382289</td>\n",
              "      <td>0.106149</td>\n",
              "      <td>0.111077</td>\n",
              "      <td>0.0</td>\n",
              "      <td>0.0</td>\n",
              "      <td>0.0</td>\n",
              "      <td>0.0</td>\n",
              "      <td>0.0</td>\n",
              "      <td>1</td>\n",
              "    </tr>\n",
              "    <tr>\n",
              "      <th>2</th>\n",
              "      <td>u108339</td>\n",
              "      <td>0.238232</td>\n",
              "      <td>0.140733</td>\n",
              "      <td>0.140135</td>\n",
              "      <td>0.015752</td>\n",
              "      <td>0.000000</td>\n",
              "      <td>0.0</td>\n",
              "      <td>0.000000</td>\n",
              "      <td>0.194362</td>\n",
              "      <td>0.0</td>\n",
              "      <td>...</td>\n",
              "      <td>0.284444</td>\n",
              "      <td>0.271461</td>\n",
              "      <td>0.336620</td>\n",
              "      <td>0.245231</td>\n",
              "      <td>0.0</td>\n",
              "      <td>0.0</td>\n",
              "      <td>0.0</td>\n",
              "      <td>0.0</td>\n",
              "      <td>0.0</td>\n",
              "      <td>1</td>\n",
              "    </tr>\n",
              "  </tbody>\n",
              "</table>\n",
              "<p>3 rows × 27 columns</p>\n",
              "</div>"
            ],
            "text/plain": [
              "       uid   topic_0   topic_1   topic_2   topic_3   topic_4  topic_5  \\\n",
              "0  u105138  0.056637  0.028127  0.104210  0.141299  0.018573      0.0   \n",
              "1  u108690  0.208900  0.064096  0.162494  0.035692  0.000000      0.0   \n",
              "2  u108339  0.238232  0.140733  0.140135  0.015752  0.000000      0.0   \n",
              "\n",
              "    topic_6   topic_7  topic_8  ...  topic_16  topic_17  topic_18  topic_19  \\\n",
              "0  0.066158  0.163787      0.0  ...  0.482036  0.464016  0.073142  0.220763   \n",
              "1  0.000000  0.101846      0.0  ...  0.380261  0.382289  0.106149  0.111077   \n",
              "2  0.000000  0.194362      0.0  ...  0.284444  0.271461  0.336620  0.245231   \n",
              "\n",
              "   topic_20  topic_21  topic_22  topic_23  topic_24  churn  \n",
              "0       0.0       0.0       0.0       0.0       0.0      0  \n",
              "1       0.0       0.0       0.0       0.0       0.0      1  \n",
              "2       0.0       0.0       0.0       0.0       0.0      1  \n",
              "\n",
              "[3 rows x 27 columns]"
            ]
          },
          "execution_count": 109,
          "metadata": {},
          "output_type": "execute_result"
        }
      ],
      "source": [
        "X_max = pd.merge(user_embeddings_max, target, 'left')\n",
        "X.head(3)"
      ]
    },
    {
      "cell_type": "code",
      "execution_count": null,
      "id": "67ab97a1",
      "metadata": {
        "id": "67ab97a1"
      },
      "outputs": [],
      "source": [
        "from sklearn.linear_model import LogisticRegression\n",
        "from sklearn.model_selection import train_test_split\n",
        "import itertools\n",
        "\n",
        "import matplotlib.pyplot as plt\n",
        "\n",
        "%matplotlib inline"
      ]
    },
    {
      "cell_type": "code",
      "execution_count": null,
      "id": "da691f77",
      "metadata": {
        "id": "da691f77"
      },
      "outputs": [],
      "source": [
        "#разделим данные на train/test\n",
        "X_train_me, X_test_me, y_train_me, y_test_me = train_test_split(X_mean[['topic_{}'.format(i) for i in range(25)]], \n",
        "                                                    X_mean['churn'], random_state=0)"
      ]
    },
    {
      "cell_type": "code",
      "execution_count": null,
      "id": "745d7d5f",
      "metadata": {
        "id": "745d7d5f"
      },
      "outputs": [],
      "source": [
        "X_train_md, X_test_md, y_train_md, y_test_md = train_test_split(X_median[['topic_{}'.format(i) for i in range(25)]], \n",
        "                                                    X_median['churn'], random_state=0)"
      ]
    },
    {
      "cell_type": "code",
      "execution_count": null,
      "id": "86928a45",
      "metadata": {
        "id": "86928a45"
      },
      "outputs": [],
      "source": [
        "X_train_mx, X_test_mx, y_train_mx, y_test_mx = train_test_split(X_max[['topic_{}'.format(i) for i in range(25)]], \n",
        "                                                    X_max['churn'], random_state=0)"
      ]
    },
    {
      "cell_type": "code",
      "execution_count": null,
      "id": "b3c65207",
      "metadata": {
        "id": "b3c65207",
        "outputId": "bd7d221a-062a-4b6f-cf6c-20c42a9eee23"
      },
      "outputs": [
        {
          "data": {
            "text/plain": [
              "LogisticRegression()"
            ]
          },
          "execution_count": 119,
          "metadata": {},
          "output_type": "execute_result"
        }
      ],
      "source": [
        "# mean\n",
        "logreg_me = LogisticRegression()\n",
        "#обучим наш пайплайн\n",
        "logreg_me.fit(X_train_me, y_train_me)"
      ]
    },
    {
      "cell_type": "code",
      "execution_count": null,
      "id": "01fd2ff5",
      "metadata": {
        "id": "01fd2ff5",
        "outputId": "a8a20cba-e024-410c-e1b7-8867a7138b80"
      },
      "outputs": [
        {
          "data": {
            "text/plain": [
              "LogisticRegression()"
            ]
          },
          "execution_count": 120,
          "metadata": {},
          "output_type": "execute_result"
        }
      ],
      "source": [
        "# median\n",
        "logreg_md = LogisticRegression()\n",
        "#обучим наш пайплайн\n",
        "logreg_md.fit(X_train_md, y_train_md)"
      ]
    },
    {
      "cell_type": "code",
      "execution_count": null,
      "id": "77e87dc3",
      "metadata": {
        "id": "77e87dc3",
        "outputId": "e1c679e9-5ec1-4b28-80be-6592f5a9ddd6"
      },
      "outputs": [
        {
          "data": {
            "text/plain": [
              "LogisticRegression()"
            ]
          },
          "execution_count": 121,
          "metadata": {},
          "output_type": "execute_result"
        }
      ],
      "source": [
        "# max\n",
        "logreg_mx = LogisticRegression()\n",
        "#обучим наш пайплайн\n",
        "logreg_mx.fit(X_train_mx, y_train_mx)"
      ]
    },
    {
      "cell_type": "code",
      "execution_count": null,
      "id": "7e28caab",
      "metadata": {
        "id": "7e28caab",
        "outputId": "0f3e7bf2-132e-4d79-ffeb-0d669182940a"
      },
      "outputs": [
        {
          "data": {
            "text/plain": [
              "array([0.17222877, 0.03867772, 0.38512094, 0.05206532, 0.07504593,\n",
              "       0.04406626, 0.30099227, 0.02714468, 0.05477767, 0.06066062])"
            ]
          },
          "execution_count": 122,
          "metadata": {},
          "output_type": "execute_result"
        }
      ],
      "source": [
        "#наши прогнозы для тестовой выборки\n",
        "preds_mean = logreg_me.predict_proba(X_test_me)[:, 1]\n",
        "preds_mean[:10]"
      ]
    },
    {
      "cell_type": "code",
      "execution_count": null,
      "id": "eb823e7c",
      "metadata": {
        "id": "eb823e7c",
        "outputId": "62bd73ee-1a37-4ec2-a31c-6f7778c65919"
      },
      "outputs": [
        {
          "data": {
            "text/plain": [
              "array([0.13759608, 0.00955166, 0.3336151 , 0.08939747, 0.01436331,\n",
              "       0.03679763, 0.11744584, 0.01955847, 0.09713733, 0.09519959])"
            ]
          },
          "execution_count": 123,
          "metadata": {},
          "output_type": "execute_result"
        }
      ],
      "source": [
        "preds_median = logreg_md.predict_proba(X_test_md)[:, 1]\n",
        "preds_median[:10]"
      ]
    },
    {
      "cell_type": "code",
      "execution_count": null,
      "id": "5168c904",
      "metadata": {
        "id": "5168c904",
        "outputId": "c9f2cdd1-0153-4808-c37f-790b05e22065"
      },
      "outputs": [
        {
          "data": {
            "text/plain": [
              "array([0.04597525, 0.00818244, 0.67729076, 0.0156454 , 0.06202828,\n",
              "       0.00910168, 0.43955813, 0.00794598, 0.04060681, 0.11507937])"
            ]
          },
          "execution_count": 124,
          "metadata": {},
          "output_type": "execute_result"
        }
      ],
      "source": [
        "preds_max = logreg_mx.predict_proba(X_test_mx)[:, 1]\n",
        "preds_max[:10]"
      ]
    },
    {
      "cell_type": "code",
      "execution_count": null,
      "id": "0da8894b",
      "metadata": {
        "id": "0da8894b"
      },
      "outputs": [],
      "source": [
        "from sklearn.metrics import f1_score, roc_auc_score, precision_score, classification_report, precision_recall_curve, confusion_matrix"
      ]
    },
    {
      "cell_type": "markdown",
      "id": "b70822da",
      "metadata": {
        "id": "b70822da"
      },
      "source": [
        "### Рассчитаем Precision, Recall, F_score"
      ]
    },
    {
      "cell_type": "code",
      "execution_count": null,
      "id": "7272d916",
      "metadata": {
        "id": "7272d916",
        "outputId": "8b4dc860-3dc5-4de0-f850-2ec940f3fb21"
      },
      "outputs": [
        {
          "name": "stdout",
          "output_type": "stream",
          "text": [
            "Best Threshold=0.269599, F-Score=0.643, Precision=0.585, Recall=0.714\n"
          ]
        }
      ],
      "source": [
        "# mean\n",
        "precision, recall, thresholds = precision_recall_curve(y_test_me, preds_mean)\n",
        "fscore = (2 * precision * recall) / (precision + recall)\n",
        "# locate the index of the largest f score\n",
        "ix = np.argmax(fscore)\n",
        "print('Best Threshold=%f, F-Score=%.3f, Precision=%.3f, Recall=%.3f' % (thresholds[ix], \n",
        "                                                                        fscore[ix],\n",
        "                                                                        precision[ix],\n",
        "                                                                        recall[ix]))"
      ]
    },
    {
      "cell_type": "code",
      "execution_count": null,
      "id": "ee28e340",
      "metadata": {
        "id": "ee28e340",
        "outputId": "3c85e6f7-7f83-45e1-ea03-fe418ca23248"
      },
      "outputs": [
        {
          "name": "stdout",
          "output_type": "stream",
          "text": [
            "Best Threshold=0.293772, F-Score=0.726, Precision=0.702, Recall=0.751\n"
          ]
        }
      ],
      "source": [
        "# median\n",
        "precision, recall, thresholds = precision_recall_curve(y_test_md, preds_median)\n",
        "fscore = (2 * precision * recall) / (precision + recall)\n",
        "# locate the index of the largest f score\n",
        "ix = np.argmax(fscore)\n",
        "print('Best Threshold=%f, F-Score=%.3f, Precision=%.3f, Recall=%.3f' % (thresholds[ix], \n",
        "                                                                        fscore[ix],\n",
        "                                                                        precision[ix],\n",
        "                                                                        recall[ix]))"
      ]
    },
    {
      "cell_type": "code",
      "execution_count": null,
      "id": "06e21bef",
      "metadata": {
        "id": "06e21bef",
        "outputId": "fb1707b2-9edf-4f0e-86ab-d0e8ebafa3f5"
      },
      "outputs": [
        {
          "name": "stdout",
          "output_type": "stream",
          "text": [
            "Best Threshold=0.305761, F-Score=0.700, Precision=0.635, Recall=0.780\n"
          ]
        }
      ],
      "source": [
        "# max\n",
        "precision, recall, thresholds = precision_recall_curve(y_test_mx, preds_max)\n",
        "fscore = (2 * precision * recall) / (precision + recall)\n",
        "# locate the index of the largest f score\n",
        "ix = np.argmax(fscore)\n",
        "print('Best Threshold=%f, F-Score=%.3f, Precision=%.3f, Recall=%.3f' % (thresholds[ix], \n",
        "                                                                        fscore[ix],\n",
        "                                                                        precision[ix],\n",
        "                                                                        recall[ix]))"
      ]
    },
    {
      "cell_type": "code",
      "execution_count": null,
      "id": "5fe08958",
      "metadata": {
        "id": "5fe08958"
      },
      "outputs": [],
      "source": [
        "def plot_confusion_matrix(cm, classes,\n",
        "                          normalize=False,\n",
        "                          title='Confusion matrix',\n",
        "                          cmap=plt.cm.Blues):\n",
        "    \"\"\"\n",
        "    This function prints and plots the confusion matrix.\n",
        "    Normalization can be applied by setting `normalize=True`.\n",
        "    \"\"\"\n",
        "    plt.imshow(cm, interpolation='nearest', cmap=cmap)\n",
        "    plt.title(title)\n",
        "    plt.colorbar()\n",
        "    tick_marks = np.arange(len(classes))\n",
        "    plt.xticks(tick_marks, classes, rotation=45)\n",
        "    plt.yticks(tick_marks, classes)\n",
        "\n",
        "    if normalize:\n",
        "        cm = cm.astype('float') / cm.sum(axis=1)[:, np.newaxis]\n",
        "        print(\"Normalized confusion matrix\")\n",
        "    else:\n",
        "        print('Confusion matrix, without normalization')\n",
        "\n",
        "    print(cm)\n",
        "\n",
        "    thresh = cm.max() / 2.\n",
        "    for i, j in itertools.product(range(cm.shape[0]), range(cm.shape[1])):\n",
        "        plt.text(j, i, cm[i, j],\n",
        "                 horizontalalignment=\"center\",\n",
        "                 color=\"white\" if cm[i, j] > thresh else \"black\")\n",
        "\n",
        "    plt.tight_layout()\n",
        "    plt.ylabel('True label')\n",
        "    plt.xlabel('Predicted label')"
      ]
    },
    {
      "cell_type": "code",
      "execution_count": null,
      "id": "0dfbee6b",
      "metadata": {
        "id": "0dfbee6b",
        "outputId": "28caa276-bf09-40db-a999-59c14b6839ab"
      },
      "outputs": [
        {
          "name": "stdout",
          "output_type": "stream",
          "text": [
            "Confusion matrix, without normalization\n",
            "[[1656   99]\n",
            " [ 104  141]]\n"
          ]
        },
        {
          "data": {
            "image/png": "[encoded data removed]",
            "text/plain": [
              "<Figure size 720x576 with 2 Axes>"
            ]
          },
          "metadata": {
            "needs_background": "light"
          },
          "output_type": "display_data"
        }
      ],
      "source": [
        "#мы уже нашли ранее \"оптимальный\" порог, когда максимизировали f_score\n",
        "# mean\n",
        "font = {'size' : 15}\n",
        "\n",
        "plt.rc('font', **font)\n",
        "\n",
        "cnf_matrix_me = confusion_matrix(y_test_me, preds_mean>thresholds[ix])\n",
        "plt.figure(figsize=(10, 8))\n",
        "plot_confusion_matrix(cnf_matrix_me, classes=['Non-Churn', 'churn'],\n",
        "                      title='Confusion matrix')\n",
        "plt.savefig(\"conf_matrix_me.png\")\n",
        "plt.show()"
      ]
    },
    {
      "cell_type": "code",
      "execution_count": null,
      "id": "42ba9be0",
      "metadata": {
        "id": "42ba9be0",
        "outputId": "fb39bdb5-582a-40c4-da7a-bbb5cc805a9c"
      },
      "outputs": [
        {
          "name": "stdout",
          "output_type": "stream",
          "text": [
            "Confusion matrix, without normalization\n",
            "[[1686   69]\n",
            " [  72  173]]\n"
          ]
        },
        {
          "data": {
            "image/png": "[encoded data removed]",
            "text/plain": [
              "<Figure size 720x576 with 2 Axes>"
            ]
          },
          "metadata": {
            "needs_background": "light"
          },
          "output_type": "display_data"
        }
      ],
      "source": [
        "# median\n",
        "font = {'size' : 15}\n",
        "\n",
        "plt.rc('font', **font)\n",
        "\n",
        "cnf_matrix_md = confusion_matrix(y_test_md, preds_median>thresholds[ix])\n",
        "plt.figure(figsize=(10, 8))\n",
        "plot_confusion_matrix(cnf_matrix_md, classes=['Non-Churn', 'churn'],\n",
        "                      title='Confusion matrix')\n",
        "plt.savefig(\"conf_matrix_md.png\")\n",
        "plt.show()"
      ]
    },
    {
      "cell_type": "code",
      "execution_count": null,
      "id": "4056049e",
      "metadata": {
        "id": "4056049e",
        "outputId": "33850228-425c-4589-b16f-adfdcb48d02a"
      },
      "outputs": [
        {
          "name": "stdout",
          "output_type": "stream",
          "text": [
            "Confusion matrix, without normalization\n",
            "[[1645  110]\n",
            " [  55  190]]\n"
          ]
        },
        {
          "data": {
            "image/png": "[encoded data removed]",
            "text/plain": [
              "<Figure size 720x576 with 2 Axes>"
            ]
          },
          "metadata": {
            "needs_background": "light"
          },
          "output_type": "display_data"
        }
      ],
      "source": [
        "# max\n",
        "font = {'size' : 15}\n",
        "\n",
        "plt.rc('font', **font)\n",
        "\n",
        "cnf_matrix_mx = confusion_matrix(y_test_mx, preds_max>thresholds[ix])\n",
        "plt.figure(figsize=(10, 8))\n",
        "plot_confusion_matrix(cnf_matrix_mx, classes=['Non-Churn', 'churn'],\n",
        "                      title='Confusion matrix')\n",
        "plt.savefig(\"conf_matrix_mx.png\")\n",
        "plt.show()"
      ]
    },
    {
      "cell_type": "code",
      "execution_count": null,
      "id": "b21f7547",
      "metadata": {
        "id": "b21f7547"
      },
      "outputs": [],
      "source": [
        "def metrics_calculation(y_test, preds):\n",
        "\n",
        "    roc_auc = roc_auc_score(y_test, preds)\n",
        "    precision, recall, thresholds = precision_recall_curve(y_test, preds)\n",
        "    fscore = (2 * precision * recall) / (precision + recall)\n",
        "    # locate the index of the largest f score\n",
        "    ix = np.argmax(fscore)\n",
        "    return thresholds[ix], fscore[ix], precision[ix], recall[ix], roc_auc"
      ]
    },
    {
      "cell_type": "code",
      "execution_count": null,
      "id": "af5d6dac",
      "metadata": {
        "id": "af5d6dac"
      },
      "outputs": [],
      "source": [
        "all_preds = [preds_mean, preds_median, preds_max]\n",
        "metrics = []\n",
        "for preds in all_preds:\n",
        "    best_threshold, fscore, precision, recall, roc_auc = metrics_calculation(y_test, preds)\n",
        "    metrics.append([fscore, precision, recall, roc_auc])"
      ]
    },
    {
      "cell_type": "code",
      "execution_count": null,
      "id": "e0c78356",
      "metadata": {
        "id": "e0c78356",
        "outputId": "2dca376a-07dc-4e7a-e37e-722a51e4d1ae"
      },
      "outputs": [
        {
          "data": {
            "text/html": [
              "<div>\n",
              "<style scoped>\n",
              "    .dataframe tbody tr th:only-of-type {\n",
              "        vertical-align: middle;\n",
              "    }\n",
              "\n",
              "    .dataframe tbody tr th {\n",
              "        vertical-align: top;\n",
              "    }\n",
              "\n",
              "    .dataframe thead th {\n",
              "        text-align: right;\n",
              "    }\n",
              "</style>\n",
              "<table border=\"1\" class=\"dataframe\">\n",
              "  <thead>\n",
              "    <tr style=\"text-align: right;\">\n",
              "      <th></th>\n",
              "      <th>fscore</th>\n",
              "      <th>precision</th>\n",
              "      <th>recall</th>\n",
              "      <th>roc_auc</th>\n",
              "    </tr>\n",
              "  </thead>\n",
              "  <tbody>\n",
              "    <tr>\n",
              "      <th>preds_mean</th>\n",
              "      <td>0.643382</td>\n",
              "      <td>0.585284</td>\n",
              "      <td>0.714286</td>\n",
              "      <td>0.934540</td>\n",
              "    </tr>\n",
              "    <tr>\n",
              "      <th>preds_median</th>\n",
              "      <td>0.725838</td>\n",
              "      <td>0.702290</td>\n",
              "      <td>0.751020</td>\n",
              "      <td>0.951927</td>\n",
              "    </tr>\n",
              "    <tr>\n",
              "      <th>preds_max</th>\n",
              "      <td>0.699634</td>\n",
              "      <td>0.634551</td>\n",
              "      <td>0.779592</td>\n",
              "      <td>0.946515</td>\n",
              "    </tr>\n",
              "  </tbody>\n",
              "</table>\n",
              "</div>"
            ],
            "text/plain": [
              "                fscore  precision    recall   roc_auc\n",
              "preds_mean    0.643382   0.585284  0.714286  0.934540\n",
              "preds_median  0.725838   0.702290  0.751020  0.951927\n",
              "preds_max     0.699634   0.634551  0.779592  0.946515"
            ]
          },
          "execution_count": 138,
          "metadata": {},
          "output_type": "execute_result"
        }
      ],
      "source": [
        "metrics_df = pd.DataFrame(np.array(metrics),\n",
        "                   columns=['fscore', 'precision', 'recall', 'roc_auc'],\n",
        "                   index=['preds_mean', 'preds_median', 'preds_max'])\n",
        "metrics_df"
      ]
    },
    {
      "cell_type": "code",
      "execution_count": null,
      "id": "41d3e467",
      "metadata": {
        "id": "41d3e467"
      },
      "outputs": [],
      "source": [
        ""
      ]
    }
  ],
  "metadata": {
    "kernelspec": {
      "display_name": "Python 3",
      "language": "python",
      "name": "python3"
    },
    "language_info": {
      "codemirror_mode": {
        "name": "ipython",
        "version": 3
      },
      "file_extension": ".py",
      "mimetype": "text/x-python",
      "name": "python",
      "nbconvert_exporter": "python",
      "pygments_lexer": "ipython3",
      "version": "3.8.8"
    },
    "colab": {
      "name": "HW_2_A.Gorokhova.ipynb",
      "provenance": [],
      "include_colab_link": true
    }
  },
  "nbformat": 4,
  "nbformat_minor": 5
}