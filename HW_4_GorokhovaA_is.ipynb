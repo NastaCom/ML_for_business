{
  "cells": [
    {
      "cell_type": "markdown",
      "metadata": {
        "id": "view-in-github",
        "colab_type": "text"
      },
      "source": [
        "<a href=\"https://colab.research.google.com/github/NastaCom/ML_for_business/blob/main/HW_4_GorokhovaA_is.ipynb\" target=\"_parent\"><img src=\"https://colab.research.google.com/assets/colab-badge.svg\" alt=\"Open In Colab\"/></a>"
      ]
    },
    {
      "cell_type": "markdown",
      "id": "5f49c293",
      "metadata": {
        "id": "5f49c293"
      },
      "source": [
        "### Домашнее задание"
      ]
    },
    {
      "cell_type": "markdown",
      "id": "128f292e",
      "metadata": {
        "id": "128f292e"
      },
      "source": [
        "1. скачать набор данных маркетинговых кампаний отсюда https://www.kaggle.com/davinwijaya/customer-retention\n",
        "2. поле conversion - это целевая переменная, а offer - коммуникация. Переименовать поля (conversion -> target, offer -> treatment) и привести поле treatment к бинарному виду (1 или 0, т.е было какое-то предложение или нет) - значение No Offer означает отсутствие коммуникации, а все остальные - наличие.\n",
        "3. сделать разбиение набора данных не тренировочную и тестовую выборки\n",
        "4. провести uplift-моделирование 3 способами:\n",
        "    1. одна модель с признаком коммуникации (S-learner)\n",
        "    2. модель с трансформацией таргета\n",
        "    3. вариант с двумя независимыми моделями\n",
        "5. в конце вывести единую таблицу сравнения метрик uplift@10%, uplift@20% 3 моделей\n",
        "6. *для модели S-learner построить зависимость таргета (конверсии - поле conversion) от значения uplift:\n",
        "    1. сделать прогноз и получить uplift для тестовой выборки\n",
        "    2. отсортировать тестовую выборку по uplift по убыванию\n",
        "    3. разбить на децили (pandas qcut вам в помощь)\n",
        "    4. для каждого дециля посчитать среднюю conversion"
      ]
    },
    {
      "cell_type": "raw",
      "id": "1fbb8856",
      "metadata": {
        "id": "1fbb8856"
      },
      "source": [
        "##### О наборе данных\n",
        "Контекст\n",
        "Маркетинговая рекламная кампания\n",
        "с данными о 6400 клиентах.\n",
        "\n",
        "##### Содержание\n",
        "Этот набор данных показывает краткую информацию о клиенте,\n",
        "историческое использование скидки или акции BOGO (Купи один, получи один),\n",
        "предложение было сделано, и результат конвертации(купить или нет).\n",
        "Средняя ценность конверсии = 25 долларов США.\n",
        "\n",
        "Этот набор данных является вымышленным набором данных для практических целей.\n",
        "\n",
        "##### Цель\n",
        "Прогнозировать коэффициент конверсии клиента\n",
        "Повышение эффективности моделирования для максимизации эффективности маркетинговой кампании и снижения ее стоимости"
      ]
    },
    {
      "cell_type": "markdown",
      "id": "7f8de25d",
      "metadata": {
        "id": "7f8de25d"
      },
      "source": [
        "### Уж очень хочется вначале посмотреть на данные. Поэтому вначале прочитаю файл, а затем импортирую все необходимые библиотеки для работы"
      ]
    },
    {
      "cell_type": "markdown",
      "id": "0e827afc",
      "metadata": {
        "id": "0e827afc"
      },
      "source": [
        "##### а еще мне удобно писать шпаргалки по признакам\n",
        "recency - месяцев с момента последней покупки\n",
        "\n",
        "history - стоимость исторических покупок\n",
        "\n",
        "used_discount - указывает, использовал ли клиент скидку до\n",
        "\n",
        "used_bogo - указывает, использовал ли клиент функцию «купить, получить, прежде чем»\n",
        "\n",
        "zip_code - класс почтового индекса как пригородный / городской / сельский\n",
        "\n",
        "is_referral - указывает, был ли клиент привлечен по реферальному каналу\n",
        "\n",
        "channel - каналы, которые использует клиент, телефон/веб/многоканальный\n",
        "\n",
        "offer - предложения, отправленные клиентам, скидка / но один получает один / нет предложения\n",
        "\n",
        "conversion - конверсия клиента (купит или нет)"
      ]
    },
    {
      "cell_type": "code",
      "execution_count": null,
      "id": "3c85ffd2",
      "metadata": {
        "id": "3c85ffd2"
      },
      "outputs": [],
      "source": [
        "import pandas as pd"
      ]
    },
    {
      "cell_type": "code",
      "execution_count": null,
      "id": "7d9818b9",
      "metadata": {
        "id": "7d9818b9",
        "outputId": "5073c992-362a-4b99-dba8-8d0527d1c6ee"
      },
      "outputs": [
        {
          "data": {
            "text/html": [
              "<div>\n",
              "<style scoped>\n",
              "    .dataframe tbody tr th:only-of-type {\n",
              "        vertical-align: middle;\n",
              "    }\n",
              "\n",
              "    .dataframe tbody tr th {\n",
              "        vertical-align: top;\n",
              "    }\n",
              "\n",
              "    .dataframe thead th {\n",
              "        text-align: right;\n",
              "    }\n",
              "</style>\n",
              "<table border=\"1\" class=\"dataframe\">\n",
              "  <thead>\n",
              "    <tr style=\"text-align: right;\">\n",
              "      <th></th>\n",
              "      <th>recency</th>\n",
              "      <th>history</th>\n",
              "      <th>used_discount</th>\n",
              "      <th>used_bogo</th>\n",
              "      <th>zip_code</th>\n",
              "      <th>is_referral</th>\n",
              "      <th>channel</th>\n",
              "      <th>offer</th>\n",
              "      <th>conversion</th>\n",
              "    </tr>\n",
              "  </thead>\n",
              "  <tbody>\n",
              "    <tr>\n",
              "      <th>0</th>\n",
              "      <td>10</td>\n",
              "      <td>142.44</td>\n",
              "      <td>1</td>\n",
              "      <td>0</td>\n",
              "      <td>Surburban</td>\n",
              "      <td>0</td>\n",
              "      <td>Phone</td>\n",
              "      <td>Buy One Get One</td>\n",
              "      <td>0</td>\n",
              "    </tr>\n",
              "    <tr>\n",
              "      <th>1</th>\n",
              "      <td>6</td>\n",
              "      <td>329.08</td>\n",
              "      <td>1</td>\n",
              "      <td>1</td>\n",
              "      <td>Rural</td>\n",
              "      <td>1</td>\n",
              "      <td>Web</td>\n",
              "      <td>No Offer</td>\n",
              "      <td>0</td>\n",
              "    </tr>\n",
              "    <tr>\n",
              "      <th>2</th>\n",
              "      <td>7</td>\n",
              "      <td>180.65</td>\n",
              "      <td>0</td>\n",
              "      <td>1</td>\n",
              "      <td>Surburban</td>\n",
              "      <td>1</td>\n",
              "      <td>Web</td>\n",
              "      <td>Buy One Get One</td>\n",
              "      <td>0</td>\n",
              "    </tr>\n",
              "    <tr>\n",
              "      <th>3</th>\n",
              "      <td>9</td>\n",
              "      <td>675.83</td>\n",
              "      <td>1</td>\n",
              "      <td>0</td>\n",
              "      <td>Rural</td>\n",
              "      <td>1</td>\n",
              "      <td>Web</td>\n",
              "      <td>Discount</td>\n",
              "      <td>0</td>\n",
              "    </tr>\n",
              "    <tr>\n",
              "      <th>4</th>\n",
              "      <td>2</td>\n",
              "      <td>45.34</td>\n",
              "      <td>1</td>\n",
              "      <td>0</td>\n",
              "      <td>Urban</td>\n",
              "      <td>0</td>\n",
              "      <td>Web</td>\n",
              "      <td>Buy One Get One</td>\n",
              "      <td>0</td>\n",
              "    </tr>\n",
              "  </tbody>\n",
              "</table>\n",
              "</div>"
            ],
            "text/plain": [
              "   recency  history  used_discount  used_bogo   zip_code  is_referral channel  \\\n",
              "0       10   142.44              1          0  Surburban            0   Phone   \n",
              "1        6   329.08              1          1      Rural            1     Web   \n",
              "2        7   180.65              0          1  Surburban            1     Web   \n",
              "3        9   675.83              1          0      Rural            1     Web   \n",
              "4        2    45.34              1          0      Urban            0     Web   \n",
              "\n",
              "             offer  conversion  \n",
              "0  Buy One Get One           0  \n",
              "1         No Offer           0  \n",
              "2  Buy One Get One           0  \n",
              "3         Discount           0  \n",
              "4  Buy One Get One           0  "
            ]
          },
          "execution_count": 69,
          "metadata": {},
          "output_type": "execute_result"
        }
      ],
      "source": [
        "df = pd.read_csv(\"data.csv\")\n",
        "df.head()"
      ]
    },
    {
      "cell_type": "code",
      "execution_count": null,
      "id": "8b047762",
      "metadata": {
        "id": "8b047762",
        "outputId": "a324e1d3-b33d-4c2b-9d51-be13243af965"
      },
      "outputs": [
        {
          "name": "stdout",
          "output_type": "stream",
          "text": [
            "<class 'pandas.core.frame.DataFrame'>\n",
            "RangeIndex: 64000 entries, 0 to 63999\n",
            "Data columns (total 9 columns):\n",
            " #   Column         Non-Null Count  Dtype  \n",
            "---  ------         --------------  -----  \n",
            " 0   recency        64000 non-null  int64  \n",
            " 1   history        64000 non-null  float64\n",
            " 2   used_discount  64000 non-null  int64  \n",
            " 3   used_bogo      64000 non-null  int64  \n",
            " 4   zip_code       64000 non-null  object \n",
            " 5   is_referral    64000 non-null  int64  \n",
            " 6   channel        64000 non-null  object \n",
            " 7   offer          64000 non-null  object \n",
            " 8   conversion     64000 non-null  int64  \n",
            "dtypes: float64(1), int64(5), object(3)\n",
            "memory usage: 4.4+ MB\n"
          ]
        }
      ],
      "source": [
        "df.info()"
      ]
    },
    {
      "cell_type": "markdown",
      "id": "7c04942e",
      "metadata": {
        "id": "7c04942e"
      },
      "source": [
        "#### И сразу же (по заданию) переименую поля (conversion -> target, offer -> treatment) и приведу поле treatment к бинарному виду (1 или 0, т.е было какое-то предложение или нет) - значение No Offer означает отсутствие коммуникации, а все остальные - наличие."
      ]
    },
    {
      "cell_type": "code",
      "execution_count": null,
      "id": "fdad6d7d",
      "metadata": {
        "id": "fdad6d7d",
        "outputId": "279bf63f-6072-49df-d1d1-b98ec0b8d5bc"
      },
      "outputs": [
        {
          "data": {
            "text/html": [
              "<div>\n",
              "<style scoped>\n",
              "    .dataframe tbody tr th:only-of-type {\n",
              "        vertical-align: middle;\n",
              "    }\n",
              "\n",
              "    .dataframe tbody tr th {\n",
              "        vertical-align: top;\n",
              "    }\n",
              "\n",
              "    .dataframe thead th {\n",
              "        text-align: right;\n",
              "    }\n",
              "</style>\n",
              "<table border=\"1\" class=\"dataframe\">\n",
              "  <thead>\n",
              "    <tr style=\"text-align: right;\">\n",
              "      <th></th>\n",
              "      <th>recency</th>\n",
              "      <th>history</th>\n",
              "      <th>used_discount</th>\n",
              "      <th>used_bogo</th>\n",
              "      <th>zip_code</th>\n",
              "      <th>is_referral</th>\n",
              "      <th>channel</th>\n",
              "      <th>treatment</th>\n",
              "      <th>target</th>\n",
              "    </tr>\n",
              "  </thead>\n",
              "  <tbody>\n",
              "    <tr>\n",
              "      <th>0</th>\n",
              "      <td>10</td>\n",
              "      <td>142.44</td>\n",
              "      <td>1</td>\n",
              "      <td>0</td>\n",
              "      <td>Surburban</td>\n",
              "      <td>0</td>\n",
              "      <td>Phone</td>\n",
              "      <td>Buy One Get One</td>\n",
              "      <td>0</td>\n",
              "    </tr>\n",
              "    <tr>\n",
              "      <th>1</th>\n",
              "      <td>6</td>\n",
              "      <td>329.08</td>\n",
              "      <td>1</td>\n",
              "      <td>1</td>\n",
              "      <td>Rural</td>\n",
              "      <td>1</td>\n",
              "      <td>Web</td>\n",
              "      <td>No Offer</td>\n",
              "      <td>0</td>\n",
              "    </tr>\n",
              "    <tr>\n",
              "      <th>2</th>\n",
              "      <td>7</td>\n",
              "      <td>180.65</td>\n",
              "      <td>0</td>\n",
              "      <td>1</td>\n",
              "      <td>Surburban</td>\n",
              "      <td>1</td>\n",
              "      <td>Web</td>\n",
              "      <td>Buy One Get One</td>\n",
              "      <td>0</td>\n",
              "    </tr>\n",
              "    <tr>\n",
              "      <th>3</th>\n",
              "      <td>9</td>\n",
              "      <td>675.83</td>\n",
              "      <td>1</td>\n",
              "      <td>0</td>\n",
              "      <td>Rural</td>\n",
              "      <td>1</td>\n",
              "      <td>Web</td>\n",
              "      <td>Discount</td>\n",
              "      <td>0</td>\n",
              "    </tr>\n",
              "    <tr>\n",
              "      <th>4</th>\n",
              "      <td>2</td>\n",
              "      <td>45.34</td>\n",
              "      <td>1</td>\n",
              "      <td>0</td>\n",
              "      <td>Urban</td>\n",
              "      <td>0</td>\n",
              "      <td>Web</td>\n",
              "      <td>Buy One Get One</td>\n",
              "      <td>0</td>\n",
              "    </tr>\n",
              "  </tbody>\n",
              "</table>\n",
              "</div>"
            ],
            "text/plain": [
              "   recency  history  used_discount  used_bogo   zip_code  is_referral channel  \\\n",
              "0       10   142.44              1          0  Surburban            0   Phone   \n",
              "1        6   329.08              1          1      Rural            1     Web   \n",
              "2        7   180.65              0          1  Surburban            1     Web   \n",
              "3        9   675.83              1          0      Rural            1     Web   \n",
              "4        2    45.34              1          0      Urban            0     Web   \n",
              "\n",
              "         treatment  target  \n",
              "0  Buy One Get One       0  \n",
              "1         No Offer       0  \n",
              "2  Buy One Get One       0  \n",
              "3         Discount       0  \n",
              "4  Buy One Get One       0  "
            ]
          },
          "execution_count": 71,
          "metadata": {},
          "output_type": "execute_result"
        }
      ],
      "source": [
        "df.rename(columns={\"conversion\": \"target\", \"offer\": \"treatment\"}, inplace=True)\n",
        "df.head()"
      ]
    },
    {
      "cell_type": "code",
      "execution_count": null,
      "id": "6c2b7924",
      "metadata": {
        "id": "6c2b7924",
        "outputId": "0f861520-5dfe-43e8-d414-0e42b58bb8be"
      },
      "outputs": [
        {
          "data": {
            "text/plain": [
              "recency          0\n",
              "history          0\n",
              "used_discount    0\n",
              "used_bogo        0\n",
              "zip_code         0\n",
              "is_referral      0\n",
              "channel          0\n",
              "treatment        0\n",
              "target           0\n",
              "dtype: int64"
            ]
          },
          "execution_count": 72,
          "metadata": {},
          "output_type": "execute_result"
        }
      ],
      "source": [
        "df.isna().sum()"
      ]
    },
    {
      "cell_type": "code",
      "execution_count": null,
      "id": "e28d970b",
      "metadata": {
        "id": "e28d970b"
      },
      "outputs": [],
      "source": [
        "# df = pd.concat([df, pd.get_dummies(df['treatment'])], axis=1)\n",
        "# df.head()"
      ]
    },
    {
      "cell_type": "code",
      "execution_count": null,
      "id": "682c79b3",
      "metadata": {
        "id": "682c79b3"
      },
      "outputs": [],
      "source": [
        "df.loc[df['treatment'] != 'No Offer', 'treatment'] = 1\n",
        "df.loc[df['treatment'] == 'No Offer', 'treatment'] = 0"
      ]
    },
    {
      "cell_type": "code",
      "execution_count": null,
      "id": "529525c3",
      "metadata": {
        "id": "529525c3",
        "outputId": "588ba0d0-14f5-4d11-bb0d-3458ed5b101d"
      },
      "outputs": [
        {
          "data": {
            "text/html": [
              "<div>\n",
              "<style scoped>\n",
              "    .dataframe tbody tr th:only-of-type {\n",
              "        vertical-align: middle;\n",
              "    }\n",
              "\n",
              "    .dataframe tbody tr th {\n",
              "        vertical-align: top;\n",
              "    }\n",
              "\n",
              "    .dataframe thead th {\n",
              "        text-align: right;\n",
              "    }\n",
              "</style>\n",
              "<table border=\"1\" class=\"dataframe\">\n",
              "  <thead>\n",
              "    <tr style=\"text-align: right;\">\n",
              "      <th></th>\n",
              "      <th>recency</th>\n",
              "      <th>history</th>\n",
              "      <th>used_discount</th>\n",
              "      <th>used_bogo</th>\n",
              "      <th>zip_code</th>\n",
              "      <th>is_referral</th>\n",
              "      <th>channel</th>\n",
              "      <th>treatment</th>\n",
              "      <th>target</th>\n",
              "    </tr>\n",
              "  </thead>\n",
              "  <tbody>\n",
              "    <tr>\n",
              "      <th>0</th>\n",
              "      <td>10</td>\n",
              "      <td>142.44</td>\n",
              "      <td>1</td>\n",
              "      <td>0</td>\n",
              "      <td>Surburban</td>\n",
              "      <td>0</td>\n",
              "      <td>Phone</td>\n",
              "      <td>1</td>\n",
              "      <td>0</td>\n",
              "    </tr>\n",
              "    <tr>\n",
              "      <th>1</th>\n",
              "      <td>6</td>\n",
              "      <td>329.08</td>\n",
              "      <td>1</td>\n",
              "      <td>1</td>\n",
              "      <td>Rural</td>\n",
              "      <td>1</td>\n",
              "      <td>Web</td>\n",
              "      <td>0</td>\n",
              "      <td>0</td>\n",
              "    </tr>\n",
              "    <tr>\n",
              "      <th>2</th>\n",
              "      <td>7</td>\n",
              "      <td>180.65</td>\n",
              "      <td>0</td>\n",
              "      <td>1</td>\n",
              "      <td>Surburban</td>\n",
              "      <td>1</td>\n",
              "      <td>Web</td>\n",
              "      <td>1</td>\n",
              "      <td>0</td>\n",
              "    </tr>\n",
              "    <tr>\n",
              "      <th>3</th>\n",
              "      <td>9</td>\n",
              "      <td>675.83</td>\n",
              "      <td>1</td>\n",
              "      <td>0</td>\n",
              "      <td>Rural</td>\n",
              "      <td>1</td>\n",
              "      <td>Web</td>\n",
              "      <td>1</td>\n",
              "      <td>0</td>\n",
              "    </tr>\n",
              "    <tr>\n",
              "      <th>4</th>\n",
              "      <td>2</td>\n",
              "      <td>45.34</td>\n",
              "      <td>1</td>\n",
              "      <td>0</td>\n",
              "      <td>Urban</td>\n",
              "      <td>0</td>\n",
              "      <td>Web</td>\n",
              "      <td>1</td>\n",
              "      <td>0</td>\n",
              "    </tr>\n",
              "  </tbody>\n",
              "</table>\n",
              "</div>"
            ],
            "text/plain": [
              "   recency  history  used_discount  used_bogo   zip_code  is_referral channel  \\\n",
              "0       10   142.44              1          0  Surburban            0   Phone   \n",
              "1        6   329.08              1          1      Rural            1     Web   \n",
              "2        7   180.65              0          1  Surburban            1     Web   \n",
              "3        9   675.83              1          0      Rural            1     Web   \n",
              "4        2    45.34              1          0      Urban            0     Web   \n",
              "\n",
              "   treatment  target  \n",
              "0          1       0  \n",
              "1          0       0  \n",
              "2          1       0  \n",
              "3          1       0  \n",
              "4          1       0  "
            ]
          },
          "execution_count": 75,
          "metadata": {},
          "output_type": "execute_result"
        }
      ],
      "source": [
        "df['treatment'] = df['treatment'].astype(str).astype(int)\n",
        "df.head()"
      ]
    },
    {
      "cell_type": "markdown",
      "id": "470ec635",
      "metadata": {
        "id": "470ec635"
      },
      "source": [
        "#### Импортируем нужные библиотеки и предобработаем данные "
      ]
    },
    {
      "cell_type": "code",
      "execution_count": null,
      "id": "9f4a79fe",
      "metadata": {
        "id": "9f4a79fe",
        "outputId": "0be58422-70c2-479f-aa30-a5e7f0fdfa15"
      },
      "outputs": [
        {
          "name": "stdout",
          "output_type": "stream",
          "text": [
            "Requirement already satisfied: scikit-uplift==0.2.0 in c:\\users\\user\\anaconda3\\lib\\site-packages (0.2.0)\n",
            "Requirement already satisfied: numpy>=1.16 in c:\\users\\user\\anaconda3\\lib\\site-packages (from scikit-uplift==0.2.0) (1.20.1)\n",
            "Requirement already satisfied: matplotlib in c:\\users\\user\\anaconda3\\lib\\site-packages (from scikit-uplift==0.2.0) (3.3.4)\n",
            "Requirement already satisfied: pandas in c:\\users\\user\\anaconda3\\lib\\site-packages (from scikit-uplift==0.2.0) (1.2.4)\n",
            "Requirement already satisfied: scikit-learn>=0.21.0 in c:\\users\\user\\anaconda3\\lib\\site-packages (from scikit-uplift==0.2.0) (0.24.1)\n",
            "Requirement already satisfied: scipy>=0.19.1 in c:\\users\\user\\anaconda3\\lib\\site-packages (from scikit-learn>=0.21.0->scikit-uplift==0.2.0) (1.6.2)\n",
            "Requirement already satisfied: threadpoolctl>=2.0.0 in c:\\users\\user\\anaconda3\\lib\\site-packages (from scikit-learn>=0.21.0->scikit-uplift==0.2.0) (2.1.0)\n",
            "Requirement already satisfied: joblib>=0.11 in c:\\users\\user\\anaconda3\\lib\\site-packages (from scikit-learn>=0.21.0->scikit-uplift==0.2.0) (1.0.1)\n",
            "Requirement already satisfied: pyparsing!=2.0.4,!=2.1.2,!=2.1.6,>=2.0.3 in c:\\users\\user\\anaconda3\\lib\\site-packages (from matplotlib->scikit-uplift==0.2.0) (2.4.7)\n",
            "Requirement already satisfied: cycler>=0.10 in c:\\users\\user\\anaconda3\\lib\\site-packages (from matplotlib->scikit-uplift==0.2.0) (0.10.0)\n",
            "Requirement already satisfied: kiwisolver>=1.0.1 in c:\\users\\user\\anaconda3\\lib\\site-packages (from matplotlib->scikit-uplift==0.2.0) (1.3.1)\n",
            "Requirement already satisfied: python-dateutil>=2.1 in c:\\users\\user\\anaconda3\\lib\\site-packages (from matplotlib->scikit-uplift==0.2.0) (2.8.1)\n",
            "Requirement already satisfied: pillow>=6.2.0 in c:\\users\\user\\anaconda3\\lib\\site-packages (from matplotlib->scikit-uplift==0.2.0) (8.2.0)\n",
            "Requirement already satisfied: six in c:\\users\\user\\anaconda3\\lib\\site-packages (from cycler>=0.10->matplotlib->scikit-uplift==0.2.0) (1.15.0)\n",
            "Requirement already satisfied: pytz>=2017.3 in c:\\users\\user\\anaconda3\\lib\\site-packages (from pandas->scikit-uplift==0.2.0) (2021.1)\n"
          ]
        }
      ],
      "source": [
        "!pip install scikit-uplift==0.2.0"
      ]
    },
    {
      "cell_type": "code",
      "execution_count": null,
      "id": "24405a61",
      "metadata": {
        "id": "24405a61",
        "outputId": "24e781a2-749e-47e1-9b45-3719c79ee71f"
      },
      "outputs": [
        {
          "name": "stdout",
          "output_type": "stream",
          "text": [
            "Requirement already satisfied: catboost in c:\\users\\user\\anaconda3\\lib\\site-packages (1.0.3)\n",
            "Requirement already satisfied: graphviz in c:\\users\\user\\anaconda3\\lib\\site-packages (from catboost) (0.18)\n",
            "Requirement already satisfied: pandas>=0.24.0 in c:\\users\\user\\anaconda3\\lib\\site-packages (from catboost) (1.2.4)\n",
            "Requirement already satisfied: plotly in c:\\users\\user\\anaconda3\\lib\\site-packages (from catboost) (5.3.1)\n",
            "Requirement already satisfied: matplotlib in c:\\users\\user\\anaconda3\\lib\\site-packages (from catboost) (3.3.4)\n",
            "Requirement already satisfied: six in c:\\users\\user\\anaconda3\\lib\\site-packages (from catboost) (1.15.0)\n",
            "Requirement already satisfied: numpy>=1.16.0 in c:\\users\\user\\anaconda3\\lib\\site-packages (from catboost) (1.20.1)\n",
            "Requirement already satisfied: scipy in c:\\users\\user\\anaconda3\\lib\\site-packages (from catboost) (1.6.2)\n",
            "Requirement already satisfied: pytz>=2017.3 in c:\\users\\user\\anaconda3\\lib\\site-packages (from pandas>=0.24.0->catboost) (2021.1)\n",
            "Requirement already satisfied: python-dateutil>=2.7.3 in c:\\users\\user\\anaconda3\\lib\\site-packages (from pandas>=0.24.0->catboost) (2.8.1)\n",
            "Requirement already satisfied: kiwisolver>=1.0.1 in c:\\users\\user\\anaconda3\\lib\\site-packages (from matplotlib->catboost) (1.3.1)\n",
            "Requirement already satisfied: cycler>=0.10 in c:\\users\\user\\anaconda3\\lib\\site-packages (from matplotlib->catboost) (0.10.0)\n",
            "Requirement already satisfied: pillow>=6.2.0 in c:\\users\\user\\anaconda3\\lib\\site-packages (from matplotlib->catboost) (8.2.0)\n",
            "Requirement already satisfied: pyparsing!=2.0.4,!=2.1.2,!=2.1.6,>=2.0.3 in c:\\users\\user\\anaconda3\\lib\\site-packages (from matplotlib->catboost) (2.4.7)\n",
            "Requirement already satisfied: tenacity>=6.2.0 in c:\\users\\user\\anaconda3\\lib\\site-packages (from plotly->catboost) (8.0.1)\n"
          ]
        }
      ],
      "source": [
        "!pip install catboost"
      ]
    },
    {
      "cell_type": "code",
      "execution_count": null,
      "id": "10b2f0c0",
      "metadata": {
        "id": "10b2f0c0"
      },
      "outputs": [],
      "source": [
        "%matplotlib inline\n",
        "\n",
        "import numpy as np\n",
        "import pandas as pd; pd.set_option('display.max_columns', None)\n",
        "from sklearn.model_selection import train_test_split\n",
        "\n",
        "# Инструкция по установке пакета: https://github.com/maks-sh/scikit-uplift\n",
        "# Ссылка на документацию: https://scikit-uplift.readthedocs.io/en/latest/\n",
        "from sklift.metrics import uplift_at_k, uplift_by_percentile, uplift_auc_score, qini_auc_score\n",
        "from sklift.viz import plot_uplift_preds, plot_uplift_by_percentile, plot_uplift_curve, plot_qini_curve\n",
        "from sklift.models import SoloModel, ClassTransformation, TwoModels\n",
        "\n",
        "# sklift поддерживает любые модели, \n",
        "# которые удовлетворяют соглашениями scikit-learn\n",
        "# Для примера воспользуемся catboost\n",
        "from catboost import CatBoostClassifier\n",
        "\n",
        "from sklearn.utils.validation import check_consistent_length\n",
        "import matplotlib.pyplot as plt"
      ]
    },
    {
      "cell_type": "code",
      "execution_count": null,
      "id": "6fa8d2d3",
      "metadata": {
        "id": "6fa8d2d3"
      },
      "outputs": [],
      "source": [
        "# замена для родной функции из skuplift\n",
        "def plot_uplift_preds_(trmnt_preds, ctrl_preds, log=False, bins=100):\n",
        "    \"\"\"Plot histograms of treatment, control and uplift predictions.\n",
        "\n",
        "    Args:\n",
        "        trmnt_preds (1d array-like): Predictions for all observations if they are treatment.\n",
        "        ctrl_preds (1d array-like): Predictions for all observations if they are control.\n",
        "        log (bool): Logarithm of source samples. Default is False.\n",
        "        bins (integer or sequence): Number of histogram bins to be used. Default is 100.\n",
        "            If an integer is given, bins + 1 bin edges are calculated and returned.\n",
        "            If bins is a sequence, gives bin edges, including left edge of first bin and right edge of last bin.\n",
        "            In this case, bins is returned unmodified. Default is 100.\n",
        "\n",
        "    Returns:\n",
        "        Object that stores computed values.\n",
        "    \"\"\"\n",
        "\n",
        "    # TODO: Add k as parameter: vertical line on plots\n",
        "    check_consistent_length(trmnt_preds, ctrl_preds)\n",
        "  \n",
        "    if not isinstance(bins, int) or bins <= 0:\n",
        "        raise ValueError(\n",
        "            f'Bins should be positive integer. Invalid value for bins: {bins}')\n",
        "\n",
        "    if log:\n",
        "        trmnt_preds = np.log(trmnt_preds + 1)\n",
        "        ctrl_preds = np.log(ctrl_preds + 1)\n",
        "\n",
        "    fig, axes = plt.subplots(ncols=3, nrows=1, figsize=(20, 7))\n",
        "    axes[0].hist(\n",
        "        trmnt_preds, bins=bins, alpha=0.3, color='b', label='Treated', histtype='stepfilled')\n",
        "    axes[0].set_ylabel('Probability hist')\n",
        "    axes[0].legend()\n",
        "    axes[0].set_title('Treatment predictions')\n",
        "\n",
        "    axes[1].hist(\n",
        "        ctrl_preds, bins=bins, alpha=0.5, color='y', label='Not treated', histtype='stepfilled')\n",
        "    axes[1].legend()\n",
        "    axes[1].set_title('Control predictions')\n",
        "\n",
        "    axes[2].hist(\n",
        "        trmnt_preds - ctrl_preds, bins=bins, alpha=0.5, color='green', label='Uplift', histtype='stepfilled')\n",
        "    axes[2].legend()\n",
        "    axes[2].set_title('Uplift predictions')\n",
        "\n",
        "    return axes"
      ]
    },
    {
      "cell_type": "markdown",
      "id": "46ed5616",
      "metadata": {
        "id": "46ed5616"
      },
      "source": [
        "#### Разобью набор данных не тренировочную и тестовую выборки"
      ]
    },
    {
      "cell_type": "code",
      "execution_count": null,
      "id": "65ccb1a7",
      "metadata": {
        "id": "65ccb1a7"
      },
      "outputs": [],
      "source": [
        "X = df.drop(columns=[\"target\"])\n",
        "y = df[\"target\"]\n",
        "\n",
        "X_train_, X_test_, y_train, y_test = train_test_split(X, y, test_size=0.3)"
      ]
    },
    {
      "cell_type": "code",
      "execution_count": null,
      "id": "e7918577",
      "metadata": {
        "id": "e7918577"
      },
      "outputs": [],
      "source": [
        "X_train = X_train_.drop(columns=[\"treatment\"])\n",
        "treat_train = X_train_['treatment']\n",
        "\n",
        "X_test = X_test_.drop(columns=[\"treatment\"])\n",
        "treat_test = X_test_['treatment']\n",
        "\n",
        "cat_features = ['zip_code', 'channel']"
      ]
    },
    {
      "cell_type": "markdown",
      "id": "3995b864",
      "metadata": {
        "id": "3995b864"
      },
      "source": [
        "### Одна модель с признаком коммуникации"
      ]
    },
    {
      "cell_type": "code",
      "execution_count": null,
      "id": "5e24f215",
      "metadata": {
        "id": "5e24f215",
        "outputId": "70c57ac7-869a-4571-ee8b-b7a6808c13f8"
      },
      "outputs": [
        {
          "data": {
            "image/png": "[encoded data removed]",
            "text/plain": [
              "<Figure size 1440x504 with 3 Axes>"
            ]
          },
          "metadata": {
            "needs_background": "light"
          },
          "output_type": "display_data"
        }
      ],
      "source": [
        "models_results = {\n",
        "    'approach': [],\n",
        "    'uplift@10%': [], \n",
        "    'uplift@20%': []\n",
        "}\n",
        "\n",
        "sm = SoloModel(CatBoostClassifier(iterations=20, thread_count=2, random_state=42, silent=True))\n",
        "# sm = sm.fit(X_train, y_train, treat_train)\n",
        "sm = sm.fit(X_train, y_train, treat_train, estimator_fit_params={'cat_features': cat_features})\n",
        "uplift_sm = sm.predict(X_test)\n",
        "\n",
        "# размер uplift на топ k процентах выборки\n",
        "sm_score_10 = uplift_at_k(y_true=y_test, uplift=uplift_sm, treatment=treat_test, strategy='by_group', k=0.1)\n",
        "sm_score_20 = uplift_at_k(y_true=y_test, uplift=uplift_sm, treatment=treat_test, strategy='by_group', k=0.2)\n",
        "\n",
        "models_results['approach'].append('SoloModel')\n",
        "models_results['uplift@10%'].append(sm_score_10)\n",
        "models_results['uplift@20%'].append(sm_score_20)\n",
        "\n",
        "# Получим условные вероятности выполнения целевого действия при взаимодействии для каждого объекта\n",
        "sm_trmnt_preds = sm.trmnt_preds_\n",
        "# И условные вероятности выполнения целевого действия без взаимодействия для каждого объекта\n",
        "sm_ctrl_preds = sm.ctrl_preds_\n",
        "\n",
        "# Отрисуем распределения вероятностей и их разность (uplift)\n",
        "plot_uplift_preds(trmnt_preds=sm_trmnt_preds, ctrl_preds=sm_ctrl_preds); #ctrl_preds="
      ]
    },
    {
      "cell_type": "code",
      "execution_count": null,
      "id": "490282a1",
      "metadata": {
        "id": "490282a1",
        "outputId": "04a9988a-c178-4b1a-8ba6-1e24bce5e885"
      },
      "outputs": [
        {
          "data": {
            "text/html": [
              "<div>\n",
              "<style scoped>\n",
              "    .dataframe tbody tr th:only-of-type {\n",
              "        vertical-align: middle;\n",
              "    }\n",
              "\n",
              "    .dataframe tbody tr th {\n",
              "        vertical-align: top;\n",
              "    }\n",
              "\n",
              "    .dataframe thead th {\n",
              "        text-align: right;\n",
              "    }\n",
              "</style>\n",
              "<table border=\"1\" class=\"dataframe\">\n",
              "  <thead>\n",
              "    <tr style=\"text-align: right;\">\n",
              "      <th></th>\n",
              "      <th>true</th>\n",
              "      <th>uplift</th>\n",
              "      <th>treat</th>\n",
              "    </tr>\n",
              "  </thead>\n",
              "  <tbody>\n",
              "    <tr>\n",
              "      <th>44324</th>\n",
              "      <td>0</td>\n",
              "      <td>0.078900</td>\n",
              "      <td>1</td>\n",
              "    </tr>\n",
              "    <tr>\n",
              "      <th>61882</th>\n",
              "      <td>0</td>\n",
              "      <td>0.042996</td>\n",
              "      <td>0</td>\n",
              "    </tr>\n",
              "    <tr>\n",
              "      <th>10998</th>\n",
              "      <td>0</td>\n",
              "      <td>0.094623</td>\n",
              "      <td>1</td>\n",
              "    </tr>\n",
              "    <tr>\n",
              "      <th>49127</th>\n",
              "      <td>0</td>\n",
              "      <td>0.078331</td>\n",
              "      <td>1</td>\n",
              "    </tr>\n",
              "    <tr>\n",
              "      <th>1849</th>\n",
              "      <td>0</td>\n",
              "      <td>0.030022</td>\n",
              "      <td>0</td>\n",
              "    </tr>\n",
              "    <tr>\n",
              "      <th>15252</th>\n",
              "      <td>0</td>\n",
              "      <td>0.043833</td>\n",
              "      <td>1</td>\n",
              "    </tr>\n",
              "    <tr>\n",
              "      <th>6706</th>\n",
              "      <td>0</td>\n",
              "      <td>0.043599</td>\n",
              "      <td>1</td>\n",
              "    </tr>\n",
              "    <tr>\n",
              "      <th>12865</th>\n",
              "      <td>0</td>\n",
              "      <td>0.084638</td>\n",
              "      <td>1</td>\n",
              "    </tr>\n",
              "    <tr>\n",
              "      <th>41670</th>\n",
              "      <td>0</td>\n",
              "      <td>0.053532</td>\n",
              "      <td>1</td>\n",
              "    </tr>\n",
              "    <tr>\n",
              "      <th>37415</th>\n",
              "      <td>0</td>\n",
              "      <td>0.069925</td>\n",
              "      <td>0</td>\n",
              "    </tr>\n",
              "    <tr>\n",
              "      <th>36037</th>\n",
              "      <td>0</td>\n",
              "      <td>0.060070</td>\n",
              "      <td>0</td>\n",
              "    </tr>\n",
              "    <tr>\n",
              "      <th>29129</th>\n",
              "      <td>0</td>\n",
              "      <td>0.071818</td>\n",
              "      <td>1</td>\n",
              "    </tr>\n",
              "    <tr>\n",
              "      <th>9989</th>\n",
              "      <td>0</td>\n",
              "      <td>0.058603</td>\n",
              "      <td>1</td>\n",
              "    </tr>\n",
              "    <tr>\n",
              "      <th>5086</th>\n",
              "      <td>0</td>\n",
              "      <td>0.065813</td>\n",
              "      <td>0</td>\n",
              "    </tr>\n",
              "    <tr>\n",
              "      <th>50677</th>\n",
              "      <td>0</td>\n",
              "      <td>0.075195</td>\n",
              "      <td>0</td>\n",
              "    </tr>\n",
              "  </tbody>\n",
              "</table>\n",
              "</div>"
            ],
            "text/plain": [
              "       true    uplift  treat\n",
              "44324     0  0.078900      1\n",
              "61882     0  0.042996      0\n",
              "10998     0  0.094623      1\n",
              "49127     0  0.078331      1\n",
              "1849      0  0.030022      0\n",
              "15252     0  0.043833      1\n",
              "6706      0  0.043599      1\n",
              "12865     0  0.084638      1\n",
              "41670     0  0.053532      1\n",
              "37415     0  0.069925      0\n",
              "36037     0  0.060070      0\n",
              "29129     0  0.071818      1\n",
              "9989      0  0.058603      1\n",
              "5086      0  0.065813      0\n",
              "50677     0  0.075195      0"
            ]
          },
          "execution_count": 89,
          "metadata": {},
          "output_type": "execute_result"
        }
      ],
      "source": [
        "n = 15\n",
        "df_ul = pd.DataFrame({\n",
        "    'true': y_test[:n],\n",
        "    'uplift': uplift_sm[:n],\n",
        "    'treat': treat_test[:n]\n",
        "})   \n",
        "df_ul "
      ]
    },
    {
      "cell_type": "markdown",
      "id": "2b02ccd8",
      "metadata": {
        "id": "2b02ccd8"
      },
      "source": [
        "#### Посмотрим на топ-признаки"
      ]
    },
    {
      "cell_type": "code",
      "execution_count": null,
      "id": "07f5ee58",
      "metadata": {
        "id": "07f5ee58",
        "outputId": "d5e1de05-e3f7-4492-8b21-a8696154e245"
      },
      "outputs": [
        {
          "data": {
            "text/html": [
              "<div>\n",
              "<style scoped>\n",
              "    .dataframe tbody tr th:only-of-type {\n",
              "        vertical-align: middle;\n",
              "    }\n",
              "\n",
              "    .dataframe tbody tr th {\n",
              "        vertical-align: top;\n",
              "    }\n",
              "\n",
              "    .dataframe thead th {\n",
              "        text-align: right;\n",
              "    }\n",
              "</style>\n",
              "<table border=\"1\" class=\"dataframe\">\n",
              "  <thead>\n",
              "    <tr style=\"text-align: right;\">\n",
              "      <th></th>\n",
              "      <th>feature_name</th>\n",
              "      <th>feature_score</th>\n",
              "    </tr>\n",
              "  </thead>\n",
              "  <tbody>\n",
              "    <tr>\n",
              "      <th>0</th>\n",
              "      <td>is_referral</td>\n",
              "      <td>18.927835</td>\n",
              "    </tr>\n",
              "    <tr>\n",
              "      <th>1</th>\n",
              "      <td>treatment</td>\n",
              "      <td>17.327660</td>\n",
              "    </tr>\n",
              "    <tr>\n",
              "      <th>2</th>\n",
              "      <td>recency</td>\n",
              "      <td>12.882007</td>\n",
              "    </tr>\n",
              "    <tr>\n",
              "      <th>3</th>\n",
              "      <td>used_bogo</td>\n",
              "      <td>11.700580</td>\n",
              "    </tr>\n",
              "    <tr>\n",
              "      <th>4</th>\n",
              "      <td>channel</td>\n",
              "      <td>11.365476</td>\n",
              "    </tr>\n",
              "    <tr>\n",
              "      <th>5</th>\n",
              "      <td>zip_code</td>\n",
              "      <td>10.239545</td>\n",
              "    </tr>\n",
              "    <tr>\n",
              "      <th>6</th>\n",
              "      <td>used_discount</td>\n",
              "      <td>8.938033</td>\n",
              "    </tr>\n",
              "    <tr>\n",
              "      <th>7</th>\n",
              "      <td>history</td>\n",
              "      <td>8.618864</td>\n",
              "    </tr>\n",
              "  </tbody>\n",
              "</table>\n",
              "</div>"
            ],
            "text/plain": [
              "    feature_name  feature_score\n",
              "0    is_referral      18.927835\n",
              "1      treatment      17.327660\n",
              "2        recency      12.882007\n",
              "3      used_bogo      11.700580\n",
              "4        channel      11.365476\n",
              "5       zip_code      10.239545\n",
              "6  used_discount       8.938033\n",
              "7        history       8.618864"
            ]
          },
          "execution_count": 90,
          "metadata": {},
          "output_type": "execute_result"
        }
      ],
      "source": [
        "sm_ff = pd.DataFrame({\n",
        "    'feature_name': sm.estimator.feature_names_,\n",
        "    'feature_score': sm.estimator.feature_importances_\n",
        "}).sort_values('feature_score', ascending=False).reset_index(drop=True)\n",
        "\n",
        "sm_ff"
      ]
    },
    {
      "cell_type": "code",
      "execution_count": null,
      "id": "513670c9",
      "metadata": {
        "id": "513670c9",
        "outputId": "a20c795a-49ff-4100-872f-8a787c6d25aa"
      },
      "outputs": [
        {
          "data": {
            "image/png": "[encoded data removed]",
            "text/plain": [
              "<Figure size 576x432 with 1 Axes>"
            ]
          },
          "metadata": {
            "needs_background": "light"
          },
          "output_type": "display_data"
        }
      ],
      "source": [
        "plot_uplift_curve(y_test, uplift_sm, treat_test, perfect=False); # perfect=True"
      ]
    },
    {
      "cell_type": "code",
      "execution_count": null,
      "id": "b8a2f535",
      "metadata": {
        "id": "b8a2f535",
        "outputId": "3e805f56-89c9-4e35-bb7e-32b52a63e2f1"
      },
      "outputs": [
        {
          "data": {
            "image/png": "[encoded data removed]",
            "text/plain": [
              "<Figure size 576x432 with 1 Axes>"
            ]
          },
          "metadata": {
            "needs_background": "light"
          },
          "output_type": "display_data"
        }
      ],
      "source": [
        "plot_qini_curve(y_test, uplift_sm, treat_test, perfect=False);"
      ]
    },
    {
      "cell_type": "code",
      "execution_count": null,
      "id": "653b71dc",
      "metadata": {
        "id": "653b71dc",
        "outputId": "ca92a5ac-69da-41e0-da14-63367f4284e8"
      },
      "outputs": [
        {
          "name": "stderr",
          "output_type": "stream",
          "text": [
            "C:\\Users\\User\\anaconda3\\lib\\site-packages\\numpy\\core\\_asarray.py:102: VisibleDeprecationWarning: Creating an ndarray from ragged nested sequences (which is a list-or-tuple of lists-or-tuples-or ndarrays with different lengths or shapes) is deprecated. If you meant to do this, you must specify 'dtype=object' when creating the ndarray.\n",
            "  return array(a, dtype, copy=False, order=order)\n"
          ]
        },
        {
          "data": {
            "text/html": [
              "<div>\n",
              "<style scoped>\n",
              "    .dataframe tbody tr th:only-of-type {\n",
              "        vertical-align: middle;\n",
              "    }\n",
              "\n",
              "    .dataframe tbody tr th {\n",
              "        vertical-align: top;\n",
              "    }\n",
              "\n",
              "    .dataframe thead th {\n",
              "        text-align: right;\n",
              "    }\n",
              "</style>\n",
              "<table border=\"1\" class=\"dataframe\">\n",
              "  <thead>\n",
              "    <tr style=\"text-align: right;\">\n",
              "      <th></th>\n",
              "      <th>n_treatment</th>\n",
              "      <th>n_control</th>\n",
              "      <th>response_rate_treatment</th>\n",
              "      <th>response_rate_control</th>\n",
              "      <th>uplift</th>\n",
              "      <th>std_treatment</th>\n",
              "      <th>std_control</th>\n",
              "      <th>std_uplift</th>\n",
              "    </tr>\n",
              "    <tr>\n",
              "      <th>percentile</th>\n",
              "      <th></th>\n",
              "      <th></th>\n",
              "      <th></th>\n",
              "      <th></th>\n",
              "      <th></th>\n",
              "      <th></th>\n",
              "      <th></th>\n",
              "      <th></th>\n",
              "    </tr>\n",
              "  </thead>\n",
              "  <tbody>\n",
              "    <tr>\n",
              "      <th>10.0</th>\n",
              "      <td>1233</td>\n",
              "      <td>687</td>\n",
              "      <td>0.242498</td>\n",
              "      <td>0.168850</td>\n",
              "      <td>0.073648</td>\n",
              "      <td>0.012206</td>\n",
              "      <td>0.014293</td>\n",
              "      <td>0.018795</td>\n",
              "    </tr>\n",
              "    <tr>\n",
              "      <th>20.0</th>\n",
              "      <td>1295</td>\n",
              "      <td>625</td>\n",
              "      <td>0.184556</td>\n",
              "      <td>0.110400</td>\n",
              "      <td>0.074156</td>\n",
              "      <td>0.010780</td>\n",
              "      <td>0.012536</td>\n",
              "      <td>0.016533</td>\n",
              "    </tr>\n",
              "    <tr>\n",
              "      <th>30.0</th>\n",
              "      <td>1290</td>\n",
              "      <td>630</td>\n",
              "      <td>0.192248</td>\n",
              "      <td>0.111111</td>\n",
              "      <td>0.081137</td>\n",
              "      <td>0.010972</td>\n",
              "      <td>0.012521</td>\n",
              "      <td>0.016648</td>\n",
              "    </tr>\n",
              "    <tr>\n",
              "      <th>40.0</th>\n",
              "      <td>1276</td>\n",
              "      <td>644</td>\n",
              "      <td>0.184169</td>\n",
              "      <td>0.121118</td>\n",
              "      <td>0.063051</td>\n",
              "      <td>0.010851</td>\n",
              "      <td>0.012857</td>\n",
              "      <td>0.016824</td>\n",
              "    </tr>\n",
              "    <tr>\n",
              "      <th>50.0</th>\n",
              "      <td>1267</td>\n",
              "      <td>653</td>\n",
              "      <td>0.163378</td>\n",
              "      <td>0.105666</td>\n",
              "      <td>0.057712</td>\n",
              "      <td>0.010387</td>\n",
              "      <td>0.012030</td>\n",
              "      <td>0.015893</td>\n",
              "    </tr>\n",
              "    <tr>\n",
              "      <th>60.0</th>\n",
              "      <td>1272</td>\n",
              "      <td>648</td>\n",
              "      <td>0.153302</td>\n",
              "      <td>0.114198</td>\n",
              "      <td>0.039104</td>\n",
              "      <td>0.010102</td>\n",
              "      <td>0.012494</td>\n",
              "      <td>0.016067</td>\n",
              "    </tr>\n",
              "    <tr>\n",
              "      <th>70.0</th>\n",
              "      <td>1287</td>\n",
              "      <td>633</td>\n",
              "      <td>0.126651</td>\n",
              "      <td>0.071090</td>\n",
              "      <td>0.055561</td>\n",
              "      <td>0.009271</td>\n",
              "      <td>0.010214</td>\n",
              "      <td>0.013794</td>\n",
              "    </tr>\n",
              "    <tr>\n",
              "      <th>80.0</th>\n",
              "      <td>1273</td>\n",
              "      <td>647</td>\n",
              "      <td>0.139042</td>\n",
              "      <td>0.085008</td>\n",
              "      <td>0.054034</td>\n",
              "      <td>0.009697</td>\n",
              "      <td>0.010964</td>\n",
              "      <td>0.014637</td>\n",
              "    </tr>\n",
              "    <tr>\n",
              "      <th>90.0</th>\n",
              "      <td>1288</td>\n",
              "      <td>632</td>\n",
              "      <td>0.124224</td>\n",
              "      <td>0.093354</td>\n",
              "      <td>0.030869</td>\n",
              "      <td>0.009191</td>\n",
              "      <td>0.011573</td>\n",
              "      <td>0.014778</td>\n",
              "    </tr>\n",
              "    <tr>\n",
              "      <th>100.0</th>\n",
              "      <td>1333</td>\n",
              "      <td>587</td>\n",
              "      <td>0.136534</td>\n",
              "      <td>0.090290</td>\n",
              "      <td>0.046245</td>\n",
              "      <td>0.009404</td>\n",
              "      <td>0.011829</td>\n",
              "      <td>0.015112</td>\n",
              "    </tr>\n",
              "    <tr>\n",
              "      <th>total</th>\n",
              "      <td>12814</td>\n",
              "      <td>6386</td>\n",
              "      <td>0.164273</td>\n",
              "      <td>0.107736</td>\n",
              "      <td>0.057478</td>\n",
              "      <td>0.102860</td>\n",
              "      <td>0.121310</td>\n",
              "      <td>0.159082</td>\n",
              "    </tr>\n",
              "  </tbody>\n",
              "</table>\n",
              "</div>"
            ],
            "text/plain": [
              "            n_treatment  n_control  response_rate_treatment  \\\n",
              "percentile                                                    \n",
              "10.0               1233        687                 0.242498   \n",
              "20.0               1295        625                 0.184556   \n",
              "30.0               1290        630                 0.192248   \n",
              "40.0               1276        644                 0.184169   \n",
              "50.0               1267        653                 0.163378   \n",
              "60.0               1272        648                 0.153302   \n",
              "70.0               1287        633                 0.126651   \n",
              "80.0               1273        647                 0.139042   \n",
              "90.0               1288        632                 0.124224   \n",
              "100.0              1333        587                 0.136534   \n",
              "total             12814       6386                 0.164273   \n",
              "\n",
              "            response_rate_control    uplift  std_treatment  std_control  \\\n",
              "percentile                                                                \n",
              "10.0                     0.168850  0.073648       0.012206     0.014293   \n",
              "20.0                     0.110400  0.074156       0.010780     0.012536   \n",
              "30.0                     0.111111  0.081137       0.010972     0.012521   \n",
              "40.0                     0.121118  0.063051       0.010851     0.012857   \n",
              "50.0                     0.105666  0.057712       0.010387     0.012030   \n",
              "60.0                     0.114198  0.039104       0.010102     0.012494   \n",
              "70.0                     0.071090  0.055561       0.009271     0.010214   \n",
              "80.0                     0.085008  0.054034       0.009697     0.010964   \n",
              "90.0                     0.093354  0.030869       0.009191     0.011573   \n",
              "100.0                    0.090290  0.046245       0.009404     0.011829   \n",
              "total                    0.107736  0.057478       0.102860     0.121310   \n",
              "\n",
              "            std_uplift  \n",
              "percentile              \n",
              "10.0          0.018795  \n",
              "20.0          0.016533  \n",
              "30.0          0.016648  \n",
              "40.0          0.016824  \n",
              "50.0          0.015893  \n",
              "60.0          0.016067  \n",
              "70.0          0.013794  \n",
              "80.0          0.014637  \n",
              "90.0          0.014778  \n",
              "100.0         0.015112  \n",
              "total         0.159082  "
            ]
          },
          "execution_count": 93,
          "metadata": {},
          "output_type": "execute_result"
        }
      ],
      "source": [
        "uplift_by_percentile(y_test, uplift_sm,  treat_test, \n",
        "                     strategy='overall', \n",
        "                     total=True, std=True, bins=10)"
      ]
    },
    {
      "cell_type": "code",
      "execution_count": null,
      "id": "b9a12b6c",
      "metadata": {
        "id": "b9a12b6c",
        "outputId": "4065698b-7456-4b7f-f685-7ca9dea7d75b"
      },
      "outputs": [
        {
          "name": "stderr",
          "output_type": "stream",
          "text": [
            "C:\\Users\\User\\anaconda3\\lib\\site-packages\\numpy\\core\\_asarray.py:102: VisibleDeprecationWarning: Creating an ndarray from ragged nested sequences (which is a list-or-tuple of lists-or-tuples-or ndarrays with different lengths or shapes) is deprecated. If you meant to do this, you must specify 'dtype=object' when creating the ndarray.\n",
            "  return array(a, dtype, copy=False, order=order)\n"
          ]
        },
        {
          "data": {
            "image/png": "[encoded data removed]",
            "text/plain": [
              "<Figure size 576x432 with 2 Axes>"
            ]
          },
          "metadata": {
            "needs_background": "light"
          },
          "output_type": "display_data"
        }
      ],
      "source": [
        "plot_uplift_by_percentile(y_test, uplift_sm, treat_test, \n",
        "                          strategy='overall', kind='bar'); # line"
      ]
    },
    {
      "cell_type": "code",
      "execution_count": null,
      "id": "c9887301",
      "metadata": {
        "id": "c9887301",
        "outputId": "93c26c2d-ffff-4813-85c0-fd8fe4c37966"
      },
      "outputs": [
        {
          "name": "stdout",
          "output_type": "stream",
          "text": [
            "weighted average uplift on full data: 0.0575\n"
          ]
        }
      ],
      "source": [
        "from sklift.metrics import weighted_average_uplift\n",
        "\n",
        "# с помощью значений в столбцах uplift и n_treatment рассчитаем усредненный uplift на всей выборке, \n",
        "# взвешенный на размер целевой группы — weighted average uplift\n",
        "uplift_full_data = weighted_average_uplift(y_test, uplift_sm, \n",
        "                                            treat_test, bins=10) \n",
        "print(f\"weighted average uplift on full data: {uplift_full_data:.4f}\")"
      ]
    },
    {
      "cell_type": "markdown",
      "id": "76b6b041",
      "metadata": {
        "id": "76b6b041"
      },
      "source": [
        "### Трансформация классов"
      ]
    },
    {
      "cell_type": "code",
      "execution_count": null,
      "id": "86bf99cb",
      "metadata": {
        "id": "86bf99cb",
        "outputId": "24b78780-cbe4-4691-b8e5-4066f292f6dc"
      },
      "outputs": [
        {
          "name": "stderr",
          "output_type": "stream",
          "text": [
            "<ipython-input-97-34878d72a1f4>:2: UserWarning: It is recommended to use this approach on treatment balanced data. Current sample size is unbalanced.\n",
            "  ct = ct.fit(X_train, y_train, treat_train, estimator_fit_params={'cat_features': cat_features})\n"
          ]
        }
      ],
      "source": [
        "ct = ClassTransformation(CatBoostClassifier(iterations=20, thread_count=2, random_state=42, silent=True))\n",
        "ct = ct.fit(X_train, y_train, treat_train, estimator_fit_params={'cat_features': cat_features})\n",
        "\n",
        "uplift_ct = ct.predict(X_test)\n",
        "\n",
        "ct_score_10 = uplift_at_k(y_true=y_test, uplift=uplift_ct, treatment=treat_test, strategy='by_group', k=0.1)\n",
        "ct_score_20 = uplift_at_k(y_true=y_test, uplift=uplift_ct, treatment=treat_test, strategy='by_group', k=0.2)\n",
        "\n",
        "models_results['approach'].append('ClassTransformation')\n",
        "models_results['uplift@10%'].append(ct_score_10)\n",
        "models_results['uplift@20%'].append(ct_score_20)"
      ]
    },
    {
      "cell_type": "markdown",
      "id": "83741d1f",
      "metadata": {
        "id": "83741d1f"
      },
      "source": [
        "### Две независимые модели"
      ]
    },
    {
      "cell_type": "code",
      "execution_count": null,
      "id": "0597c59b",
      "metadata": {
        "id": "0597c59b",
        "outputId": "4c1bd1e7-d9c4-4552-d279-c4d91481c492"
      },
      "outputs": [
        {
          "data": {
            "image/png": "[encoded data removed]",
            "text/plain": [
              "<Figure size 1440x504 with 3 Axes>"
            ]
          },
          "metadata": {
            "needs_background": "light"
          },
          "output_type": "display_data"
        }
      ],
      "source": [
        "tm = TwoModels(\n",
        "    estimator_trmnt=CatBoostClassifier(iterations=20, thread_count=2, random_state=42, silent=True), \n",
        "    estimator_ctrl=CatBoostClassifier(iterations=20, thread_count=2, random_state=42, silent=True), \n",
        "    method='vanilla'\n",
        ")\n",
        "tm = tm.fit(\n",
        "    X_train, y_train, treat_train,\n",
        "    estimator_trmnt_fit_params={'cat_features': cat_features}, \n",
        "    estimator_ctrl_fit_params={'cat_features': cat_features}\n",
        ")\n",
        "\n",
        "uplift_tm = tm.predict(X_test)\n",
        "\n",
        "tm_score_10 = uplift_at_k(y_true=y_test, uplift=uplift_tm, treatment=treat_test, strategy='by_group', k=0.1)\n",
        "tm_score_20 = uplift_at_k(y_true=y_test, uplift=uplift_tm, treatment=treat_test, strategy='by_group', k=0.2)\n",
        "\n",
        "\n",
        "models_results['approach'].append('TwoModels')\n",
        "models_results['uplift@10%'].append(tm_score_10)\n",
        "models_results['uplift@20%'].append(tm_score_20)\n",
        "\n",
        "plot_uplift_preds(trmnt_preds=tm.trmnt_preds_, ctrl_preds=tm.ctrl_preds_);"
      ]
    },
    {
      "cell_type": "code",
      "execution_count": null,
      "id": "ff643e66",
      "metadata": {
        "id": "ff643e66",
        "outputId": "ee3d7525-5319-4685-eb91-6b4d7c1d493e"
      },
      "outputs": [
        {
          "data": {
            "text/html": [
              "<div>\n",
              "<style scoped>\n",
              "    .dataframe tbody tr th:only-of-type {\n",
              "        vertical-align: middle;\n",
              "    }\n",
              "\n",
              "    .dataframe tbody tr th {\n",
              "        vertical-align: top;\n",
              "    }\n",
              "\n",
              "    .dataframe thead th {\n",
              "        text-align: right;\n",
              "    }\n",
              "</style>\n",
              "<table border=\"1\" class=\"dataframe\">\n",
              "  <thead>\n",
              "    <tr style=\"text-align: right;\">\n",
              "      <th></th>\n",
              "      <th>approach</th>\n",
              "      <th>uplift@10%</th>\n",
              "      <th>uplift@20%</th>\n",
              "    </tr>\n",
              "  </thead>\n",
              "  <tbody>\n",
              "    <tr>\n",
              "      <th>2</th>\n",
              "      <td>TwoModels</td>\n",
              "      <td>0.066474</td>\n",
              "      <td>0.072533</td>\n",
              "    </tr>\n",
              "    <tr>\n",
              "      <th>0</th>\n",
              "      <td>SoloModel</td>\n",
              "      <td>0.066456</td>\n",
              "      <td>0.071769</td>\n",
              "    </tr>\n",
              "    <tr>\n",
              "      <th>1</th>\n",
              "      <td>ClassTransformation</td>\n",
              "      <td>0.069523</td>\n",
              "      <td>0.059188</td>\n",
              "    </tr>\n",
              "  </tbody>\n",
              "</table>\n",
              "</div>"
            ],
            "text/plain": [
              "              approach  uplift@10%  uplift@20%\n",
              "2            TwoModels    0.066474    0.072533\n",
              "0            SoloModel    0.066456    0.071769\n",
              "1  ClassTransformation    0.069523    0.059188"
            ]
          },
          "execution_count": 100,
          "metadata": {},
          "output_type": "execute_result"
        }
      ],
      "source": [
        "pd.DataFrame(data=models_results).sort_values('uplift@20%', ascending=False)"
      ]
    },
    {
      "cell_type": "markdown",
      "id": "76c60013",
      "metadata": {
        "id": "76c60013"
      },
      "source": [
        "#### *для модели S-learner построить зависимость таргета (конверсии - поле conversion) от значения uplift:\n",
        "    1. сделать прогноз и получить uplift для тестовой выборки\n",
        "    2. отсортировать тестовую выборку по uplift по убыванию\n",
        "    3. разбить на децили (pandas qcut вам в помощь)\n",
        "    4. для каждого дециля посчитать среднюю conversion"
      ]
    },
    {
      "cell_type": "markdown",
      "id": "a7b23dfc",
      "metadata": {
        "id": "a7b23dfc"
      },
      "source": [
        "#### Не уверена, что сделаю правильно, но попробую"
      ]
    },
    {
      "cell_type": "code",
      "execution_count": null,
      "id": "c92b1045",
      "metadata": {
        "id": "c92b1045"
      },
      "outputs": [],
      "source": [
        "X_test_uplift = X_test\n",
        "X_test_uplift['uplift'] = uplift_sm\n",
        "X_test_uplift['conversion'] = y_test"
      ]
    },
    {
      "cell_type": "code",
      "execution_count": null,
      "id": "ff4e658c",
      "metadata": {
        "id": "ff4e658c",
        "outputId": "ac9b90b2-c13a-460e-c4bc-5bbbdcd9efdc"
      },
      "outputs": [
        {
          "data": {
            "text/html": [
              "<div>\n",
              "<style scoped>\n",
              "    .dataframe tbody tr th:only-of-type {\n",
              "        vertical-align: middle;\n",
              "    }\n",
              "\n",
              "    .dataframe tbody tr th {\n",
              "        vertical-align: top;\n",
              "    }\n",
              "\n",
              "    .dataframe thead th {\n",
              "        text-align: right;\n",
              "    }\n",
              "</style>\n",
              "<table border=\"1\" class=\"dataframe\">\n",
              "  <thead>\n",
              "    <tr style=\"text-align: right;\">\n",
              "      <th></th>\n",
              "      <th>recency</th>\n",
              "      <th>history</th>\n",
              "      <th>used_discount</th>\n",
              "      <th>used_bogo</th>\n",
              "      <th>zip_code</th>\n",
              "      <th>is_referral</th>\n",
              "      <th>channel</th>\n",
              "      <th>uplift</th>\n",
              "      <th>conversion</th>\n",
              "    </tr>\n",
              "  </thead>\n",
              "  <tbody>\n",
              "    <tr>\n",
              "      <th>954</th>\n",
              "      <td>10</td>\n",
              "      <td>240.26</td>\n",
              "      <td>1</td>\n",
              "      <td>1</td>\n",
              "      <td>Rural</td>\n",
              "      <td>1</td>\n",
              "      <td>Web</td>\n",
              "      <td>0.207996</td>\n",
              "      <td>0</td>\n",
              "    </tr>\n",
              "    <tr>\n",
              "      <th>42879</th>\n",
              "      <td>10</td>\n",
              "      <td>230.04</td>\n",
              "      <td>1</td>\n",
              "      <td>1</td>\n",
              "      <td>Rural</td>\n",
              "      <td>1</td>\n",
              "      <td>Multichannel</td>\n",
              "      <td>0.207629</td>\n",
              "      <td>0</td>\n",
              "    </tr>\n",
              "    <tr>\n",
              "      <th>39210</th>\n",
              "      <td>10</td>\n",
              "      <td>234.68</td>\n",
              "      <td>1</td>\n",
              "      <td>1</td>\n",
              "      <td>Rural</td>\n",
              "      <td>1</td>\n",
              "      <td>Multichannel</td>\n",
              "      <td>0.207629</td>\n",
              "      <td>1</td>\n",
              "    </tr>\n",
              "    <tr>\n",
              "      <th>18549</th>\n",
              "      <td>9</td>\n",
              "      <td>212.31</td>\n",
              "      <td>1</td>\n",
              "      <td>1</td>\n",
              "      <td>Rural</td>\n",
              "      <td>1</td>\n",
              "      <td>Web</td>\n",
              "      <td>0.207145</td>\n",
              "      <td>0</td>\n",
              "    </tr>\n",
              "    <tr>\n",
              "      <th>60018</th>\n",
              "      <td>1</td>\n",
              "      <td>265.11</td>\n",
              "      <td>1</td>\n",
              "      <td>1</td>\n",
              "      <td>Rural</td>\n",
              "      <td>1</td>\n",
              "      <td>Multichannel</td>\n",
              "      <td>0.200666</td>\n",
              "      <td>0</td>\n",
              "    </tr>\n",
              "  </tbody>\n",
              "</table>\n",
              "</div>"
            ],
            "text/plain": [
              "       recency  history  used_discount  used_bogo zip_code  is_referral  \\\n",
              "954         10   240.26              1          1    Rural            1   \n",
              "42879       10   230.04              1          1    Rural            1   \n",
              "39210       10   234.68              1          1    Rural            1   \n",
              "18549        9   212.31              1          1    Rural            1   \n",
              "60018        1   265.11              1          1    Rural            1   \n",
              "\n",
              "            channel    uplift  conversion  \n",
              "954             Web  0.207996           0  \n",
              "42879  Multichannel  0.207629           0  \n",
              "39210  Multichannel  0.207629           1  \n",
              "18549           Web  0.207145           0  \n",
              "60018  Multichannel  0.200666           0  "
            ]
          },
          "execution_count": 102,
          "metadata": {},
          "output_type": "execute_result"
        }
      ],
      "source": [
        "X_test_uplift = X_test_uplift.sort_values(['uplift'], ascending=False)\n",
        "X_test_uplift.head()"
      ]
    },
    {
      "cell_type": "code",
      "execution_count": null,
      "id": "cc243b7a",
      "metadata": {
        "id": "cc243b7a",
        "outputId": "fc3a91d5-0799-44a7-a8ff-b0eaf22e4308"
      },
      "outputs": [
        {
          "data": {
            "text/html": [
              "<div>\n",
              "<style scoped>\n",
              "    .dataframe tbody tr th:only-of-type {\n",
              "        vertical-align: middle;\n",
              "    }\n",
              "\n",
              "    .dataframe tbody tr th {\n",
              "        vertical-align: top;\n",
              "    }\n",
              "\n",
              "    .dataframe thead th {\n",
              "        text-align: right;\n",
              "    }\n",
              "</style>\n",
              "<table border=\"1\" class=\"dataframe\">\n",
              "  <thead>\n",
              "    <tr style=\"text-align: right;\">\n",
              "      <th></th>\n",
              "      <th>recency</th>\n",
              "      <th>history</th>\n",
              "      <th>used_discount</th>\n",
              "      <th>used_bogo</th>\n",
              "      <th>zip_code</th>\n",
              "      <th>is_referral</th>\n",
              "      <th>channel</th>\n",
              "      <th>uplift</th>\n",
              "      <th>conversion</th>\n",
              "      <th>qcut</th>\n",
              "    </tr>\n",
              "  </thead>\n",
              "  <tbody>\n",
              "    <tr>\n",
              "      <th>954</th>\n",
              "      <td>10</td>\n",
              "      <td>240.26</td>\n",
              "      <td>1</td>\n",
              "      <td>1</td>\n",
              "      <td>Rural</td>\n",
              "      <td>1</td>\n",
              "      <td>Web</td>\n",
              "      <td>0.207996</td>\n",
              "      <td>0</td>\n",
              "      <td>3</td>\n",
              "    </tr>\n",
              "    <tr>\n",
              "      <th>42879</th>\n",
              "      <td>10</td>\n",
              "      <td>230.04</td>\n",
              "      <td>1</td>\n",
              "      <td>1</td>\n",
              "      <td>Rural</td>\n",
              "      <td>1</td>\n",
              "      <td>Multichannel</td>\n",
              "      <td>0.207629</td>\n",
              "      <td>0</td>\n",
              "      <td>3</td>\n",
              "    </tr>\n",
              "    <tr>\n",
              "      <th>39210</th>\n",
              "      <td>10</td>\n",
              "      <td>234.68</td>\n",
              "      <td>1</td>\n",
              "      <td>1</td>\n",
              "      <td>Rural</td>\n",
              "      <td>1</td>\n",
              "      <td>Multichannel</td>\n",
              "      <td>0.207629</td>\n",
              "      <td>1</td>\n",
              "      <td>3</td>\n",
              "    </tr>\n",
              "    <tr>\n",
              "      <th>18549</th>\n",
              "      <td>9</td>\n",
              "      <td>212.31</td>\n",
              "      <td>1</td>\n",
              "      <td>1</td>\n",
              "      <td>Rural</td>\n",
              "      <td>1</td>\n",
              "      <td>Web</td>\n",
              "      <td>0.207145</td>\n",
              "      <td>0</td>\n",
              "      <td>3</td>\n",
              "    </tr>\n",
              "    <tr>\n",
              "      <th>60018</th>\n",
              "      <td>1</td>\n",
              "      <td>265.11</td>\n",
              "      <td>1</td>\n",
              "      <td>1</td>\n",
              "      <td>Rural</td>\n",
              "      <td>1</td>\n",
              "      <td>Multichannel</td>\n",
              "      <td>0.200666</td>\n",
              "      <td>0</td>\n",
              "      <td>3</td>\n",
              "    </tr>\n",
              "    <tr>\n",
              "      <th>...</th>\n",
              "      <td>...</td>\n",
              "      <td>...</td>\n",
              "      <td>...</td>\n",
              "      <td>...</td>\n",
              "      <td>...</td>\n",
              "      <td>...</td>\n",
              "      <td>...</td>\n",
              "      <td>...</td>\n",
              "      <td>...</td>\n",
              "      <td>...</td>\n",
              "    </tr>\n",
              "    <tr>\n",
              "      <th>15209</th>\n",
              "      <td>2</td>\n",
              "      <td>353.69</td>\n",
              "      <td>1</td>\n",
              "      <td>0</td>\n",
              "      <td>Rural</td>\n",
              "      <td>0</td>\n",
              "      <td>Phone</td>\n",
              "      <td>-0.029182</td>\n",
              "      <td>0</td>\n",
              "      <td>0</td>\n",
              "    </tr>\n",
              "    <tr>\n",
              "      <th>27978</th>\n",
              "      <td>2</td>\n",
              "      <td>346.99</td>\n",
              "      <td>1</td>\n",
              "      <td>0</td>\n",
              "      <td>Rural</td>\n",
              "      <td>0</td>\n",
              "      <td>Phone</td>\n",
              "      <td>-0.029182</td>\n",
              "      <td>0</td>\n",
              "      <td>0</td>\n",
              "    </tr>\n",
              "    <tr>\n",
              "      <th>52171</th>\n",
              "      <td>2</td>\n",
              "      <td>269.64</td>\n",
              "      <td>1</td>\n",
              "      <td>0</td>\n",
              "      <td>Rural</td>\n",
              "      <td>0</td>\n",
              "      <td>Phone</td>\n",
              "      <td>-0.029311</td>\n",
              "      <td>0</td>\n",
              "      <td>0</td>\n",
              "    </tr>\n",
              "    <tr>\n",
              "      <th>30070</th>\n",
              "      <td>2</td>\n",
              "      <td>271.06</td>\n",
              "      <td>1</td>\n",
              "      <td>0</td>\n",
              "      <td>Rural</td>\n",
              "      <td>0</td>\n",
              "      <td>Phone</td>\n",
              "      <td>-0.029311</td>\n",
              "      <td>0</td>\n",
              "      <td>0</td>\n",
              "    </tr>\n",
              "    <tr>\n",
              "      <th>38591</th>\n",
              "      <td>6</td>\n",
              "      <td>226.22</td>\n",
              "      <td>1</td>\n",
              "      <td>0</td>\n",
              "      <td>Rural</td>\n",
              "      <td>0</td>\n",
              "      <td>Phone</td>\n",
              "      <td>-0.037092</td>\n",
              "      <td>0</td>\n",
              "      <td>0</td>\n",
              "    </tr>\n",
              "  </tbody>\n",
              "</table>\n",
              "<p>19200 rows × 10 columns</p>\n",
              "</div>"
            ],
            "text/plain": [
              "       recency  history  used_discount  used_bogo zip_code  is_referral  \\\n",
              "954         10   240.26              1          1    Rural            1   \n",
              "42879       10   230.04              1          1    Rural            1   \n",
              "39210       10   234.68              1          1    Rural            1   \n",
              "18549        9   212.31              1          1    Rural            1   \n",
              "60018        1   265.11              1          1    Rural            1   \n",
              "...        ...      ...            ...        ...      ...          ...   \n",
              "15209        2   353.69              1          0    Rural            0   \n",
              "27978        2   346.99              1          0    Rural            0   \n",
              "52171        2   269.64              1          0    Rural            0   \n",
              "30070        2   271.06              1          0    Rural            0   \n",
              "38591        6   226.22              1          0    Rural            0   \n",
              "\n",
              "            channel    uplift  conversion  qcut  \n",
              "954             Web  0.207996           0     3  \n",
              "42879  Multichannel  0.207629           0     3  \n",
              "39210  Multichannel  0.207629           1     3  \n",
              "18549           Web  0.207145           0     3  \n",
              "60018  Multichannel  0.200666           0     3  \n",
              "...             ...       ...         ...   ...  \n",
              "15209         Phone -0.029182           0     0  \n",
              "27978         Phone -0.029182           0     0  \n",
              "52171         Phone -0.029311           0     0  \n",
              "30070         Phone -0.029311           0     0  \n",
              "38591         Phone -0.037092           0     0  \n",
              "\n",
              "[19200 rows x 10 columns]"
            ]
          },
          "execution_count": 103,
          "metadata": {},
          "output_type": "execute_result"
        }
      ],
      "source": [
        "X_test_uplift['qcut']=pd.qcut(X_test_uplift['uplift'], 4, labels=False)\n",
        "X_test_uplift"
      ]
    },
    {
      "cell_type": "code",
      "execution_count": null,
      "id": "5bc7ed10",
      "metadata": {
        "id": "5bc7ed10",
        "outputId": "361f144b-5cd5-4cf4-89c5-2b2e351dedda"
      },
      "outputs": [
        {
          "data": {
            "text/plain": [
              "0.12101645490522808"
            ]
          },
          "execution_count": 104,
          "metadata": {},
          "output_type": "execute_result"
        }
      ],
      "source": [
        "X_test_uplift_сat = X_test_uplift[X_test_uplift['qcut'] == 0]\n",
        "X_test_uplift_сat['conversion'].mean()"
      ]
    },
    {
      "cell_type": "code",
      "execution_count": null,
      "id": "78c60f66",
      "metadata": {
        "id": "78c60f66",
        "outputId": "9868fb53-18d8-4ec1-86bc-70ffc25bfb99"
      },
      "outputs": [
        {
          "data": {
            "text/plain": [
              "0.12154006243496358"
            ]
          },
          "execution_count": 105,
          "metadata": {},
          "output_type": "execute_result"
        }
      ],
      "source": [
        "X_test_uplift_сat1 = X_test_uplift[X_test_uplift['qcut'] == 1]\n",
        "X_test_uplift_сat1['conversion'].mean()"
      ]
    },
    {
      "cell_type": "code",
      "execution_count": null,
      "id": "013862b4",
      "metadata": {
        "id": "013862b4",
        "outputId": "23c9a0eb-e193-4f46-a3ff-ec4b96b4b655"
      },
      "outputs": [
        {
          "data": {
            "text/plain": [
              "0.15392626536138304"
            ]
          },
          "execution_count": 106,
          "metadata": {},
          "output_type": "execute_result"
        }
      ],
      "source": [
        "X_test_uplift_сat2 = X_test_uplift[X_test_uplift['qcut'] == 2]\n",
        "X_test_uplift_сat2['conversion'].mean()"
      ]
    },
    {
      "cell_type": "code",
      "execution_count": null,
      "id": "3b53fa26",
      "metadata": {
        "id": "3b53fa26",
        "outputId": "355afe6c-29c9-432f-8534-7fa2c3fcb008"
      },
      "outputs": [
        {
          "data": {
            "text/plain": [
              "0.18547882328395576"
            ]
          },
          "execution_count": 107,
          "metadata": {},
          "output_type": "execute_result"
        }
      ],
      "source": [
        "X_test_uplift_сat3 = X_test_uplift[X_test_uplift['qcut'] == 3]\n",
        "X_test_uplift_сat3['conversion'].mean()"
      ]
    },
    {
      "cell_type": "code",
      "execution_count": null,
      "id": "26450fb8",
      "metadata": {
        "id": "26450fb8"
      },
      "outputs": [],
      "source": [
        ""
      ]
    }
  ],
  "metadata": {
    "kernelspec": {
      "display_name": "Python 3",
      "language": "python",
      "name": "python3"
    },
    "language_info": {
      "codemirror_mode": {
        "name": "ipython",
        "version": 3
      },
      "file_extension": ".py",
      "mimetype": "text/x-python",
      "name": "python",
      "nbconvert_exporter": "python",
      "pygments_lexer": "ipython3",
      "version": "3.8.8"
    },
    "colab": {
      "name": "HW_4_GorokhovaA..ipynb",
      "provenance": [],
      "include_colab_link": true
    }
  },
  "nbformat": 4,
  "nbformat_minor": 5
}