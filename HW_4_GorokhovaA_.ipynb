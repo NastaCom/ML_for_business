{
  "cells": [
    {
      "cell_type": "markdown",
      "metadata": {
        "id": "view-in-github",
        "colab_type": "text"
      },
      "source": [
        "<a href=\"https://colab.research.google.com/github/NastaCom/ML_for_business/blob/main/HW_4_GorokhovaA_.ipynb\" target=\"_parent\"><img src=\"https://colab.research.google.com/assets/colab-badge.svg\" alt=\"Open In Colab\"/></a>"
      ]
    },
    {
      "cell_type": "markdown",
      "id": "5f49c293",
      "metadata": {
        "id": "5f49c293"
      },
      "source": [
        "### Домашнее задание"
      ]
    },
    {
      "cell_type": "markdown",
      "id": "128f292e",
      "metadata": {
        "id": "128f292e"
      },
      "source": [
        "1. скачать набор данных маркетинговых кампаний отсюда https://www.kaggle.com/davinwijaya/customer-retention\n",
        "2. поле conversion - это целевая переменная, а offer - коммуникация. Переименовать поля (conversion -> target, offer -> treatment) и привести поле treatment к бинарному виду (1 или 0, т.е было какое-то предложение или нет) - значение No Offer означает отсутствие коммуникации, а все остальные - наличие.\n",
        "3. сделать разбиение набора данных не тренировочную и тестовую выборки\n",
        "4. провести uplift-моделирование 3 способами:\n",
        "    1. одна модель с признаком коммуникации (S-learner)\n",
        "    2. модель с трансформацией таргета\n",
        "    3. вариант с двумя независимыми моделями\n",
        "5. в конце вывести единую таблицу сравнения метрик uplift@10%, uplift@20% 3 моделей\n",
        "6. *для модели S-learner построить зависимость таргета (конверсии - поле conversion) от значения uplift:\n",
        "    1. сделать прогноз и получить uplift для тестовой выборки\n",
        "    2. отсортировать тестовую выборку по uplift по убыванию\n",
        "    3. разбить на децили (pandas qcut вам в помощь)\n",
        "    4. для каждого дециля посчитать среднюю conversion"
      ]
    },
    {
      "cell_type": "raw",
      "id": "1fbb8856",
      "metadata": {
        "id": "1fbb8856"
      },
      "source": [
        "##### О наборе данных\n",
        "Контекст\n",
        "Маркетинговая рекламная кампания\n",
        "с данными о 6400 клиентах.\n",
        "\n",
        "##### Содержание\n",
        "Этот набор данных показывает краткую информацию о клиенте,\n",
        "историческое использование скидки или акции BOGO (Купи один, получи один),\n",
        "предложение было сделано, и результат конвертации(купить или нет).\n",
        "Средняя ценность конверсии = 25 долларов США.\n",
        "\n",
        "Этот набор данных является вымышленным набором данных для практических целей.\n",
        "\n",
        "##### Цель\n",
        "Прогнозировать коэффициент конверсии клиента\n",
        "Повышение эффективности моделирования для максимизации эффективности маркетинговой кампании и снижения ее стоимости"
      ]
    },
    {
      "cell_type": "markdown",
      "id": "7f8de25d",
      "metadata": {
        "id": "7f8de25d"
      },
      "source": [
        "### Уж очень хочется вначале посмотреть на данные. Поэтому вначале прочитаю файл, а затем импортирую все необходимые библиотеки для работы"
      ]
    },
    {
      "cell_type": "markdown",
      "id": "0e827afc",
      "metadata": {
        "id": "0e827afc"
      },
      "source": [
        "##### а еще мне удобно писать шпаргалки по признакам\n",
        "recency - месяцев с момента последней покупки\n",
        "\n",
        "history - стоимость исторических покупок\n",
        "\n",
        "used_discount - указывает, использовал ли клиент скидку до\n",
        "\n",
        "used_bogo - указывает, использовал ли клиент функцию «купить, получить, прежде чем»\n",
        "\n",
        "zip_code - класс почтового индекса как пригородный / городской / сельский\n",
        "\n",
        "is_referral - указывает, был ли клиент привлечен по реферальному каналу\n",
        "\n",
        "channel - каналы, которые использует клиент, телефон/веб/многоканальный\n",
        "\n",
        "offer - предложения, отправленные клиентам, скидка / но один получает один / нет предложения\n",
        "\n",
        "conversion - конверсия клиента (купит или нет)"
      ]
    },
    {
      "cell_type": "code",
      "execution_count": null,
      "id": "3c85ffd2",
      "metadata": {
        "id": "3c85ffd2"
      },
      "outputs": [],
      "source": [
        "import pandas as pd"
      ]
    },
    {
      "cell_type": "code",
      "execution_count": null,
      "id": "7d9818b9",
      "metadata": {
        "id": "7d9818b9",
        "outputId": "2b3363e3-144a-4410-9fc2-656963cefd4b"
      },
      "outputs": [
        {
          "data": {
            "text/html": [
              "<div>\n",
              "<style scoped>\n",
              "    .dataframe tbody tr th:only-of-type {\n",
              "        vertical-align: middle;\n",
              "    }\n",
              "\n",
              "    .dataframe tbody tr th {\n",
              "        vertical-align: top;\n",
              "    }\n",
              "\n",
              "    .dataframe thead th {\n",
              "        text-align: right;\n",
              "    }\n",
              "</style>\n",
              "<table border=\"1\" class=\"dataframe\">\n",
              "  <thead>\n",
              "    <tr style=\"text-align: right;\">\n",
              "      <th></th>\n",
              "      <th>recency</th>\n",
              "      <th>history</th>\n",
              "      <th>used_discount</th>\n",
              "      <th>used_bogo</th>\n",
              "      <th>zip_code</th>\n",
              "      <th>is_referral</th>\n",
              "      <th>channel</th>\n",
              "      <th>offer</th>\n",
              "      <th>conversion</th>\n",
              "    </tr>\n",
              "  </thead>\n",
              "  <tbody>\n",
              "    <tr>\n",
              "      <th>0</th>\n",
              "      <td>10</td>\n",
              "      <td>142.44</td>\n",
              "      <td>1</td>\n",
              "      <td>0</td>\n",
              "      <td>Surburban</td>\n",
              "      <td>0</td>\n",
              "      <td>Phone</td>\n",
              "      <td>Buy One Get One</td>\n",
              "      <td>0</td>\n",
              "    </tr>\n",
              "    <tr>\n",
              "      <th>1</th>\n",
              "      <td>6</td>\n",
              "      <td>329.08</td>\n",
              "      <td>1</td>\n",
              "      <td>1</td>\n",
              "      <td>Rural</td>\n",
              "      <td>1</td>\n",
              "      <td>Web</td>\n",
              "      <td>No Offer</td>\n",
              "      <td>0</td>\n",
              "    </tr>\n",
              "    <tr>\n",
              "      <th>2</th>\n",
              "      <td>7</td>\n",
              "      <td>180.65</td>\n",
              "      <td>0</td>\n",
              "      <td>1</td>\n",
              "      <td>Surburban</td>\n",
              "      <td>1</td>\n",
              "      <td>Web</td>\n",
              "      <td>Buy One Get One</td>\n",
              "      <td>0</td>\n",
              "    </tr>\n",
              "    <tr>\n",
              "      <th>3</th>\n",
              "      <td>9</td>\n",
              "      <td>675.83</td>\n",
              "      <td>1</td>\n",
              "      <td>0</td>\n",
              "      <td>Rural</td>\n",
              "      <td>1</td>\n",
              "      <td>Web</td>\n",
              "      <td>Discount</td>\n",
              "      <td>0</td>\n",
              "    </tr>\n",
              "    <tr>\n",
              "      <th>4</th>\n",
              "      <td>2</td>\n",
              "      <td>45.34</td>\n",
              "      <td>1</td>\n",
              "      <td>0</td>\n",
              "      <td>Urban</td>\n",
              "      <td>0</td>\n",
              "      <td>Web</td>\n",
              "      <td>Buy One Get One</td>\n",
              "      <td>0</td>\n",
              "    </tr>\n",
              "  </tbody>\n",
              "</table>\n",
              "</div>"
            ],
            "text/plain": [
              "   recency  history  used_discount  used_bogo   zip_code  is_referral channel  \\\n",
              "0       10   142.44              1          0  Surburban            0   Phone   \n",
              "1        6   329.08              1          1      Rural            1     Web   \n",
              "2        7   180.65              0          1  Surburban            1     Web   \n",
              "3        9   675.83              1          0      Rural            1     Web   \n",
              "4        2    45.34              1          0      Urban            0     Web   \n",
              "\n",
              "             offer  conversion  \n",
              "0  Buy One Get One           0  \n",
              "1         No Offer           0  \n",
              "2  Buy One Get One           0  \n",
              "3         Discount           0  \n",
              "4  Buy One Get One           0  "
            ]
          },
          "execution_count": 35,
          "metadata": {},
          "output_type": "execute_result"
        }
      ],
      "source": [
        "df = pd.read_csv(\"data.csv\")\n",
        "df.head()"
      ]
    },
    {
      "cell_type": "code",
      "execution_count": null,
      "id": "8b047762",
      "metadata": {
        "id": "8b047762",
        "outputId": "3bbcc950-f4c3-406b-bbc3-170fbcfda095"
      },
      "outputs": [
        {
          "name": "stdout",
          "output_type": "stream",
          "text": [
            "<class 'pandas.core.frame.DataFrame'>\n",
            "RangeIndex: 64000 entries, 0 to 63999\n",
            "Data columns (total 9 columns):\n",
            " #   Column         Non-Null Count  Dtype  \n",
            "---  ------         --------------  -----  \n",
            " 0   recency        64000 non-null  int64  \n",
            " 1   history        64000 non-null  float64\n",
            " 2   used_discount  64000 non-null  int64  \n",
            " 3   used_bogo      64000 non-null  int64  \n",
            " 4   zip_code       64000 non-null  object \n",
            " 5   is_referral    64000 non-null  int64  \n",
            " 6   channel        64000 non-null  object \n",
            " 7   offer          64000 non-null  object \n",
            " 8   conversion     64000 non-null  int64  \n",
            "dtypes: float64(1), int64(5), object(3)\n",
            "memory usage: 4.4+ MB\n"
          ]
        }
      ],
      "source": [
        "df.info()"
      ]
    },
    {
      "cell_type": "markdown",
      "id": "7c04942e",
      "metadata": {
        "id": "7c04942e"
      },
      "source": [
        "#### И сразу же (по заданию) переименую поля (conversion -> target, offer -> treatment) и приведу поле treatment к бинарному виду (1 или 0, т.е было какое-то предложение или нет) - значение No Offer означает отсутствие коммуникации, а все остальные - наличие."
      ]
    },
    {
      "cell_type": "code",
      "execution_count": null,
      "id": "fdad6d7d",
      "metadata": {
        "id": "fdad6d7d",
        "outputId": "3dc3ec27-e60b-41d3-c7ba-058260da8c0f"
      },
      "outputs": [
        {
          "data": {
            "text/html": [
              "<div>\n",
              "<style scoped>\n",
              "    .dataframe tbody tr th:only-of-type {\n",
              "        vertical-align: middle;\n",
              "    }\n",
              "\n",
              "    .dataframe tbody tr th {\n",
              "        vertical-align: top;\n",
              "    }\n",
              "\n",
              "    .dataframe thead th {\n",
              "        text-align: right;\n",
              "    }\n",
              "</style>\n",
              "<table border=\"1\" class=\"dataframe\">\n",
              "  <thead>\n",
              "    <tr style=\"text-align: right;\">\n",
              "      <th></th>\n",
              "      <th>recency</th>\n",
              "      <th>history</th>\n",
              "      <th>used_discount</th>\n",
              "      <th>used_bogo</th>\n",
              "      <th>zip_code</th>\n",
              "      <th>is_referral</th>\n",
              "      <th>channel</th>\n",
              "      <th>treatment</th>\n",
              "      <th>target</th>\n",
              "    </tr>\n",
              "  </thead>\n",
              "  <tbody>\n",
              "    <tr>\n",
              "      <th>0</th>\n",
              "      <td>10</td>\n",
              "      <td>142.44</td>\n",
              "      <td>1</td>\n",
              "      <td>0</td>\n",
              "      <td>Surburban</td>\n",
              "      <td>0</td>\n",
              "      <td>Phone</td>\n",
              "      <td>Buy One Get One</td>\n",
              "      <td>0</td>\n",
              "    </tr>\n",
              "    <tr>\n",
              "      <th>1</th>\n",
              "      <td>6</td>\n",
              "      <td>329.08</td>\n",
              "      <td>1</td>\n",
              "      <td>1</td>\n",
              "      <td>Rural</td>\n",
              "      <td>1</td>\n",
              "      <td>Web</td>\n",
              "      <td>No Offer</td>\n",
              "      <td>0</td>\n",
              "    </tr>\n",
              "    <tr>\n",
              "      <th>2</th>\n",
              "      <td>7</td>\n",
              "      <td>180.65</td>\n",
              "      <td>0</td>\n",
              "      <td>1</td>\n",
              "      <td>Surburban</td>\n",
              "      <td>1</td>\n",
              "      <td>Web</td>\n",
              "      <td>Buy One Get One</td>\n",
              "      <td>0</td>\n",
              "    </tr>\n",
              "    <tr>\n",
              "      <th>3</th>\n",
              "      <td>9</td>\n",
              "      <td>675.83</td>\n",
              "      <td>1</td>\n",
              "      <td>0</td>\n",
              "      <td>Rural</td>\n",
              "      <td>1</td>\n",
              "      <td>Web</td>\n",
              "      <td>Discount</td>\n",
              "      <td>0</td>\n",
              "    </tr>\n",
              "    <tr>\n",
              "      <th>4</th>\n",
              "      <td>2</td>\n",
              "      <td>45.34</td>\n",
              "      <td>1</td>\n",
              "      <td>0</td>\n",
              "      <td>Urban</td>\n",
              "      <td>0</td>\n",
              "      <td>Web</td>\n",
              "      <td>Buy One Get One</td>\n",
              "      <td>0</td>\n",
              "    </tr>\n",
              "  </tbody>\n",
              "</table>\n",
              "</div>"
            ],
            "text/plain": [
              "   recency  history  used_discount  used_bogo   zip_code  is_referral channel  \\\n",
              "0       10   142.44              1          0  Surburban            0   Phone   \n",
              "1        6   329.08              1          1      Rural            1     Web   \n",
              "2        7   180.65              0          1  Surburban            1     Web   \n",
              "3        9   675.83              1          0      Rural            1     Web   \n",
              "4        2    45.34              1          0      Urban            0     Web   \n",
              "\n",
              "         treatment  target  \n",
              "0  Buy One Get One       0  \n",
              "1         No Offer       0  \n",
              "2  Buy One Get One       0  \n",
              "3         Discount       0  \n",
              "4  Buy One Get One       0  "
            ]
          },
          "execution_count": 37,
          "metadata": {},
          "output_type": "execute_result"
        }
      ],
      "source": [
        "df.rename(columns={\"conversion\": \"target\", \"offer\": \"treatment\"}, inplace=True)\n",
        "df.head()"
      ]
    },
    {
      "cell_type": "code",
      "execution_count": null,
      "id": "6c2b7924",
      "metadata": {
        "id": "6c2b7924",
        "outputId": "c1b7cc00-21d0-4df6-f878-d3079a3d2144"
      },
      "outputs": [
        {
          "data": {
            "text/plain": [
              "recency          0\n",
              "history          0\n",
              "used_discount    0\n",
              "used_bogo        0\n",
              "zip_code         0\n",
              "is_referral      0\n",
              "channel          0\n",
              "treatment        0\n",
              "target           0\n",
              "dtype: int64"
            ]
          },
          "execution_count": 38,
          "metadata": {},
          "output_type": "execute_result"
        }
      ],
      "source": [
        "df.isna().sum()"
      ]
    },
    {
      "cell_type": "code",
      "execution_count": null,
      "id": "e28d970b",
      "metadata": {
        "id": "e28d970b"
      },
      "outputs": [],
      "source": [
        "# df = pd.concat([df, pd.get_dummies(df['treatment'])], axis=1)\n",
        "# df.head()"
      ]
    },
    {
      "cell_type": "code",
      "execution_count": null,
      "id": "682c79b3",
      "metadata": {
        "id": "682c79b3"
      },
      "outputs": [],
      "source": [
        "df.loc[df['treatment'] != 'No Offer', 'treatment'] = 1\n",
        "df.loc[df['treatment'] == 'No Offer', 'treatment'] = 0"
      ]
    },
    {
      "cell_type": "code",
      "execution_count": null,
      "id": "529525c3",
      "metadata": {
        "id": "529525c3",
        "outputId": "fe7a47d3-aafd-4417-a3bb-5858a1c05189"
      },
      "outputs": [
        {
          "data": {
            "text/html": [
              "<div>\n",
              "<style scoped>\n",
              "    .dataframe tbody tr th:only-of-type {\n",
              "        vertical-align: middle;\n",
              "    }\n",
              "\n",
              "    .dataframe tbody tr th {\n",
              "        vertical-align: top;\n",
              "    }\n",
              "\n",
              "    .dataframe thead th {\n",
              "        text-align: right;\n",
              "    }\n",
              "</style>\n",
              "<table border=\"1\" class=\"dataframe\">\n",
              "  <thead>\n",
              "    <tr style=\"text-align: right;\">\n",
              "      <th></th>\n",
              "      <th>recency</th>\n",
              "      <th>history</th>\n",
              "      <th>used_discount</th>\n",
              "      <th>used_bogo</th>\n",
              "      <th>zip_code</th>\n",
              "      <th>is_referral</th>\n",
              "      <th>channel</th>\n",
              "      <th>treatment</th>\n",
              "      <th>target</th>\n",
              "    </tr>\n",
              "  </thead>\n",
              "  <tbody>\n",
              "    <tr>\n",
              "      <th>0</th>\n",
              "      <td>10</td>\n",
              "      <td>142.44</td>\n",
              "      <td>1</td>\n",
              "      <td>0</td>\n",
              "      <td>Surburban</td>\n",
              "      <td>0</td>\n",
              "      <td>Phone</td>\n",
              "      <td>1</td>\n",
              "      <td>0</td>\n",
              "    </tr>\n",
              "    <tr>\n",
              "      <th>1</th>\n",
              "      <td>6</td>\n",
              "      <td>329.08</td>\n",
              "      <td>1</td>\n",
              "      <td>1</td>\n",
              "      <td>Rural</td>\n",
              "      <td>1</td>\n",
              "      <td>Web</td>\n",
              "      <td>0</td>\n",
              "      <td>0</td>\n",
              "    </tr>\n",
              "    <tr>\n",
              "      <th>2</th>\n",
              "      <td>7</td>\n",
              "      <td>180.65</td>\n",
              "      <td>0</td>\n",
              "      <td>1</td>\n",
              "      <td>Surburban</td>\n",
              "      <td>1</td>\n",
              "      <td>Web</td>\n",
              "      <td>1</td>\n",
              "      <td>0</td>\n",
              "    </tr>\n",
              "    <tr>\n",
              "      <th>3</th>\n",
              "      <td>9</td>\n",
              "      <td>675.83</td>\n",
              "      <td>1</td>\n",
              "      <td>0</td>\n",
              "      <td>Rural</td>\n",
              "      <td>1</td>\n",
              "      <td>Web</td>\n",
              "      <td>1</td>\n",
              "      <td>0</td>\n",
              "    </tr>\n",
              "    <tr>\n",
              "      <th>4</th>\n",
              "      <td>2</td>\n",
              "      <td>45.34</td>\n",
              "      <td>1</td>\n",
              "      <td>0</td>\n",
              "      <td>Urban</td>\n",
              "      <td>0</td>\n",
              "      <td>Web</td>\n",
              "      <td>1</td>\n",
              "      <td>0</td>\n",
              "    </tr>\n",
              "  </tbody>\n",
              "</table>\n",
              "</div>"
            ],
            "text/plain": [
              "   recency  history  used_discount  used_bogo   zip_code  is_referral channel  \\\n",
              "0       10   142.44              1          0  Surburban            0   Phone   \n",
              "1        6   329.08              1          1      Rural            1     Web   \n",
              "2        7   180.65              0          1  Surburban            1     Web   \n",
              "3        9   675.83              1          0      Rural            1     Web   \n",
              "4        2    45.34              1          0      Urban            0     Web   \n",
              "\n",
              "   treatment  target  \n",
              "0          1       0  \n",
              "1          0       0  \n",
              "2          1       0  \n",
              "3          1       0  \n",
              "4          1       0  "
            ]
          },
          "execution_count": 41,
          "metadata": {},
          "output_type": "execute_result"
        }
      ],
      "source": [
        "df['treatment'] = df['treatment'].astype(str).astype(int)\n",
        "df.head()"
      ]
    },
    {
      "cell_type": "markdown",
      "id": "470ec635",
      "metadata": {
        "id": "470ec635"
      },
      "source": [
        "#### Импортируем нужные библиотеки и предобработаем данные "
      ]
    },
    {
      "cell_type": "code",
      "execution_count": null,
      "id": "9f4a79fe",
      "metadata": {
        "id": "9f4a79fe",
        "outputId": "27c1b33a-35c4-49d7-89cf-890bda9d0dea"
      },
      "outputs": [
        {
          "name": "stdout",
          "output_type": "stream",
          "text": [
            "Requirement already satisfied: scikit-uplift==0.2.0 in c:\\users\\user\\anaconda3\\lib\\site-packages (0.2.0)\n",
            "Requirement already satisfied: scikit-learn>=0.21.0 in c:\\users\\user\\anaconda3\\lib\\site-packages (from scikit-uplift==0.2.0) (0.24.1)\n",
            "Requirement already satisfied: numpy>=1.16 in c:\\users\\user\\anaconda3\\lib\\site-packages (from scikit-uplift==0.2.0) (1.20.1)\n",
            "Requirement already satisfied: matplotlib in c:\\users\\user\\anaconda3\\lib\\site-packages (from scikit-uplift==0.2.0) (3.3.4)\n",
            "Requirement already satisfied: pandas in c:\\users\\user\\anaconda3\\lib\\site-packages (from scikit-uplift==0.2.0) (1.2.4)\n",
            "Requirement already satisfied: scipy>=0.19.1 in c:\\users\\user\\anaconda3\\lib\\site-packages (from scikit-learn>=0.21.0->scikit-uplift==0.2.0) (1.6.2)\n",
            "Requirement already satisfied: joblib>=0.11 in c:\\users\\user\\anaconda3\\lib\\site-packages (from scikit-learn>=0.21.0->scikit-uplift==0.2.0) (1.0.1)\n",
            "Requirement already satisfied: threadpoolctl>=2.0.0 in c:\\users\\user\\anaconda3\\lib\\site-packages (from scikit-learn>=0.21.0->scikit-uplift==0.2.0) (2.1.0)\n",
            "Requirement already satisfied: python-dateutil>=2.1 in c:\\users\\user\\anaconda3\\lib\\site-packages (from matplotlib->scikit-uplift==0.2.0) (2.8.1)\n",
            "Requirement already satisfied: pillow>=6.2.0 in c:\\users\\user\\anaconda3\\lib\\site-packages (from matplotlib->scikit-uplift==0.2.0) (8.2.0)\n",
            "Requirement already satisfied: kiwisolver>=1.0.1 in c:\\users\\user\\anaconda3\\lib\\site-packages (from matplotlib->scikit-uplift==0.2.0) (1.3.1)\n",
            "Requirement already satisfied: pyparsing!=2.0.4,!=2.1.2,!=2.1.6,>=2.0.3 in c:\\users\\user\\anaconda3\\lib\\site-packages (from matplotlib->scikit-uplift==0.2.0) (2.4.7)\n",
            "Requirement already satisfied: cycler>=0.10 in c:\\users\\user\\anaconda3\\lib\\site-packages (from matplotlib->scikit-uplift==0.2.0) (0.10.0)\n",
            "Requirement already satisfied: six in c:\\users\\user\\anaconda3\\lib\\site-packages (from cycler>=0.10->matplotlib->scikit-uplift==0.2.0) (1.15.0)\n",
            "Requirement already satisfied: pytz>=2017.3 in c:\\users\\user\\anaconda3\\lib\\site-packages (from pandas->scikit-uplift==0.2.0) (2021.1)\n"
          ]
        }
      ],
      "source": [
        "!pip install scikit-uplift==0.2.0"
      ]
    },
    {
      "cell_type": "code",
      "execution_count": null,
      "id": "24405a61",
      "metadata": {
        "id": "24405a61",
        "outputId": "b000d62e-5546-47b6-cb58-8c768b1b2d2a"
      },
      "outputs": [
        {
          "name": "stdout",
          "output_type": "stream",
          "text": [
            "Requirement already satisfied: catboost in c:\\users\\user\\anaconda3\\lib\\site-packages (1.0.3)\n",
            "Requirement already satisfied: six in c:\\users\\user\\anaconda3\\lib\\site-packages (from catboost) (1.15.0)\n",
            "Requirement already satisfied: graphviz in c:\\users\\user\\anaconda3\\lib\\site-packages (from catboost) (0.18)\n",
            "Requirement already satisfied: plotly in c:\\users\\user\\anaconda3\\lib\\site-packages (from catboost) (5.3.1)\n",
            "Requirement already satisfied: pandas>=0.24.0 in c:\\users\\user\\anaconda3\\lib\\site-packages (from catboost) (1.2.4)\n",
            "Requirement already satisfied: numpy>=1.16.0 in c:\\users\\user\\anaconda3\\lib\\site-packages (from catboost) (1.20.1)\n",
            "Requirement already satisfied: scipy in c:\\users\\user\\anaconda3\\lib\\site-packages (from catboost) (1.6.2)\n",
            "Requirement already satisfied: matplotlib in c:\\users\\user\\anaconda3\\lib\\site-packages (from catboost) (3.3.4)\n",
            "Requirement already satisfied: pytz>=2017.3 in c:\\users\\user\\anaconda3\\lib\\site-packages (from pandas>=0.24.0->catboost) (2021.1)\n",
            "Requirement already satisfied: python-dateutil>=2.7.3 in c:\\users\\user\\anaconda3\\lib\\site-packages (from pandas>=0.24.0->catboost) (2.8.1)\n",
            "Requirement already satisfied: cycler>=0.10 in c:\\users\\user\\anaconda3\\lib\\site-packages (from matplotlib->catboost) (0.10.0)\n",
            "Requirement already satisfied: kiwisolver>=1.0.1 in c:\\users\\user\\anaconda3\\lib\\site-packages (from matplotlib->catboost) (1.3.1)\n",
            "Requirement already satisfied: pyparsing!=2.0.4,!=2.1.2,!=2.1.6,>=2.0.3 in c:\\users\\user\\anaconda3\\lib\\site-packages (from matplotlib->catboost) (2.4.7)\n",
            "Requirement already satisfied: pillow>=6.2.0 in c:\\users\\user\\anaconda3\\lib\\site-packages (from matplotlib->catboost) (8.2.0)\n",
            "Requirement already satisfied: tenacity>=6.2.0 in c:\\users\\user\\anaconda3\\lib\\site-packages (from plotly->catboost) (8.0.1)\n"
          ]
        }
      ],
      "source": [
        "!pip install catboost"
      ]
    },
    {
      "cell_type": "code",
      "execution_count": null,
      "id": "10b2f0c0",
      "metadata": {
        "id": "10b2f0c0"
      },
      "outputs": [],
      "source": [
        "%matplotlib inline\n",
        "\n",
        "import numpy as np\n",
        "import pandas as pd; pd.set_option('display.max_columns', None)\n",
        "from sklearn.model_selection import train_test_split\n",
        "\n",
        "# Инструкция по установке пакета: https://github.com/maks-sh/scikit-uplift\n",
        "# Ссылка на документацию: https://scikit-uplift.readthedocs.io/en/latest/\n",
        "from sklift.metrics import uplift_at_k, uplift_by_percentile, uplift_auc_score, qini_auc_score\n",
        "from sklift.viz import plot_uplift_preds, plot_uplift_by_percentile, plot_uplift_curve, plot_qini_curve\n",
        "from sklift.models import SoloModel, ClassTransformation, TwoModels\n",
        "\n",
        "# sklift поддерживает любые модели, \n",
        "# которые удовлетворяют соглашениями scikit-learn\n",
        "# Для примера воспользуемся catboost\n",
        "from catboost import CatBoostClassifier\n",
        "\n",
        "from sklearn.utils.validation import check_consistent_length\n",
        "import matplotlib.pyplot as plt"
      ]
    },
    {
      "cell_type": "code",
      "execution_count": null,
      "id": "6fa8d2d3",
      "metadata": {
        "id": "6fa8d2d3"
      },
      "outputs": [],
      "source": [
        "# замена для родной функции из skuplift\n",
        "def plot_uplift_preds_(trmnt_preds, ctrl_preds, log=False, bins=100):\n",
        "    \"\"\"Plot histograms of treatment, control and uplift predictions.\n",
        "\n",
        "    Args:\n",
        "        trmnt_preds (1d array-like): Predictions for all observations if they are treatment.\n",
        "        ctrl_preds (1d array-like): Predictions for all observations if they are control.\n",
        "        log (bool): Logarithm of source samples. Default is False.\n",
        "        bins (integer or sequence): Number of histogram bins to be used. Default is 100.\n",
        "            If an integer is given, bins + 1 bin edges are calculated and returned.\n",
        "            If bins is a sequence, gives bin edges, including left edge of first bin and right edge of last bin.\n",
        "            In this case, bins is returned unmodified. Default is 100.\n",
        "\n",
        "    Returns:\n",
        "        Object that stores computed values.\n",
        "    \"\"\"\n",
        "\n",
        "    # TODO: Add k as parameter: vertical line on plots\n",
        "    check_consistent_length(trmnt_preds, ctrl_preds)\n",
        "  \n",
        "    if not isinstance(bins, int) or bins <= 0:\n",
        "        raise ValueError(\n",
        "            f'Bins should be positive integer. Invalid value for bins: {bins}')\n",
        "\n",
        "    if log:\n",
        "        trmnt_preds = np.log(trmnt_preds + 1)\n",
        "        ctrl_preds = np.log(ctrl_preds + 1)\n",
        "\n",
        "    fig, axes = plt.subplots(ncols=3, nrows=1, figsize=(20, 7))\n",
        "    axes[0].hist(\n",
        "        trmnt_preds, bins=bins, alpha=0.3, color='b', label='Treated', histtype='stepfilled')\n",
        "    axes[0].set_ylabel('Probability hist')\n",
        "    axes[0].legend()\n",
        "    axes[0].set_title('Treatment predictions')\n",
        "\n",
        "    axes[1].hist(\n",
        "        ctrl_preds, bins=bins, alpha=0.5, color='y', label='Not treated', histtype='stepfilled')\n",
        "    axes[1].legend()\n",
        "    axes[1].set_title('Control predictions')\n",
        "\n",
        "    axes[2].hist(\n",
        "        trmnt_preds - ctrl_preds, bins=bins, alpha=0.5, color='green', label='Uplift', histtype='stepfilled')\n",
        "    axes[2].legend()\n",
        "    axes[2].set_title('Uplift predictions')\n",
        "\n",
        "    return axes"
      ]
    },
    {
      "cell_type": "markdown",
      "id": "46ed5616",
      "metadata": {
        "id": "46ed5616"
      },
      "source": [
        "#### Разобью набор данных не тренировочную и тестовую выборки"
      ]
    },
    {
      "cell_type": "code",
      "execution_count": null,
      "id": "65ccb1a7",
      "metadata": {
        "id": "65ccb1a7"
      },
      "outputs": [],
      "source": [
        "X = pd.get_dummies(df)\n",
        "X.drop('target', axis=1, inplace=True)\n",
        "y = df['target']\n",
        "\n",
        "X_train, X_test, y_train, y_test = train_test_split(X, y, test_size=0.3)"
      ]
    },
    {
      "cell_type": "code",
      "execution_count": null,
      "id": "e7918577",
      "metadata": {
        "id": "e7918577"
      },
      "outputs": [],
      "source": [
        "X_train_ = X_train.drop(columns=[\"treatment\"])\n",
        "treat_train = X_train['treatment']\n",
        "\n",
        "X_test_ = X_test.drop(columns=[\"treatment\"])\n",
        "treat_test = X_test['treatment']\n",
        "\n",
        "cat_features = ['zip_code', 'channel']"
      ]
    },
    {
      "cell_type": "markdown",
      "id": "9f433b8d",
      "metadata": {
        "id": "9f433b8d"
      },
      "source": [
        "### Одна модель с признаком коммуникации"
      ]
    },
    {
      "cell_type": "code",
      "execution_count": null,
      "id": "5e24f215",
      "metadata": {
        "id": "5e24f215",
        "outputId": "ac7f6210-d073-42a4-8ba9-b84dca10d592"
      },
      "outputs": [
        {
          "data": {
            "image/png": "[encoded data removed]",
            "text/plain": [
              "<Figure size 1440x504 with 3 Axes>"
            ]
          },
          "metadata": {
            "needs_background": "light"
          },
          "output_type": "display_data"
        }
      ],
      "source": [
        "models_results = {\n",
        "    'approach': [],\n",
        "    'uplift@10%': [], \n",
        "    'uplift@20%': []\n",
        "}\n",
        "\n",
        "treat_train = X_train.treatment\n",
        "treat_test = X_test.treatment\n",
        "\n",
        "sm = SoloModel(CatBoostClassifier(iterations=20, thread_count=2, random_state=42, silent=True))\n",
        "sm = sm.fit(X_train, y_train, treat_train)\n",
        "\n",
        "uplift_sm = sm.predict(X_test)\n",
        "\n",
        "# размер uplift на топ k процентах выборки\n",
        "sm_score_10 = uplift_at_k(y_true=y_test, uplift=uplift_sm, treatment=treat_test, strategy='by_group', k=0.1)\n",
        "sm_score_20 = uplift_at_k(y_true=y_test, uplift=uplift_sm, treatment=treat_test, strategy='by_group', k=0.2)\n",
        "\n",
        "models_results['approach'].append('SoloModel')\n",
        "models_results['uplift@10%'].append(sm_score_10)\n",
        "models_results['uplift@20%'].append(sm_score_20)\n",
        "\n",
        "# Получим условные вероятности выполнения целевого действия при взаимодействии для каждого объекта\n",
        "sm_trmnt_preds = sm.trmnt_preds_\n",
        "# И условные вероятности выполнения целевого действия без взаимодействия для каждого объекта\n",
        "sm_ctrl_preds = sm.ctrl_preds_\n",
        "\n",
        "# Отрисуем распределения вероятностей и их разность (uplift)\n",
        "plot_uplift_preds(trmnt_preds=sm_trmnt_preds, ctrl_preds=sm_ctrl_preds); #ctrl_preds="
      ]
    },
    {
      "cell_type": "code",
      "execution_count": null,
      "id": "b8978bf0",
      "metadata": {
        "id": "b8978bf0",
        "outputId": "d4fa9c12-dc2b-47b5-97f9-b8bb12d0bb15"
      },
      "outputs": [
        {
          "data": {
            "text/html": [
              "<div>\n",
              "<style scoped>\n",
              "    .dataframe tbody tr th:only-of-type {\n",
              "        vertical-align: middle;\n",
              "    }\n",
              "\n",
              "    .dataframe tbody tr th {\n",
              "        vertical-align: top;\n",
              "    }\n",
              "\n",
              "    .dataframe thead th {\n",
              "        text-align: right;\n",
              "    }\n",
              "</style>\n",
              "<table border=\"1\" class=\"dataframe\">\n",
              "  <thead>\n",
              "    <tr style=\"text-align: right;\">\n",
              "      <th></th>\n",
              "      <th>true</th>\n",
              "      <th>uplift</th>\n",
              "      <th>treat</th>\n",
              "    </tr>\n",
              "  </thead>\n",
              "  <tbody>\n",
              "    <tr>\n",
              "      <th>29114</th>\n",
              "      <td>1</td>\n",
              "      <td>0.035552</td>\n",
              "      <td>1</td>\n",
              "    </tr>\n",
              "    <tr>\n",
              "      <th>7681</th>\n",
              "      <td>0</td>\n",
              "      <td>0.038497</td>\n",
              "      <td>0</td>\n",
              "    </tr>\n",
              "    <tr>\n",
              "      <th>49777</th>\n",
              "      <td>0</td>\n",
              "      <td>0.051449</td>\n",
              "      <td>1</td>\n",
              "    </tr>\n",
              "    <tr>\n",
              "      <th>24492</th>\n",
              "      <td>0</td>\n",
              "      <td>0.042002</td>\n",
              "      <td>1</td>\n",
              "    </tr>\n",
              "    <tr>\n",
              "      <th>21344</th>\n",
              "      <td>0</td>\n",
              "      <td>0.069421</td>\n",
              "      <td>1</td>\n",
              "    </tr>\n",
              "    <tr>\n",
              "      <th>26560</th>\n",
              "      <td>0</td>\n",
              "      <td>0.044458</td>\n",
              "      <td>1</td>\n",
              "    </tr>\n",
              "    <tr>\n",
              "      <th>31643</th>\n",
              "      <td>0</td>\n",
              "      <td>0.077221</td>\n",
              "      <td>0</td>\n",
              "    </tr>\n",
              "    <tr>\n",
              "      <th>7612</th>\n",
              "      <td>0</td>\n",
              "      <td>0.041474</td>\n",
              "      <td>1</td>\n",
              "    </tr>\n",
              "    <tr>\n",
              "      <th>9846</th>\n",
              "      <td>0</td>\n",
              "      <td>0.098333</td>\n",
              "      <td>0</td>\n",
              "    </tr>\n",
              "    <tr>\n",
              "      <th>19202</th>\n",
              "      <td>0</td>\n",
              "      <td>0.127342</td>\n",
              "      <td>0</td>\n",
              "    </tr>\n",
              "    <tr>\n",
              "      <th>5672</th>\n",
              "      <td>0</td>\n",
              "      <td>0.143102</td>\n",
              "      <td>1</td>\n",
              "    </tr>\n",
              "    <tr>\n",
              "      <th>51373</th>\n",
              "      <td>0</td>\n",
              "      <td>0.041872</td>\n",
              "      <td>1</td>\n",
              "    </tr>\n",
              "    <tr>\n",
              "      <th>18376</th>\n",
              "      <td>0</td>\n",
              "      <td>0.046774</td>\n",
              "      <td>1</td>\n",
              "    </tr>\n",
              "    <tr>\n",
              "      <th>32249</th>\n",
              "      <td>0</td>\n",
              "      <td>0.043189</td>\n",
              "      <td>1</td>\n",
              "    </tr>\n",
              "    <tr>\n",
              "      <th>47126</th>\n",
              "      <td>0</td>\n",
              "      <td>0.083503</td>\n",
              "      <td>0</td>\n",
              "    </tr>\n",
              "  </tbody>\n",
              "</table>\n",
              "</div>"
            ],
            "text/plain": [
              "       true    uplift  treat\n",
              "29114     1  0.035552      1\n",
              "7681      0  0.038497      0\n",
              "49777     0  0.051449      1\n",
              "24492     0  0.042002      1\n",
              "21344     0  0.069421      1\n",
              "26560     0  0.044458      1\n",
              "31643     0  0.077221      0\n",
              "7612      0  0.041474      1\n",
              "9846      0  0.098333      0\n",
              "19202     0  0.127342      0\n",
              "5672      0  0.143102      1\n",
              "51373     0  0.041872      1\n",
              "18376     0  0.046774      1\n",
              "32249     0  0.043189      1\n",
              "47126     0  0.083503      0"
            ]
          },
          "execution_count": 49,
          "metadata": {},
          "output_type": "execute_result"
        }
      ],
      "source": [
        "n = 15\n",
        "df_ul = pd.DataFrame({\n",
        "    'true': y_test[:n],\n",
        "    'uplift': uplift_sm[:n],\n",
        "    'treat': treat_test[:n]\n",
        "})   \n",
        "df_ul "
      ]
    },
    {
      "cell_type": "markdown",
      "id": "e416e02e",
      "metadata": {
        "id": "e416e02e"
      },
      "source": [
        "#### Посмотрим на топ-признаки"
      ]
    },
    {
      "cell_type": "code",
      "execution_count": null,
      "id": "8f1d5116",
      "metadata": {
        "id": "8f1d5116",
        "outputId": "54fa40a5-6721-4399-c4d7-84bdce402107"
      },
      "outputs": [
        {
          "data": {
            "text/html": [
              "<div>\n",
              "<style scoped>\n",
              "    .dataframe tbody tr th:only-of-type {\n",
              "        vertical-align: middle;\n",
              "    }\n",
              "\n",
              "    .dataframe tbody tr th {\n",
              "        vertical-align: top;\n",
              "    }\n",
              "\n",
              "    .dataframe thead th {\n",
              "        text-align: right;\n",
              "    }\n",
              "</style>\n",
              "<table border=\"1\" class=\"dataframe\">\n",
              "  <thead>\n",
              "    <tr style=\"text-align: right;\">\n",
              "      <th></th>\n",
              "      <th>feature_name</th>\n",
              "      <th>feature_score</th>\n",
              "    </tr>\n",
              "  </thead>\n",
              "  <tbody>\n",
              "    <tr>\n",
              "      <th>0</th>\n",
              "      <td>is_referral</td>\n",
              "      <td>19.075207</td>\n",
              "    </tr>\n",
              "    <tr>\n",
              "      <th>1</th>\n",
              "      <td>treatment</td>\n",
              "      <td>15.707998</td>\n",
              "    </tr>\n",
              "    <tr>\n",
              "      <th>2</th>\n",
              "      <td>recency</td>\n",
              "      <td>12.284380</td>\n",
              "    </tr>\n",
              "    <tr>\n",
              "      <th>3</th>\n",
              "      <td>history</td>\n",
              "      <td>12.200572</td>\n",
              "    </tr>\n",
              "    <tr>\n",
              "      <th>4</th>\n",
              "      <td>used_bogo</td>\n",
              "      <td>10.286389</td>\n",
              "    </tr>\n",
              "    <tr>\n",
              "      <th>5</th>\n",
              "      <td>used_discount</td>\n",
              "      <td>9.635555</td>\n",
              "    </tr>\n",
              "    <tr>\n",
              "      <th>6</th>\n",
              "      <td>zip_code_Rural</td>\n",
              "      <td>8.008612</td>\n",
              "    </tr>\n",
              "    <tr>\n",
              "      <th>7</th>\n",
              "      <td>channel_Phone</td>\n",
              "      <td>5.830268</td>\n",
              "    </tr>\n",
              "    <tr>\n",
              "      <th>8</th>\n",
              "      <td>channel_Web</td>\n",
              "      <td>3.116803</td>\n",
              "    </tr>\n",
              "    <tr>\n",
              "      <th>9</th>\n",
              "      <td>channel_Multichannel</td>\n",
              "      <td>1.632157</td>\n",
              "    </tr>\n",
              "    <tr>\n",
              "      <th>10</th>\n",
              "      <td>zip_code_Urban</td>\n",
              "      <td>1.459087</td>\n",
              "    </tr>\n",
              "    <tr>\n",
              "      <th>11</th>\n",
              "      <td>zip_code_Surburban</td>\n",
              "      <td>0.762973</td>\n",
              "    </tr>\n",
              "  </tbody>\n",
              "</table>\n",
              "</div>"
            ],
            "text/plain": [
              "            feature_name  feature_score\n",
              "0            is_referral      19.075207\n",
              "1              treatment      15.707998\n",
              "2                recency      12.284380\n",
              "3                history      12.200572\n",
              "4              used_bogo      10.286389\n",
              "5          used_discount       9.635555\n",
              "6         zip_code_Rural       8.008612\n",
              "7          channel_Phone       5.830268\n",
              "8            channel_Web       3.116803\n",
              "9   channel_Multichannel       1.632157\n",
              "10        zip_code_Urban       1.459087\n",
              "11    zip_code_Surburban       0.762973"
            ]
          },
          "execution_count": 50,
          "metadata": {},
          "output_type": "execute_result"
        }
      ],
      "source": [
        "sm_ff = pd.DataFrame({\n",
        "    'feature_name': sm.estimator.feature_names_,\n",
        "    'feature_score': sm.estimator.feature_importances_\n",
        "}).sort_values('feature_score', ascending=False).reset_index(drop=True)\n",
        "\n",
        "sm_ff"
      ]
    },
    {
      "cell_type": "code",
      "execution_count": null,
      "id": "12f229b9",
      "metadata": {
        "id": "12f229b9",
        "outputId": "cad6375e-16ff-4dd7-e485-e5b505fb92e0"
      },
      "outputs": [
        {
          "data": {
            "image/png": "[encoded data removed]",
            "text/plain": [
              "<Figure size 576x432 with 1 Axes>"
            ]
          },
          "metadata": {
            "needs_background": "light"
          },
          "output_type": "display_data"
        }
      ],
      "source": [
        "plot_uplift_curve(y_test, uplift_sm, treat_test, perfect=False); # perfect=True"
      ]
    },
    {
      "cell_type": "code",
      "execution_count": null,
      "id": "164ec960",
      "metadata": {
        "id": "164ec960",
        "outputId": "6833f7fa-c900-4edb-cc2b-6424be91069b"
      },
      "outputs": [
        {
          "data": {
            "image/png": "[encoded data removed]",
            "text/plain": [
              "<Figure size 576x432 with 1 Axes>"
            ]
          },
          "metadata": {
            "needs_background": "light"
          },
          "output_type": "display_data"
        }
      ],
      "source": [
        "plot_qini_curve(y_test, uplift_sm, treat_test, perfect=False);"
      ]
    },
    {
      "cell_type": "code",
      "execution_count": null,
      "id": "a941003c",
      "metadata": {
        "id": "a941003c",
        "outputId": "a68e972e-8fa2-4407-9516-da3b86730d41"
      },
      "outputs": [
        {
          "name": "stderr",
          "output_type": "stream",
          "text": [
            "C:\\Users\\User\\anaconda3\\lib\\site-packages\\numpy\\core\\_asarray.py:102: VisibleDeprecationWarning: Creating an ndarray from ragged nested sequences (which is a list-or-tuple of lists-or-tuples-or ndarrays with different lengths or shapes) is deprecated. If you meant to do this, you must specify 'dtype=object' when creating the ndarray.\n",
            "  return array(a, dtype, copy=False, order=order)\n"
          ]
        },
        {
          "data": {
            "text/html": [
              "<div>\n",
              "<style scoped>\n",
              "    .dataframe tbody tr th:only-of-type {\n",
              "        vertical-align: middle;\n",
              "    }\n",
              "\n",
              "    .dataframe tbody tr th {\n",
              "        vertical-align: top;\n",
              "    }\n",
              "\n",
              "    .dataframe thead th {\n",
              "        text-align: right;\n",
              "    }\n",
              "</style>\n",
              "<table border=\"1\" class=\"dataframe\">\n",
              "  <thead>\n",
              "    <tr style=\"text-align: right;\">\n",
              "      <th></th>\n",
              "      <th>n_treatment</th>\n",
              "      <th>n_control</th>\n",
              "      <th>response_rate_treatment</th>\n",
              "      <th>response_rate_control</th>\n",
              "      <th>uplift</th>\n",
              "      <th>std_treatment</th>\n",
              "      <th>std_control</th>\n",
              "      <th>std_uplift</th>\n",
              "    </tr>\n",
              "    <tr>\n",
              "      <th>percentile</th>\n",
              "      <th></th>\n",
              "      <th></th>\n",
              "      <th></th>\n",
              "      <th></th>\n",
              "      <th></th>\n",
              "      <th></th>\n",
              "      <th></th>\n",
              "      <th></th>\n",
              "    </tr>\n",
              "  </thead>\n",
              "  <tbody>\n",
              "    <tr>\n",
              "      <th>10.0</th>\n",
              "      <td>1295</td>\n",
              "      <td>625</td>\n",
              "      <td>0.253282</td>\n",
              "      <td>0.174400</td>\n",
              "      <td>0.078882</td>\n",
              "      <td>0.012085</td>\n",
              "      <td>0.015178</td>\n",
              "      <td>0.019402</td>\n",
              "    </tr>\n",
              "    <tr>\n",
              "      <th>20.0</th>\n",
              "      <td>1273</td>\n",
              "      <td>647</td>\n",
              "      <td>0.211312</td>\n",
              "      <td>0.140649</td>\n",
              "      <td>0.070663</td>\n",
              "      <td>0.011442</td>\n",
              "      <td>0.013668</td>\n",
              "      <td>0.017825</td>\n",
              "    </tr>\n",
              "    <tr>\n",
              "      <th>30.0</th>\n",
              "      <td>1278</td>\n",
              "      <td>642</td>\n",
              "      <td>0.190923</td>\n",
              "      <td>0.098131</td>\n",
              "      <td>0.092792</td>\n",
              "      <td>0.010994</td>\n",
              "      <td>0.011741</td>\n",
              "      <td>0.016085</td>\n",
              "    </tr>\n",
              "    <tr>\n",
              "      <th>40.0</th>\n",
              "      <td>1274</td>\n",
              "      <td>646</td>\n",
              "      <td>0.178179</td>\n",
              "      <td>0.117647</td>\n",
              "      <td>0.060532</td>\n",
              "      <td>0.010721</td>\n",
              "      <td>0.012676</td>\n",
              "      <td>0.016602</td>\n",
              "    </tr>\n",
              "    <tr>\n",
              "      <th>50.0</th>\n",
              "      <td>1267</td>\n",
              "      <td>653</td>\n",
              "      <td>0.176006</td>\n",
              "      <td>0.093415</td>\n",
              "      <td>0.082591</td>\n",
              "      <td>0.010699</td>\n",
              "      <td>0.011388</td>\n",
              "      <td>0.015626</td>\n",
              "    </tr>\n",
              "    <tr>\n",
              "      <th>60.0</th>\n",
              "      <td>1280</td>\n",
              "      <td>640</td>\n",
              "      <td>0.167187</td>\n",
              "      <td>0.101562</td>\n",
              "      <td>0.065625</td>\n",
              "      <td>0.010430</td>\n",
              "      <td>0.011940</td>\n",
              "      <td>0.015854</td>\n",
              "    </tr>\n",
              "    <tr>\n",
              "      <th>70.0</th>\n",
              "      <td>1280</td>\n",
              "      <td>640</td>\n",
              "      <td>0.143750</td>\n",
              "      <td>0.096875</td>\n",
              "      <td>0.046875</td>\n",
              "      <td>0.009806</td>\n",
              "      <td>0.011692</td>\n",
              "      <td>0.015260</td>\n",
              "    </tr>\n",
              "    <tr>\n",
              "      <th>80.0</th>\n",
              "      <td>1265</td>\n",
              "      <td>655</td>\n",
              "      <td>0.132806</td>\n",
              "      <td>0.087023</td>\n",
              "      <td>0.045783</td>\n",
              "      <td>0.009542</td>\n",
              "      <td>0.011014</td>\n",
              "      <td>0.014572</td>\n",
              "    </tr>\n",
              "    <tr>\n",
              "      <th>90.0</th>\n",
              "      <td>1268</td>\n",
              "      <td>652</td>\n",
              "      <td>0.116719</td>\n",
              "      <td>0.084356</td>\n",
              "      <td>0.032363</td>\n",
              "      <td>0.009017</td>\n",
              "      <td>0.010884</td>\n",
              "      <td>0.014134</td>\n",
              "    </tr>\n",
              "    <tr>\n",
              "      <th>100.0</th>\n",
              "      <td>1296</td>\n",
              "      <td>624</td>\n",
              "      <td>0.118056</td>\n",
              "      <td>0.086538</td>\n",
              "      <td>0.031517</td>\n",
              "      <td>0.008963</td>\n",
              "      <td>0.011255</td>\n",
              "      <td>0.014388</td>\n",
              "    </tr>\n",
              "    <tr>\n",
              "      <th>total</th>\n",
              "      <td>12776</td>\n",
              "      <td>6424</td>\n",
              "      <td>0.168910</td>\n",
              "      <td>0.107877</td>\n",
              "      <td>0.060759</td>\n",
              "      <td>0.103698</td>\n",
              "      <td>0.121437</td>\n",
              "      <td>0.159747</td>\n",
              "    </tr>\n",
              "  </tbody>\n",
              "</table>\n",
              "</div>"
            ],
            "text/plain": [
              "            n_treatment  n_control  response_rate_treatment  \\\n",
              "percentile                                                    \n",
              "10.0               1295        625                 0.253282   \n",
              "20.0               1273        647                 0.211312   \n",
              "30.0               1278        642                 0.190923   \n",
              "40.0               1274        646                 0.178179   \n",
              "50.0               1267        653                 0.176006   \n",
              "60.0               1280        640                 0.167187   \n",
              "70.0               1280        640                 0.143750   \n",
              "80.0               1265        655                 0.132806   \n",
              "90.0               1268        652                 0.116719   \n",
              "100.0              1296        624                 0.118056   \n",
              "total             12776       6424                 0.168910   \n",
              "\n",
              "            response_rate_control    uplift  std_treatment  std_control  \\\n",
              "percentile                                                                \n",
              "10.0                     0.174400  0.078882       0.012085     0.015178   \n",
              "20.0                     0.140649  0.070663       0.011442     0.013668   \n",
              "30.0                     0.098131  0.092792       0.010994     0.011741   \n",
              "40.0                     0.117647  0.060532       0.010721     0.012676   \n",
              "50.0                     0.093415  0.082591       0.010699     0.011388   \n",
              "60.0                     0.101562  0.065625       0.010430     0.011940   \n",
              "70.0                     0.096875  0.046875       0.009806     0.011692   \n",
              "80.0                     0.087023  0.045783       0.009542     0.011014   \n",
              "90.0                     0.084356  0.032363       0.009017     0.010884   \n",
              "100.0                    0.086538  0.031517       0.008963     0.011255   \n",
              "total                    0.107877  0.060759       0.103698     0.121437   \n",
              "\n",
              "            std_uplift  \n",
              "percentile              \n",
              "10.0          0.019402  \n",
              "20.0          0.017825  \n",
              "30.0          0.016085  \n",
              "40.0          0.016602  \n",
              "50.0          0.015626  \n",
              "60.0          0.015854  \n",
              "70.0          0.015260  \n",
              "80.0          0.014572  \n",
              "90.0          0.014134  \n",
              "100.0         0.014388  \n",
              "total         0.159747  "
            ]
          },
          "execution_count": 53,
          "metadata": {},
          "output_type": "execute_result"
        }
      ],
      "source": [
        "uplift_by_percentile(y_test, uplift_sm,  treat_test, \n",
        "                     strategy='overall', \n",
        "                     total=True, std=True, bins=10)"
      ]
    },
    {
      "cell_type": "code",
      "execution_count": null,
      "id": "f7bd9ee7",
      "metadata": {
        "id": "f7bd9ee7",
        "outputId": "2ebbe420-c21d-4f81-8d06-b1e6b4e040dd"
      },
      "outputs": [
        {
          "name": "stderr",
          "output_type": "stream",
          "text": [
            "C:\\Users\\User\\anaconda3\\lib\\site-packages\\numpy\\core\\_asarray.py:102: VisibleDeprecationWarning: Creating an ndarray from ragged nested sequences (which is a list-or-tuple of lists-or-tuples-or ndarrays with different lengths or shapes) is deprecated. If you meant to do this, you must specify 'dtype=object' when creating the ndarray.\n",
            "  return array(a, dtype, copy=False, order=order)\n"
          ]
        },
        {
          "data": {
            "image/png": "[encoded data removed]",
            "text/plain": [
              "<Figure size 576x432 with 2 Axes>"
            ]
          },
          "metadata": {
            "needs_background": "light"
          },
          "output_type": "display_data"
        }
      ],
      "source": [
        "plot_uplift_by_percentile(y_test, uplift_sm, treat_test, \n",
        "                          strategy='overall', kind='bar'); # line"
      ]
    },
    {
      "cell_type": "code",
      "execution_count": null,
      "id": "e97a107c",
      "metadata": {
        "id": "e97a107c",
        "outputId": "04ab8c30-4bb1-4b84-8caa-80be86bf156d"
      },
      "outputs": [
        {
          "name": "stdout",
          "output_type": "stream",
          "text": [
            "weighted average uplift on full data: 0.0608\n"
          ]
        }
      ],
      "source": [
        "from sklift.metrics import weighted_average_uplift\n",
        "\n",
        "# с помощью значений в столбцах uplift и n_treatment рассчитаем усредненный uplift на всей выборке, \n",
        "# взвешенный на размер целевой группы — weighted average uplift\n",
        "uplift_full_data = weighted_average_uplift(y_test, uplift_sm, \n",
        "                                            treat_test, bins=10) \n",
        "print(f\"weighted average uplift on full data: {uplift_full_data:.4f}\")"
      ]
    },
    {
      "cell_type": "markdown",
      "id": "536871d9",
      "metadata": {
        "id": "536871d9"
      },
      "source": [
        "### Трансформация классов"
      ]
    },
    {
      "cell_type": "code",
      "execution_count": null,
      "id": "048c90a5",
      "metadata": {
        "id": "048c90a5",
        "outputId": "3859a44e-6f3a-404f-9d91-344306f9f793"
      },
      "outputs": [
        {
          "name": "stderr",
          "output_type": "stream",
          "text": [
            "<ipython-input-58-9ddee53634c5>:2: UserWarning: It is recommended to use this approach on treatment balanced data. Current sample size is unbalanced.\n",
            "  ct = ct.fit(X_train, y_train, treat_train)\n"
          ]
        }
      ],
      "source": [
        "ct = ClassTransformation(CatBoostClassifier(iterations=20, thread_count=2, random_state=42, silent=True))\n",
        "ct = ct.fit(X_train, y_train, treat_train)\n",
        "\n",
        "uplift_ct = ct.predict(X_test)\n",
        "\n",
        "ct_score_10 = uplift_at_k(y_true=y_test, uplift=uplift_ct, treatment=treat_test, strategy='by_group', k=0.1)\n",
        "ct_score_20 = uplift_at_k(y_true=y_test, uplift=uplift_ct, treatment=treat_test, strategy='by_group', k=0.2)\n",
        "\n",
        "models_results['approach'].append('ClassTransformation')\n",
        "models_results['uplift@10%'].append(ct_score_10)\n",
        "models_results['uplift@20%'].append(ct_score_20)"
      ]
    },
    {
      "cell_type": "markdown",
      "id": "db0e47ed",
      "metadata": {
        "id": "db0e47ed"
      },
      "source": [
        "### Две независимые модели"
      ]
    },
    {
      "cell_type": "code",
      "execution_count": null,
      "id": "83a44cb7",
      "metadata": {
        "id": "83a44cb7",
        "outputId": "7ebb0eac-f0b4-422d-bc82-4f87e75d7c0d"
      },
      "outputs": [
        {
          "data": {
            "image/png": "[encoded data removed]",
            "text/plain": [
              "<Figure size 1440x504 with 3 Axes>"
            ]
          },
          "metadata": {
            "needs_background": "light"
          },
          "output_type": "display_data"
        }
      ],
      "source": [
        "tm = TwoModels(\n",
        "    estimator_trmnt=CatBoostClassifier(iterations=20, thread_count=2, random_state=42, silent=True), \n",
        "    estimator_ctrl=CatBoostClassifier(iterations=20, thread_count=2, random_state=42, silent=True), \n",
        "    method='vanilla'\n",
        ")\n",
        "tm = tm.fit(\n",
        "    X_train, y_train, treat_train)\n",
        "\n",
        "uplift_tm = tm.predict(X_test)\n",
        "\n",
        "tm_score_10 = uplift_at_k(y_true=y_test, uplift=uplift_tm, treatment=treat_test, strategy='by_group', k=0.1)\n",
        "tm_score_20 = uplift_at_k(y_true=y_test, uplift=uplift_tm, treatment=treat_test, strategy='by_group', k=0.2)\n",
        "\n",
        "\n",
        "models_results['approach'].append('TwoModels')\n",
        "models_results['uplift@10%'].append(tm_score_10)\n",
        "models_results['uplift@20%'].append(tm_score_20)\n",
        "\n",
        "plot_uplift_preds(trmnt_preds=tm.trmnt_preds_, ctrl_preds=tm.ctrl_preds_);"
      ]
    },
    {
      "cell_type": "code",
      "execution_count": null,
      "id": "f4c7ef8f",
      "metadata": {
        "id": "f4c7ef8f",
        "outputId": "3d536955-30c9-4785-b47c-979f6b9c1a3a"
      },
      "outputs": [
        {
          "data": {
            "text/html": [
              "<div>\n",
              "<style scoped>\n",
              "    .dataframe tbody tr th:only-of-type {\n",
              "        vertical-align: middle;\n",
              "    }\n",
              "\n",
              "    .dataframe tbody tr th {\n",
              "        vertical-align: top;\n",
              "    }\n",
              "\n",
              "    .dataframe thead th {\n",
              "        text-align: right;\n",
              "    }\n",
              "</style>\n",
              "<table border=\"1\" class=\"dataframe\">\n",
              "  <thead>\n",
              "    <tr style=\"text-align: right;\">\n",
              "      <th></th>\n",
              "      <th>approach</th>\n",
              "      <th>uplift@10%</th>\n",
              "      <th>uplift@20%</th>\n",
              "    </tr>\n",
              "  </thead>\n",
              "  <tbody>\n",
              "    <tr>\n",
              "      <th>1</th>\n",
              "      <td>ClassTransformation</td>\n",
              "      <td>0.263228</td>\n",
              "      <td>0.209580</td>\n",
              "    </tr>\n",
              "    <tr>\n",
              "      <th>0</th>\n",
              "      <td>SoloModel</td>\n",
              "      <td>0.078473</td>\n",
              "      <td>0.073603</td>\n",
              "    </tr>\n",
              "    <tr>\n",
              "      <th>2</th>\n",
              "      <td>TwoModels</td>\n",
              "      <td>0.080737</td>\n",
              "      <td>0.064969</td>\n",
              "    </tr>\n",
              "  </tbody>\n",
              "</table>\n",
              "</div>"
            ],
            "text/plain": [
              "              approach  uplift@10%  uplift@20%\n",
              "1  ClassTransformation    0.263228    0.209580\n",
              "0            SoloModel    0.078473    0.073603\n",
              "2            TwoModels    0.080737    0.064969"
            ]
          },
          "execution_count": 60,
          "metadata": {},
          "output_type": "execute_result"
        }
      ],
      "source": [
        "pd.DataFrame(data=models_results).sort_values('uplift@20%', ascending=False)"
      ]
    },
    {
      "cell_type": "markdown",
      "id": "6b44f963",
      "metadata": {
        "id": "6b44f963"
      },
      "source": [
        "#### *для модели S-learner построить зависимость таргета (конверсии - поле conversion) от значения uplift:\n",
        "    1. сделать прогноз и получить uplift для тестовой выборки\n",
        "    2. отсортировать тестовую выборку по uplift по убыванию\n",
        "    3. разбить на децили (pandas qcut вам в помощь)\n",
        "    4. для каждого дециля посчитать среднюю conversion"
      ]
    },
    {
      "cell_type": "markdown",
      "id": "f14fce03",
      "metadata": {
        "id": "f14fce03"
      },
      "source": [
        "#### Не уверена, что сделаю правильно, но попробую"
      ]
    },
    {
      "cell_type": "code",
      "execution_count": null,
      "id": "e051a09f",
      "metadata": {
        "id": "e051a09f",
        "outputId": "42ab9098-6411-429c-fa66-20c815fd9343"
      },
      "outputs": [
        {
          "name": "stderr",
          "output_type": "stream",
          "text": [
            "<ipython-input-61-4966cfd3dc6c>:2: SettingWithCopyWarning: \n",
            "A value is trying to be set on a copy of a slice from a DataFrame.\n",
            "Try using .loc[row_indexer,col_indexer] = value instead\n",
            "\n",
            "See the caveats in the documentation: https://pandas.pydata.org/pandas-docs/stable/user_guide/indexing.html#returning-a-view-versus-a-copy\n",
            "  X_test_uplift['uplift'] = uplift_sm\n",
            "<ipython-input-61-4966cfd3dc6c>:3: SettingWithCopyWarning: \n",
            "A value is trying to be set on a copy of a slice from a DataFrame.\n",
            "Try using .loc[row_indexer,col_indexer] = value instead\n",
            "\n",
            "See the caveats in the documentation: https://pandas.pydata.org/pandas-docs/stable/user_guide/indexing.html#returning-a-view-versus-a-copy\n",
            "  X_test_uplift['conversion'] = y_test\n"
          ]
        }
      ],
      "source": [
        "X_test_uplift = X_test\n",
        "X_test_uplift['uplift'] = uplift_sm\n",
        "X_test_uplift['conversion'] = y_test"
      ]
    },
    {
      "cell_type": "code",
      "execution_count": null,
      "id": "0e3ebbf8",
      "metadata": {
        "id": "0e3ebbf8",
        "outputId": "1d3d8ca3-59ac-4395-d4ef-5389043c67b8"
      },
      "outputs": [
        {
          "data": {
            "text/html": [
              "<div>\n",
              "<style scoped>\n",
              "    .dataframe tbody tr th:only-of-type {\n",
              "        vertical-align: middle;\n",
              "    }\n",
              "\n",
              "    .dataframe tbody tr th {\n",
              "        vertical-align: top;\n",
              "    }\n",
              "\n",
              "    .dataframe thead th {\n",
              "        text-align: right;\n",
              "    }\n",
              "</style>\n",
              "<table border=\"1\" class=\"dataframe\">\n",
              "  <thead>\n",
              "    <tr style=\"text-align: right;\">\n",
              "      <th></th>\n",
              "      <th>recency</th>\n",
              "      <th>history</th>\n",
              "      <th>used_discount</th>\n",
              "      <th>used_bogo</th>\n",
              "      <th>is_referral</th>\n",
              "      <th>treatment</th>\n",
              "      <th>zip_code_Rural</th>\n",
              "      <th>zip_code_Surburban</th>\n",
              "      <th>zip_code_Urban</th>\n",
              "      <th>channel_Multichannel</th>\n",
              "      <th>channel_Phone</th>\n",
              "      <th>channel_Web</th>\n",
              "      <th>uplift</th>\n",
              "      <th>conversion</th>\n",
              "    </tr>\n",
              "  </thead>\n",
              "  <tbody>\n",
              "    <tr>\n",
              "      <th>16602</th>\n",
              "      <td>3</td>\n",
              "      <td>972.84</td>\n",
              "      <td>0</td>\n",
              "      <td>1</td>\n",
              "      <td>1</td>\n",
              "      <td>1</td>\n",
              "      <td>1</td>\n",
              "      <td>0</td>\n",
              "      <td>0</td>\n",
              "      <td>1</td>\n",
              "      <td>0</td>\n",
              "      <td>0</td>\n",
              "      <td>0.173892</td>\n",
              "      <td>0</td>\n",
              "    </tr>\n",
              "    <tr>\n",
              "      <th>21909</th>\n",
              "      <td>3</td>\n",
              "      <td>961.53</td>\n",
              "      <td>0</td>\n",
              "      <td>1</td>\n",
              "      <td>1</td>\n",
              "      <td>1</td>\n",
              "      <td>1</td>\n",
              "      <td>0</td>\n",
              "      <td>0</td>\n",
              "      <td>1</td>\n",
              "      <td>0</td>\n",
              "      <td>0</td>\n",
              "      <td>0.173892</td>\n",
              "      <td>0</td>\n",
              "    </tr>\n",
              "    <tr>\n",
              "      <th>53645</th>\n",
              "      <td>5</td>\n",
              "      <td>1158.65</td>\n",
              "      <td>1</td>\n",
              "      <td>1</td>\n",
              "      <td>1</td>\n",
              "      <td>1</td>\n",
              "      <td>0</td>\n",
              "      <td>1</td>\n",
              "      <td>0</td>\n",
              "      <td>1</td>\n",
              "      <td>0</td>\n",
              "      <td>0</td>\n",
              "      <td>0.169835</td>\n",
              "      <td>1</td>\n",
              "    </tr>\n",
              "    <tr>\n",
              "      <th>40070</th>\n",
              "      <td>3</td>\n",
              "      <td>692.77</td>\n",
              "      <td>0</td>\n",
              "      <td>1</td>\n",
              "      <td>1</td>\n",
              "      <td>0</td>\n",
              "      <td>1</td>\n",
              "      <td>0</td>\n",
              "      <td>0</td>\n",
              "      <td>1</td>\n",
              "      <td>0</td>\n",
              "      <td>0</td>\n",
              "      <td>0.169514</td>\n",
              "      <td>0</td>\n",
              "    </tr>\n",
              "    <tr>\n",
              "      <th>34960</th>\n",
              "      <td>3</td>\n",
              "      <td>708.08</td>\n",
              "      <td>0</td>\n",
              "      <td>1</td>\n",
              "      <td>1</td>\n",
              "      <td>1</td>\n",
              "      <td>1</td>\n",
              "      <td>0</td>\n",
              "      <td>0</td>\n",
              "      <td>1</td>\n",
              "      <td>0</td>\n",
              "      <td>0</td>\n",
              "      <td>0.167358</td>\n",
              "      <td>0</td>\n",
              "    </tr>\n",
              "  </tbody>\n",
              "</table>\n",
              "</div>"
            ],
            "text/plain": [
              "       recency  history  used_discount  used_bogo  is_referral  treatment  \\\n",
              "16602        3   972.84              0          1            1          1   \n",
              "21909        3   961.53              0          1            1          1   \n",
              "53645        5  1158.65              1          1            1          1   \n",
              "40070        3   692.77              0          1            1          0   \n",
              "34960        3   708.08              0          1            1          1   \n",
              "\n",
              "       zip_code_Rural  zip_code_Surburban  zip_code_Urban  \\\n",
              "16602               1                   0               0   \n",
              "21909               1                   0               0   \n",
              "53645               0                   1               0   \n",
              "40070               1                   0               0   \n",
              "34960               1                   0               0   \n",
              "\n",
              "       channel_Multichannel  channel_Phone  channel_Web    uplift  conversion  \n",
              "16602                     1              0            0  0.173892           0  \n",
              "21909                     1              0            0  0.173892           0  \n",
              "53645                     1              0            0  0.169835           1  \n",
              "40070                     1              0            0  0.169514           0  \n",
              "34960                     1              0            0  0.167358           0  "
            ]
          },
          "execution_count": 62,
          "metadata": {},
          "output_type": "execute_result"
        }
      ],
      "source": [
        "X_test_uplift = X_test_uplift.sort_values(['uplift'], ascending=False)\n",
        "X_test_uplift.head()"
      ]
    },
    {
      "cell_type": "code",
      "execution_count": null,
      "id": "cba508ab",
      "metadata": {
        "id": "cba508ab",
        "outputId": "3e834d9d-c3c0-4937-b848-647a6c6350e7"
      },
      "outputs": [
        {
          "data": {
            "text/html": [
              "<div>\n",
              "<style scoped>\n",
              "    .dataframe tbody tr th:only-of-type {\n",
              "        vertical-align: middle;\n",
              "    }\n",
              "\n",
              "    .dataframe tbody tr th {\n",
              "        vertical-align: top;\n",
              "    }\n",
              "\n",
              "    .dataframe thead th {\n",
              "        text-align: right;\n",
              "    }\n",
              "</style>\n",
              "<table border=\"1\" class=\"dataframe\">\n",
              "  <thead>\n",
              "    <tr style=\"text-align: right;\">\n",
              "      <th></th>\n",
              "      <th>recency</th>\n",
              "      <th>history</th>\n",
              "      <th>used_discount</th>\n",
              "      <th>used_bogo</th>\n",
              "      <th>is_referral</th>\n",
              "      <th>treatment</th>\n",
              "      <th>zip_code_Rural</th>\n",
              "      <th>zip_code_Surburban</th>\n",
              "      <th>zip_code_Urban</th>\n",
              "      <th>channel_Multichannel</th>\n",
              "      <th>channel_Phone</th>\n",
              "      <th>channel_Web</th>\n",
              "      <th>uplift</th>\n",
              "      <th>conversion</th>\n",
              "      <th>qcut</th>\n",
              "    </tr>\n",
              "  </thead>\n",
              "  <tbody>\n",
              "    <tr>\n",
              "      <th>16602</th>\n",
              "      <td>3</td>\n",
              "      <td>972.84</td>\n",
              "      <td>0</td>\n",
              "      <td>1</td>\n",
              "      <td>1</td>\n",
              "      <td>1</td>\n",
              "      <td>1</td>\n",
              "      <td>0</td>\n",
              "      <td>0</td>\n",
              "      <td>1</td>\n",
              "      <td>0</td>\n",
              "      <td>0</td>\n",
              "      <td>0.173892</td>\n",
              "      <td>0</td>\n",
              "      <td>3</td>\n",
              "    </tr>\n",
              "    <tr>\n",
              "      <th>21909</th>\n",
              "      <td>3</td>\n",
              "      <td>961.53</td>\n",
              "      <td>0</td>\n",
              "      <td>1</td>\n",
              "      <td>1</td>\n",
              "      <td>1</td>\n",
              "      <td>1</td>\n",
              "      <td>0</td>\n",
              "      <td>0</td>\n",
              "      <td>1</td>\n",
              "      <td>0</td>\n",
              "      <td>0</td>\n",
              "      <td>0.173892</td>\n",
              "      <td>0</td>\n",
              "      <td>3</td>\n",
              "    </tr>\n",
              "    <tr>\n",
              "      <th>53645</th>\n",
              "      <td>5</td>\n",
              "      <td>1158.65</td>\n",
              "      <td>1</td>\n",
              "      <td>1</td>\n",
              "      <td>1</td>\n",
              "      <td>1</td>\n",
              "      <td>0</td>\n",
              "      <td>1</td>\n",
              "      <td>0</td>\n",
              "      <td>1</td>\n",
              "      <td>0</td>\n",
              "      <td>0</td>\n",
              "      <td>0.169835</td>\n",
              "      <td>1</td>\n",
              "      <td>3</td>\n",
              "    </tr>\n",
              "    <tr>\n",
              "      <th>40070</th>\n",
              "      <td>3</td>\n",
              "      <td>692.77</td>\n",
              "      <td>0</td>\n",
              "      <td>1</td>\n",
              "      <td>1</td>\n",
              "      <td>0</td>\n",
              "      <td>1</td>\n",
              "      <td>0</td>\n",
              "      <td>0</td>\n",
              "      <td>1</td>\n",
              "      <td>0</td>\n",
              "      <td>0</td>\n",
              "      <td>0.169514</td>\n",
              "      <td>0</td>\n",
              "      <td>3</td>\n",
              "    </tr>\n",
              "    <tr>\n",
              "      <th>34960</th>\n",
              "      <td>3</td>\n",
              "      <td>708.08</td>\n",
              "      <td>0</td>\n",
              "      <td>1</td>\n",
              "      <td>1</td>\n",
              "      <td>1</td>\n",
              "      <td>1</td>\n",
              "      <td>0</td>\n",
              "      <td>0</td>\n",
              "      <td>1</td>\n",
              "      <td>0</td>\n",
              "      <td>0</td>\n",
              "      <td>0.167358</td>\n",
              "      <td>0</td>\n",
              "      <td>3</td>\n",
              "    </tr>\n",
              "    <tr>\n",
              "      <th>...</th>\n",
              "      <td>...</td>\n",
              "      <td>...</td>\n",
              "      <td>...</td>\n",
              "      <td>...</td>\n",
              "      <td>...</td>\n",
              "      <td>...</td>\n",
              "      <td>...</td>\n",
              "      <td>...</td>\n",
              "      <td>...</td>\n",
              "      <td>...</td>\n",
              "      <td>...</td>\n",
              "      <td>...</td>\n",
              "      <td>...</td>\n",
              "      <td>...</td>\n",
              "      <td>...</td>\n",
              "    </tr>\n",
              "    <tr>\n",
              "      <th>40866</th>\n",
              "      <td>5</td>\n",
              "      <td>29.99</td>\n",
              "      <td>1</td>\n",
              "      <td>0</td>\n",
              "      <td>1</td>\n",
              "      <td>0</td>\n",
              "      <td>1</td>\n",
              "      <td>0</td>\n",
              "      <td>0</td>\n",
              "      <td>0</td>\n",
              "      <td>0</td>\n",
              "      <td>1</td>\n",
              "      <td>-0.015895</td>\n",
              "      <td>0</td>\n",
              "      <td>0</td>\n",
              "    </tr>\n",
              "    <tr>\n",
              "      <th>28487</th>\n",
              "      <td>5</td>\n",
              "      <td>29.99</td>\n",
              "      <td>1</td>\n",
              "      <td>0</td>\n",
              "      <td>1</td>\n",
              "      <td>1</td>\n",
              "      <td>1</td>\n",
              "      <td>0</td>\n",
              "      <td>0</td>\n",
              "      <td>0</td>\n",
              "      <td>0</td>\n",
              "      <td>1</td>\n",
              "      <td>-0.015895</td>\n",
              "      <td>0</td>\n",
              "      <td>0</td>\n",
              "    </tr>\n",
              "    <tr>\n",
              "      <th>6040</th>\n",
              "      <td>5</td>\n",
              "      <td>29.99</td>\n",
              "      <td>1</td>\n",
              "      <td>0</td>\n",
              "      <td>1</td>\n",
              "      <td>0</td>\n",
              "      <td>1</td>\n",
              "      <td>0</td>\n",
              "      <td>0</td>\n",
              "      <td>0</td>\n",
              "      <td>0</td>\n",
              "      <td>1</td>\n",
              "      <td>-0.015895</td>\n",
              "      <td>0</td>\n",
              "      <td>0</td>\n",
              "    </tr>\n",
              "    <tr>\n",
              "      <th>27705</th>\n",
              "      <td>5</td>\n",
              "      <td>32.39</td>\n",
              "      <td>1</td>\n",
              "      <td>0</td>\n",
              "      <td>1</td>\n",
              "      <td>1</td>\n",
              "      <td>1</td>\n",
              "      <td>0</td>\n",
              "      <td>0</td>\n",
              "      <td>0</td>\n",
              "      <td>0</td>\n",
              "      <td>1</td>\n",
              "      <td>-0.015895</td>\n",
              "      <td>0</td>\n",
              "      <td>0</td>\n",
              "    </tr>\n",
              "    <tr>\n",
              "      <th>14433</th>\n",
              "      <td>5</td>\n",
              "      <td>29.99</td>\n",
              "      <td>1</td>\n",
              "      <td>0</td>\n",
              "      <td>1</td>\n",
              "      <td>1</td>\n",
              "      <td>1</td>\n",
              "      <td>0</td>\n",
              "      <td>0</td>\n",
              "      <td>0</td>\n",
              "      <td>0</td>\n",
              "      <td>1</td>\n",
              "      <td>-0.015895</td>\n",
              "      <td>0</td>\n",
              "      <td>0</td>\n",
              "    </tr>\n",
              "  </tbody>\n",
              "</table>\n",
              "<p>19200 rows × 15 columns</p>\n",
              "</div>"
            ],
            "text/plain": [
              "       recency  history  used_discount  used_bogo  is_referral  treatment  \\\n",
              "16602        3   972.84              0          1            1          1   \n",
              "21909        3   961.53              0          1            1          1   \n",
              "53645        5  1158.65              1          1            1          1   \n",
              "40070        3   692.77              0          1            1          0   \n",
              "34960        3   708.08              0          1            1          1   \n",
              "...        ...      ...            ...        ...          ...        ...   \n",
              "40866        5    29.99              1          0            1          0   \n",
              "28487        5    29.99              1          0            1          1   \n",
              "6040         5    29.99              1          0            1          0   \n",
              "27705        5    32.39              1          0            1          1   \n",
              "14433        5    29.99              1          0            1          1   \n",
              "\n",
              "       zip_code_Rural  zip_code_Surburban  zip_code_Urban  \\\n",
              "16602               1                   0               0   \n",
              "21909               1                   0               0   \n",
              "53645               0                   1               0   \n",
              "40070               1                   0               0   \n",
              "34960               1                   0               0   \n",
              "...               ...                 ...             ...   \n",
              "40866               1                   0               0   \n",
              "28487               1                   0               0   \n",
              "6040                1                   0               0   \n",
              "27705               1                   0               0   \n",
              "14433               1                   0               0   \n",
              "\n",
              "       channel_Multichannel  channel_Phone  channel_Web    uplift  conversion  \\\n",
              "16602                     1              0            0  0.173892           0   \n",
              "21909                     1              0            0  0.173892           0   \n",
              "53645                     1              0            0  0.169835           1   \n",
              "40070                     1              0            0  0.169514           0   \n",
              "34960                     1              0            0  0.167358           0   \n",
              "...                     ...            ...          ...       ...         ...   \n",
              "40866                     0              0            1 -0.015895           0   \n",
              "28487                     0              0            1 -0.015895           0   \n",
              "6040                      0              0            1 -0.015895           0   \n",
              "27705                     0              0            1 -0.015895           0   \n",
              "14433                     0              0            1 -0.015895           0   \n",
              "\n",
              "       qcut  \n",
              "16602     3  \n",
              "21909     3  \n",
              "53645     3  \n",
              "40070     3  \n",
              "34960     3  \n",
              "...     ...  \n",
              "40866     0  \n",
              "28487     0  \n",
              "6040      0  \n",
              "27705     0  \n",
              "14433     0  \n",
              "\n",
              "[19200 rows x 15 columns]"
            ]
          },
          "execution_count": 63,
          "metadata": {},
          "output_type": "execute_result"
        }
      ],
      "source": [
        "X_test_uplift['qcut']=pd.qcut(X_test_uplift['uplift'], 4, labels=False)\n",
        "X_test_uplift"
      ]
    },
    {
      "cell_type": "code",
      "execution_count": null,
      "id": "604cf4a1",
      "metadata": {
        "id": "604cf4a1",
        "outputId": "cdfd14c6-7ed8-4a69-cf42-a04a4b8b26bd"
      },
      "outputs": [
        {
          "data": {
            "text/plain": [
              "0.10736579275905118"
            ]
          },
          "execution_count": 64,
          "metadata": {},
          "output_type": "execute_result"
        }
      ],
      "source": [
        "X_test_uplift_сat = X_test_uplift[X_test_uplift['qcut'] == 0]\n",
        "X_test_uplift_сat['conversion'].mean()"
      ]
    },
    {
      "cell_type": "code",
      "execution_count": null,
      "id": "8d069890",
      "metadata": {
        "id": "8d069890",
        "outputId": "70bcb8fa-664f-4870-94fa-1903abc2df61"
      },
      "outputs": [
        {
          "data": {
            "text/plain": [
              "0.13479166666666667"
            ]
          },
          "execution_count": 65,
          "metadata": {},
          "output_type": "execute_result"
        }
      ],
      "source": [
        "X_test_uplift_сat1 = X_test_uplift[X_test_uplift['qcut'] == 1]\n",
        "X_test_uplift_сat1['conversion'].mean()"
      ]
    },
    {
      "cell_type": "code",
      "execution_count": null,
      "id": "ed8b83d6",
      "metadata": {
        "id": "ed8b83d6",
        "outputId": "e2b3f031-27a3-41ae-9c2a-11cac6d72cb1"
      },
      "outputs": [
        {
          "data": {
            "text/plain": [
              "0.15325271059216014"
            ]
          },
          "execution_count": 66,
          "metadata": {},
          "output_type": "execute_result"
        }
      ],
      "source": [
        "X_test_uplift_сat2 = X_test_uplift[X_test_uplift['qcut'] == 2]\n",
        "X_test_uplift_сat2['conversion'].mean()"
      ]
    },
    {
      "cell_type": "code",
      "execution_count": null,
      "id": "2d63a83b",
      "metadata": {
        "id": "2d63a83b",
        "outputId": "74cfc12f-7e3d-48a9-c589-e932ef62714d"
      },
      "outputs": [
        {
          "data": {
            "text/plain": [
              "0.19862442684451856"
            ]
          },
          "execution_count": 67,
          "metadata": {},
          "output_type": "execute_result"
        }
      ],
      "source": [
        "X_test_uplift_сat3 = X_test_uplift[X_test_uplift['qcut'] == 3]\n",
        "X_test_uplift_сat3['conversion'].mean()"
      ]
    },
    {
      "cell_type": "code",
      "execution_count": null,
      "id": "5bd1f65b",
      "metadata": {
        "id": "5bd1f65b"
      },
      "outputs": [],
      "source": [
        ""
      ]
    }
  ],
  "metadata": {
    "kernelspec": {
      "display_name": "Python 3",
      "language": "python",
      "name": "python3"
    },
    "language_info": {
      "codemirror_mode": {
        "name": "ipython",
        "version": 3
      },
      "file_extension": ".py",
      "mimetype": "text/x-python",
      "name": "python",
      "nbconvert_exporter": "python",
      "pygments_lexer": "ipython3",
      "version": "3.8.8"
    },
    "colab": {
      "name": "HW_4_GorokhovaA..ipynb",
      "provenance": [],
      "include_colab_link": true
    }
  },
  "nbformat": 4,
  "nbformat_minor": 5
}