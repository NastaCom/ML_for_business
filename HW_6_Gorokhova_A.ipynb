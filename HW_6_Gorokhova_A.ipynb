{
  "cells": [
    {
      "cell_type": "markdown",
      "metadata": {
        "id": "view-in-github",
        "colab_type": "text"
      },
      "source": [
        "<a href=\"https://colab.research.google.com/github/NastaCom/ML_for_business/blob/main/HW_6_Gorokhova_A.ipynb\" target=\"_parent\"><img src=\"https://colab.research.google.com/assets/colab-badge.svg\" alt=\"Open In Colab\"/></a>"
      ]
    },
    {
      "cell_type": "markdown",
      "id": "5d7e7280",
      "metadata": {
        "id": "5d7e7280"
      },
      "source": [
        "### Домашнее задание\n",
        "\n",
        "1. взять любой набор данных для бинарной классификации (можно скачать один из модельных с https://archive.ics.uci.edu/ml/datasets.php)\n",
        "3. сделать feature engineering\n",
        "4. обучить любой классификатор (какой вам нравится)\n",
        "5. далее разделить ваш набор данных на два множества: P (positives) и U (unlabeled). Причем брать нужно не все положительные (класс 1) примеры, а только лишь часть\n",
        "6. применить random negative sampling для построения классификатора в новых условиях\n",
        "7. сравнить качество с решением из пункта 4 (построить отчет - таблицу метрик)\n",
        "8. поэкспериментировать с долей P на шаге 5 (как будет меняться качество модели при уменьшении/увеличении размера P)"
      ]
    },
    {
      "cell_type": "markdown",
      "id": "9472cb6a",
      "metadata": {
        "id": "9472cb6a"
      },
      "source": [
        "https://archive.ics.uci.edu/ml/datasets/Algerian+Forest+Fires+Dataset++\n",
        "\n",
        "Аннотация : набор данных включает 244 экземпляра, которые перегруппировывают данные двух регионов Алжира.\n",
        "    \n",
        "Набор данных включает 244 экземпляра, которые перегруппировывают данные двух регионов Алжира, а именно региона Беджая, расположенного на северо-востоке Алжира, и региона Сиди-Бель-Аббес, расположенного на северо-западе Алжира.\n",
        "\n",
        "122 экземпляра для каждого региона.\n",
        "\n",
        "Период с июня 2012 г. по сентябрь 2012\n",
        "г. Набор данных включает 11 атрибутов и 1 выходной атрибут (класс)\n",
        ". 244 случая были классифицированы как «пожарные» (138 классов) и «не пожарные» (106 классов). классы.\n",
        "\n",
        "Информация об атрибутах:\n",
        "\n",
        "1. Дата: (ДД/ММ/ГГГГ) День, месяц (с июня по сентябрь), год (2012 г.)\n",
        "Наблюдения за погодными данными\n",
        "2. Температура: температура в полдень (максимальная температура) в градусах Цельсия: от 22 до 42\n",
        "3. RH : Относительная влажность в %: от 21 до 90\n",
        "4. Ws : Скорость ветра в км/ч: от 6 до 29\n",
        "5. Дождь: общее количество дней в мм: от 0 до 16,8\n",
        "Компоненты FWI\n",
        "6. Индекс точного определения влажности топлива (FFMC) из Система FWI: от 28,6 до 92,5\n",
        "7. Индекс кода влажности Даффа (DMC) из системы FWI: от 1,1 до 65,9\n",
        "8. Индекс кода засухи (DC) из системы FWI: от 7 до 220,4\n",
        "9. Индекс начального распространения (ISI) из Система FWI: от 0 до 18,5\n",
        "10. Индекс индекса застройки (BUI) из системы FWI: от 1,1 до 68\n",
        "11. Индекс индекса пожарной погоды (FWI): от 0 до 31,1\n",
        "12. Классы: два класса, а именно «Огонь» и «Не огонь»."
      ]
    },
    {
      "cell_type": "code",
      "execution_count": null,
      "id": "4e1a3f55",
      "metadata": {
        "id": "4e1a3f55"
      },
      "outputs": [],
      "source": [
        "import pandas as pd\n",
        "import numpy as np\n",
        "\n",
        "from sklearn.pipeline import Pipeline, make_pipeline, FeatureUnion\n",
        "from sklearn.base import BaseEstimator, TransformerMixin\n",
        "\n",
        "from sklearn.linear_model import LogisticRegression\n",
        "from sklearn.ensemble import RandomForestClassifier\n",
        "import xgboost as xgb\n",
        "import catboost as catb\n",
        "\n",
        "from sklearn.preprocessing import StandardScaler\n",
        "\n",
        "from sklearn.model_selection import train_test_split, GridSearchCV\n",
        "from sklearn.metrics import recall_score, precision_score, roc_auc_score, accuracy_score, f1_score"
      ]
    },
    {
      "cell_type": "code",
      "execution_count": null,
      "id": "9b3c08cf",
      "metadata": {
        "id": "9b3c08cf",
        "outputId": "0989fff6-970c-454c-8f2d-39c15bffda1b"
      },
      "outputs": [
        {
          "data": {
            "text/html": [
              "<div>\n",
              "<style scoped>\n",
              "    .dataframe tbody tr th:only-of-type {\n",
              "        vertical-align: middle;\n",
              "    }\n",
              "\n",
              "    .dataframe tbody tr th {\n",
              "        vertical-align: top;\n",
              "    }\n",
              "\n",
              "    .dataframe thead th {\n",
              "        text-align: right;\n",
              "    }\n",
              "</style>\n",
              "<table border=\"1\" class=\"dataframe\">\n",
              "  <thead>\n",
              "    <tr style=\"text-align: right;\">\n",
              "      <th></th>\n",
              "      <th>day</th>\n",
              "      <th>month</th>\n",
              "      <th>year</th>\n",
              "      <th>Temperature</th>\n",
              "      <th>RH</th>\n",
              "      <th>Ws</th>\n",
              "      <th>Rain</th>\n",
              "      <th>FFMC</th>\n",
              "      <th>DMC</th>\n",
              "      <th>DC</th>\n",
              "      <th>ISI</th>\n",
              "      <th>BUI</th>\n",
              "      <th>FWI</th>\n",
              "      <th>Classes</th>\n",
              "    </tr>\n",
              "  </thead>\n",
              "  <tbody>\n",
              "    <tr>\n",
              "      <th>0</th>\n",
              "      <td>01</td>\n",
              "      <td>06</td>\n",
              "      <td>2012</td>\n",
              "      <td>29</td>\n",
              "      <td>57</td>\n",
              "      <td>18</td>\n",
              "      <td>0</td>\n",
              "      <td>65.7</td>\n",
              "      <td>3.4</td>\n",
              "      <td>7.6</td>\n",
              "      <td>1.3</td>\n",
              "      <td>3.4</td>\n",
              "      <td>0.5</td>\n",
              "      <td>not fire</td>\n",
              "    </tr>\n",
              "    <tr>\n",
              "      <th>1</th>\n",
              "      <td>02</td>\n",
              "      <td>06</td>\n",
              "      <td>2012</td>\n",
              "      <td>29</td>\n",
              "      <td>61</td>\n",
              "      <td>13</td>\n",
              "      <td>1.3</td>\n",
              "      <td>64.4</td>\n",
              "      <td>4.1</td>\n",
              "      <td>7.6</td>\n",
              "      <td>1</td>\n",
              "      <td>3.9</td>\n",
              "      <td>0.4</td>\n",
              "      <td>not fire</td>\n",
              "    </tr>\n",
              "    <tr>\n",
              "      <th>2</th>\n",
              "      <td>03</td>\n",
              "      <td>06</td>\n",
              "      <td>2012</td>\n",
              "      <td>26</td>\n",
              "      <td>82</td>\n",
              "      <td>22</td>\n",
              "      <td>13.1</td>\n",
              "      <td>47.1</td>\n",
              "      <td>2.5</td>\n",
              "      <td>7.1</td>\n",
              "      <td>0.3</td>\n",
              "      <td>2.7</td>\n",
              "      <td>0.1</td>\n",
              "      <td>not fire</td>\n",
              "    </tr>\n",
              "    <tr>\n",
              "      <th>3</th>\n",
              "      <td>04</td>\n",
              "      <td>06</td>\n",
              "      <td>2012</td>\n",
              "      <td>25</td>\n",
              "      <td>89</td>\n",
              "      <td>13</td>\n",
              "      <td>2.5</td>\n",
              "      <td>28.6</td>\n",
              "      <td>1.3</td>\n",
              "      <td>6.9</td>\n",
              "      <td>0</td>\n",
              "      <td>1.7</td>\n",
              "      <td>0</td>\n",
              "      <td>not fire</td>\n",
              "    </tr>\n",
              "    <tr>\n",
              "      <th>4</th>\n",
              "      <td>05</td>\n",
              "      <td>06</td>\n",
              "      <td>2012</td>\n",
              "      <td>27</td>\n",
              "      <td>77</td>\n",
              "      <td>16</td>\n",
              "      <td>0</td>\n",
              "      <td>64.8</td>\n",
              "      <td>3</td>\n",
              "      <td>14.2</td>\n",
              "      <td>1.2</td>\n",
              "      <td>3.9</td>\n",
              "      <td>0.5</td>\n",
              "      <td>not fire</td>\n",
              "    </tr>\n",
              "  </tbody>\n",
              "</table>\n",
              "</div>"
            ],
            "text/plain": [
              "  day month  year Temperature  RH  Ws Rain   FFMC  DMC    DC  ISI  BUI  FWI  \\\n",
              "0  01    06  2012          29  57  18     0  65.7  3.4   7.6  1.3  3.4  0.5   \n",
              "1  02    06  2012          29  61  13   1.3  64.4  4.1   7.6    1  3.9  0.4   \n",
              "2  03    06  2012          26  82  22  13.1  47.1  2.5   7.1  0.3  2.7  0.1   \n",
              "3  04    06  2012          25  89  13   2.5  28.6  1.3   6.9    0  1.7    0   \n",
              "4  05    06  2012          27  77  16     0  64.8    3  14.2  1.2  3.9  0.5   \n",
              "\n",
              "     Classes    \n",
              "0  not fire     \n",
              "1  not fire     \n",
              "2  not fire     \n",
              "3  not fire     \n",
              "4  not fire     "
            ]
          },
          "execution_count": 129,
          "metadata": {},
          "output_type": "execute_result"
        }
      ],
      "source": [
        "df = pd.read_csv('Algerian_forest_fires_dataset_UPDATE.csv', header=1)\n",
        "df.head(5)"
      ]
    },
    {
      "cell_type": "markdown",
      "id": "f8c3d357",
      "metadata": {
        "id": "f8c3d357"
      },
      "source": [
        "Необходимо подготовить полученный датасет в удобный для работы вид."
      ]
    },
    {
      "cell_type": "code",
      "execution_count": null,
      "id": "f17bca7d",
      "metadata": {
        "id": "f17bca7d",
        "outputId": "6e1b0433-27c2-4648-f5c2-617bb31ab051"
      },
      "outputs": [
        {
          "data": {
            "text/plain": [
              "Index(['day', 'month', 'year', 'Temperature', ' RH', ' Ws', 'Rain ', 'FFMC',\n",
              "       'DMC', 'DC', 'ISI', 'BUI', 'FWI', 'Classes  '],\n",
              "      dtype='object')"
            ]
          },
          "execution_count": 130,
          "metadata": {},
          "output_type": "execute_result"
        }
      ],
      "source": [
        "df.columns"
      ]
    },
    {
      "cell_type": "code",
      "execution_count": null,
      "id": "c6af9091",
      "metadata": {
        "id": "c6af9091"
      },
      "outputs": [],
      "source": [
        "df = df.rename(columns = {'Classes  ': 'Classes'} )"
      ]
    },
    {
      "cell_type": "code",
      "execution_count": null,
      "id": "effc9ddb",
      "metadata": {
        "id": "effc9ddb",
        "outputId": "84db00c3-c857-45e6-8aaa-914279020e91"
      },
      "outputs": [
        {
          "data": {
            "text/plain": [
              "(246, 14)"
            ]
          },
          "execution_count": 132,
          "metadata": {},
          "output_type": "execute_result"
        }
      ],
      "source": [
        "df.shape"
      ]
    },
    {
      "cell_type": "code",
      "execution_count": null,
      "id": "d583509a",
      "metadata": {
        "id": "d583509a",
        "outputId": "c0bb4c77-42eb-4800-e51e-eb5c0b525720"
      },
      "outputs": [
        {
          "data": {
            "text/html": [
              "<div>\n",
              "<style scoped>\n",
              "    .dataframe tbody tr th:only-of-type {\n",
              "        vertical-align: middle;\n",
              "    }\n",
              "\n",
              "    .dataframe tbody tr th {\n",
              "        vertical-align: top;\n",
              "    }\n",
              "\n",
              "    .dataframe thead th {\n",
              "        text-align: right;\n",
              "    }\n",
              "</style>\n",
              "<table border=\"1\" class=\"dataframe\">\n",
              "  <thead>\n",
              "    <tr style=\"text-align: right;\">\n",
              "      <th></th>\n",
              "      <th>Temperature</th>\n",
              "      <th>RH</th>\n",
              "      <th>Ws</th>\n",
              "      <th>Rain</th>\n",
              "      <th>FFMC</th>\n",
              "      <th>DMC</th>\n",
              "      <th>DC</th>\n",
              "      <th>ISI</th>\n",
              "      <th>BUI</th>\n",
              "      <th>FWI</th>\n",
              "      <th>Classes</th>\n",
              "    </tr>\n",
              "  </thead>\n",
              "  <tbody>\n",
              "    <tr>\n",
              "      <th>0</th>\n",
              "      <td>29</td>\n",
              "      <td>57</td>\n",
              "      <td>18</td>\n",
              "      <td>0</td>\n",
              "      <td>65.7</td>\n",
              "      <td>3.4</td>\n",
              "      <td>7.6</td>\n",
              "      <td>1.3</td>\n",
              "      <td>3.4</td>\n",
              "      <td>0.5</td>\n",
              "      <td>not fire</td>\n",
              "    </tr>\n",
              "    <tr>\n",
              "      <th>1</th>\n",
              "      <td>29</td>\n",
              "      <td>61</td>\n",
              "      <td>13</td>\n",
              "      <td>1.3</td>\n",
              "      <td>64.4</td>\n",
              "      <td>4.1</td>\n",
              "      <td>7.6</td>\n",
              "      <td>1</td>\n",
              "      <td>3.9</td>\n",
              "      <td>0.4</td>\n",
              "      <td>not fire</td>\n",
              "    </tr>\n",
              "    <tr>\n",
              "      <th>2</th>\n",
              "      <td>26</td>\n",
              "      <td>82</td>\n",
              "      <td>22</td>\n",
              "      <td>13.1</td>\n",
              "      <td>47.1</td>\n",
              "      <td>2.5</td>\n",
              "      <td>7.1</td>\n",
              "      <td>0.3</td>\n",
              "      <td>2.7</td>\n",
              "      <td>0.1</td>\n",
              "      <td>not fire</td>\n",
              "    </tr>\n",
              "    <tr>\n",
              "      <th>3</th>\n",
              "      <td>25</td>\n",
              "      <td>89</td>\n",
              "      <td>13</td>\n",
              "      <td>2.5</td>\n",
              "      <td>28.6</td>\n",
              "      <td>1.3</td>\n",
              "      <td>6.9</td>\n",
              "      <td>0</td>\n",
              "      <td>1.7</td>\n",
              "      <td>0</td>\n",
              "      <td>not fire</td>\n",
              "    </tr>\n",
              "    <tr>\n",
              "      <th>4</th>\n",
              "      <td>27</td>\n",
              "      <td>77</td>\n",
              "      <td>16</td>\n",
              "      <td>0</td>\n",
              "      <td>64.8</td>\n",
              "      <td>3</td>\n",
              "      <td>14.2</td>\n",
              "      <td>1.2</td>\n",
              "      <td>3.9</td>\n",
              "      <td>0.5</td>\n",
              "      <td>not fire</td>\n",
              "    </tr>\n",
              "  </tbody>\n",
              "</table>\n",
              "</div>"
            ],
            "text/plain": [
              "  Temperature  RH  Ws Rain   FFMC  DMC    DC  ISI  BUI  FWI      Classes\n",
              "0          29  57  18     0  65.7  3.4   7.6  1.3  3.4  0.5  not fire   \n",
              "1          29  61  13   1.3  64.4  4.1   7.6    1  3.9  0.4  not fire   \n",
              "2          26  82  22  13.1  47.1  2.5   7.1  0.3  2.7  0.1  not fire   \n",
              "3          25  89  13   2.5  28.6  1.3   6.9    0  1.7    0  not fire   \n",
              "4          27  77  16     0  64.8    3  14.2  1.2  3.9  0.5  not fire   "
            ]
          },
          "execution_count": 133,
          "metadata": {},
          "output_type": "execute_result"
        }
      ],
      "source": [
        "df.drop(columns='day',axis=1,inplace=True)\n",
        "df.drop(columns='month',axis=1,inplace=True)\n",
        "df.drop(columns='year',axis=1,inplace=True)\n",
        "df.head()"
      ]
    },
    {
      "cell_type": "code",
      "execution_count": null,
      "id": "5777fca3",
      "metadata": {
        "id": "5777fca3",
        "outputId": "ab603d48-62f3-4d32-a653-82e939b6d6e9"
      },
      "outputs": [
        {
          "data": {
            "text/html": [
              "<div>\n",
              "<style scoped>\n",
              "    .dataframe tbody tr th:only-of-type {\n",
              "        vertical-align: middle;\n",
              "    }\n",
              "\n",
              "    .dataframe tbody tr th {\n",
              "        vertical-align: top;\n",
              "    }\n",
              "\n",
              "    .dataframe thead th {\n",
              "        text-align: right;\n",
              "    }\n",
              "</style>\n",
              "<table border=\"1\" class=\"dataframe\">\n",
              "  <thead>\n",
              "    <tr style=\"text-align: right;\">\n",
              "      <th></th>\n",
              "      <th>Temperature</th>\n",
              "      <th>RH</th>\n",
              "      <th>Ws</th>\n",
              "      <th>Rain</th>\n",
              "      <th>FFMC</th>\n",
              "      <th>DMC</th>\n",
              "      <th>DC</th>\n",
              "      <th>ISI</th>\n",
              "      <th>BUI</th>\n",
              "      <th>FWI</th>\n",
              "      <th>Classes</th>\n",
              "    </tr>\n",
              "  </thead>\n",
              "  <tbody>\n",
              "    <tr>\n",
              "      <th>0</th>\n",
              "      <td>29</td>\n",
              "      <td>57</td>\n",
              "      <td>18</td>\n",
              "      <td>0</td>\n",
              "      <td>65.7</td>\n",
              "      <td>3.4</td>\n",
              "      <td>7.6</td>\n",
              "      <td>1.3</td>\n",
              "      <td>3.4</td>\n",
              "      <td>0.5</td>\n",
              "      <td>not fire</td>\n",
              "    </tr>\n",
              "    <tr>\n",
              "      <th>1</th>\n",
              "      <td>29</td>\n",
              "      <td>61</td>\n",
              "      <td>13</td>\n",
              "      <td>1.3</td>\n",
              "      <td>64.4</td>\n",
              "      <td>4.1</td>\n",
              "      <td>7.6</td>\n",
              "      <td>1</td>\n",
              "      <td>3.9</td>\n",
              "      <td>0.4</td>\n",
              "      <td>not fire</td>\n",
              "    </tr>\n",
              "    <tr>\n",
              "      <th>2</th>\n",
              "      <td>26</td>\n",
              "      <td>82</td>\n",
              "      <td>22</td>\n",
              "      <td>13.1</td>\n",
              "      <td>47.1</td>\n",
              "      <td>2.5</td>\n",
              "      <td>7.1</td>\n",
              "      <td>0.3</td>\n",
              "      <td>2.7</td>\n",
              "      <td>0.1</td>\n",
              "      <td>not fire</td>\n",
              "    </tr>\n",
              "    <tr>\n",
              "      <th>3</th>\n",
              "      <td>25</td>\n",
              "      <td>89</td>\n",
              "      <td>13</td>\n",
              "      <td>2.5</td>\n",
              "      <td>28.6</td>\n",
              "      <td>1.3</td>\n",
              "      <td>6.9</td>\n",
              "      <td>0</td>\n",
              "      <td>1.7</td>\n",
              "      <td>0</td>\n",
              "      <td>not fire</td>\n",
              "    </tr>\n",
              "    <tr>\n",
              "      <th>4</th>\n",
              "      <td>27</td>\n",
              "      <td>77</td>\n",
              "      <td>16</td>\n",
              "      <td>0</td>\n",
              "      <td>64.8</td>\n",
              "      <td>3</td>\n",
              "      <td>14.2</td>\n",
              "      <td>1.2</td>\n",
              "      <td>3.9</td>\n",
              "      <td>0.5</td>\n",
              "      <td>not fire</td>\n",
              "    </tr>\n",
              "    <tr>\n",
              "      <th>...</th>\n",
              "      <td>...</td>\n",
              "      <td>...</td>\n",
              "      <td>...</td>\n",
              "      <td>...</td>\n",
              "      <td>...</td>\n",
              "      <td>...</td>\n",
              "      <td>...</td>\n",
              "      <td>...</td>\n",
              "      <td>...</td>\n",
              "      <td>...</td>\n",
              "      <td>...</td>\n",
              "    </tr>\n",
              "    <tr>\n",
              "      <th>241</th>\n",
              "      <td>30</td>\n",
              "      <td>65</td>\n",
              "      <td>14</td>\n",
              "      <td>0</td>\n",
              "      <td>85.4</td>\n",
              "      <td>16</td>\n",
              "      <td>44.5</td>\n",
              "      <td>4.5</td>\n",
              "      <td>16.9</td>\n",
              "      <td>6.5</td>\n",
              "      <td>fire</td>\n",
              "    </tr>\n",
              "    <tr>\n",
              "      <th>242</th>\n",
              "      <td>28</td>\n",
              "      <td>87</td>\n",
              "      <td>15</td>\n",
              "      <td>4.4</td>\n",
              "      <td>41.1</td>\n",
              "      <td>6.5</td>\n",
              "      <td>8</td>\n",
              "      <td>0.1</td>\n",
              "      <td>6.2</td>\n",
              "      <td>0</td>\n",
              "      <td>not fire</td>\n",
              "    </tr>\n",
              "    <tr>\n",
              "      <th>243</th>\n",
              "      <td>27</td>\n",
              "      <td>87</td>\n",
              "      <td>29</td>\n",
              "      <td>0.5</td>\n",
              "      <td>45.9</td>\n",
              "      <td>3.5</td>\n",
              "      <td>7.9</td>\n",
              "      <td>0.4</td>\n",
              "      <td>3.4</td>\n",
              "      <td>0.2</td>\n",
              "      <td>not fire</td>\n",
              "    </tr>\n",
              "    <tr>\n",
              "      <th>244</th>\n",
              "      <td>24</td>\n",
              "      <td>54</td>\n",
              "      <td>18</td>\n",
              "      <td>0.1</td>\n",
              "      <td>79.7</td>\n",
              "      <td>4.3</td>\n",
              "      <td>15.2</td>\n",
              "      <td>1.7</td>\n",
              "      <td>5.1</td>\n",
              "      <td>0.7</td>\n",
              "      <td>not fire</td>\n",
              "    </tr>\n",
              "    <tr>\n",
              "      <th>245</th>\n",
              "      <td>24</td>\n",
              "      <td>64</td>\n",
              "      <td>15</td>\n",
              "      <td>0.2</td>\n",
              "      <td>67.3</td>\n",
              "      <td>3.8</td>\n",
              "      <td>16.5</td>\n",
              "      <td>1.2</td>\n",
              "      <td>4.8</td>\n",
              "      <td>0.5</td>\n",
              "      <td>not fire</td>\n",
              "    </tr>\n",
              "  </tbody>\n",
              "</table>\n",
              "<p>244 rows × 11 columns</p>\n",
              "</div>"
            ],
            "text/plain": [
              "    Temperature  RH  Ws Rain   FFMC  DMC    DC  ISI   BUI  FWI       Classes\n",
              "0            29  57  18     0  65.7  3.4   7.6  1.3   3.4  0.5   not fire   \n",
              "1            29  61  13   1.3  64.4  4.1   7.6    1   3.9  0.4   not fire   \n",
              "2            26  82  22  13.1  47.1  2.5   7.1  0.3   2.7  0.1   not fire   \n",
              "3            25  89  13   2.5  28.6  1.3   6.9    0   1.7    0   not fire   \n",
              "4            27  77  16     0  64.8    3  14.2  1.2   3.9  0.5   not fire   \n",
              "..          ...  ..  ..   ...   ...  ...   ...  ...   ...  ...           ...\n",
              "241          30  65  14     0  85.4   16  44.5  4.5  16.9  6.5       fire   \n",
              "242          28  87  15   4.4  41.1  6.5     8  0.1   6.2    0   not fire   \n",
              "243          27  87  29   0.5  45.9  3.5   7.9  0.4   3.4  0.2   not fire   \n",
              "244          24  54  18   0.1  79.7  4.3  15.2  1.7   5.1  0.7   not fire   \n",
              "245          24  64  15   0.2  67.3  3.8  16.5  1.2   4.8  0.5  not fire    \n",
              "\n",
              "[244 rows x 11 columns]"
            ]
          },
          "execution_count": 134,
          "metadata": {},
          "output_type": "execute_result"
        }
      ],
      "source": [
        "df = df[df['Classes'].notna()]\n",
        "df"
      ]
    },
    {
      "cell_type": "code",
      "execution_count": null,
      "id": "7773e41f",
      "metadata": {
        "id": "7773e41f",
        "outputId": "df240988-21d0-479c-ae1a-e094024aee21"
      },
      "outputs": [
        {
          "name": "stdout",
          "output_type": "stream",
          "text": [
            "уникальные значения в \"Classes\" \n",
            "['not fire   ' 'fire   ' 'fire' 'fire ' 'not fire' 'not fire ' 'Classes  '\n",
            " 'not fire     ' 'not fire    ']\n"
          ]
        }
      ],
      "source": [
        "uniqueValues = df['Classes'].unique()\n",
        "print('уникальные значения в \"Classes\" ')\n",
        "print(uniqueValues)"
      ]
    },
    {
      "cell_type": "code",
      "execution_count": null,
      "id": "f85f762d",
      "metadata": {
        "id": "f85f762d"
      },
      "outputs": [],
      "source": [
        "df['Classes'] = df['Classes'].str.replace('not fire   ', 'not fire')\n",
        "df['Classes'] = df['Classes'].str.replace('not fire ', 'not fire')\n",
        "df['Classes'] = df['Classes'].str.replace('not fire     ', 'not fire')\n",
        "df['Classes'] = df['Classes'].str.replace('not fire    ', 'not fire')\n",
        "df['Classes'] = df['Classes'].str.replace('not fire ', 'not fire')\n",
        "\n",
        "df['Classes'] = df['Classes'].str.replace('fire   ', 'fire')\n",
        "df['Classes'] = df['Classes'].str.replace('fire ', 'fire')\n",
        "\n",
        "df = df[df.Classes != \"Classes  \"]"
      ]
    },
    {
      "cell_type": "code",
      "execution_count": null,
      "id": "1c5213dd",
      "metadata": {
        "id": "1c5213dd",
        "outputId": "faaa8285-c926-445a-805c-53aae385d0b8"
      },
      "outputs": [
        {
          "name": "stdout",
          "output_type": "stream",
          "text": [
            "уникальные значения в \"Classes\" \n",
            "['not fire' 'fire']\n"
          ]
        }
      ],
      "source": [
        "uniqueValues = df['Classes'].unique()\n",
        "print('уникальные значения в \"Classes\" ')\n",
        "print(uniqueValues)"
      ]
    },
    {
      "cell_type": "code",
      "execution_count": null,
      "id": "c3c9da3b",
      "metadata": {
        "id": "c3c9da3b",
        "outputId": "d2111cb1-a700-4623-8f3f-30db939ba941"
      },
      "outputs": [
        {
          "name": "stderr",
          "output_type": "stream",
          "text": [
            "C:\\Users\\User\\anaconda3\\lib\\site-packages\\sklearn\\utils\\validation.py:63: DataConversionWarning: A column-vector y was passed when a 1d array was expected. Please change the shape of y to (n_samples, ), for example using ravel().\n",
            "  return f(*args, **kwargs)\n",
            "<ipython-input-138-efc5a33fc711>:2: SettingWithCopyWarning: \n",
            "A value is trying to be set on a copy of a slice from a DataFrame.\n",
            "Try using .loc[row_indexer,col_indexer] = value instead\n",
            "\n",
            "See the caveats in the documentation: https://pandas.pydata.org/pandas-docs/stable/user_guide/indexing.html#returning-a-view-versus-a-copy\n",
            "  df['Classes_enc']=LabelEncoder().fit_transform(df[['Classes']])\n"
          ]
        },
        {
          "data": {
            "text/html": [
              "<div>\n",
              "<style scoped>\n",
              "    .dataframe tbody tr th:only-of-type {\n",
              "        vertical-align: middle;\n",
              "    }\n",
              "\n",
              "    .dataframe tbody tr th {\n",
              "        vertical-align: top;\n",
              "    }\n",
              "\n",
              "    .dataframe thead th {\n",
              "        text-align: right;\n",
              "    }\n",
              "</style>\n",
              "<table border=\"1\" class=\"dataframe\">\n",
              "  <thead>\n",
              "    <tr style=\"text-align: right;\">\n",
              "      <th></th>\n",
              "      <th>Temperature</th>\n",
              "      <th>RH</th>\n",
              "      <th>Ws</th>\n",
              "      <th>Rain</th>\n",
              "      <th>FFMC</th>\n",
              "      <th>DMC</th>\n",
              "      <th>DC</th>\n",
              "      <th>ISI</th>\n",
              "      <th>BUI</th>\n",
              "      <th>FWI</th>\n",
              "      <th>Classes</th>\n",
              "      <th>Classes_enc</th>\n",
              "    </tr>\n",
              "  </thead>\n",
              "  <tbody>\n",
              "    <tr>\n",
              "      <th>0</th>\n",
              "      <td>29</td>\n",
              "      <td>57</td>\n",
              "      <td>18</td>\n",
              "      <td>0</td>\n",
              "      <td>65.7</td>\n",
              "      <td>3.4</td>\n",
              "      <td>7.6</td>\n",
              "      <td>1.3</td>\n",
              "      <td>3.4</td>\n",
              "      <td>0.5</td>\n",
              "      <td>not fire</td>\n",
              "      <td>1</td>\n",
              "    </tr>\n",
              "    <tr>\n",
              "      <th>1</th>\n",
              "      <td>29</td>\n",
              "      <td>61</td>\n",
              "      <td>13</td>\n",
              "      <td>1.3</td>\n",
              "      <td>64.4</td>\n",
              "      <td>4.1</td>\n",
              "      <td>7.6</td>\n",
              "      <td>1</td>\n",
              "      <td>3.9</td>\n",
              "      <td>0.4</td>\n",
              "      <td>not fire</td>\n",
              "      <td>1</td>\n",
              "    </tr>\n",
              "    <tr>\n",
              "      <th>2</th>\n",
              "      <td>26</td>\n",
              "      <td>82</td>\n",
              "      <td>22</td>\n",
              "      <td>13.1</td>\n",
              "      <td>47.1</td>\n",
              "      <td>2.5</td>\n",
              "      <td>7.1</td>\n",
              "      <td>0.3</td>\n",
              "      <td>2.7</td>\n",
              "      <td>0.1</td>\n",
              "      <td>not fire</td>\n",
              "      <td>1</td>\n",
              "    </tr>\n",
              "    <tr>\n",
              "      <th>3</th>\n",
              "      <td>25</td>\n",
              "      <td>89</td>\n",
              "      <td>13</td>\n",
              "      <td>2.5</td>\n",
              "      <td>28.6</td>\n",
              "      <td>1.3</td>\n",
              "      <td>6.9</td>\n",
              "      <td>0</td>\n",
              "      <td>1.7</td>\n",
              "      <td>0</td>\n",
              "      <td>not fire</td>\n",
              "      <td>1</td>\n",
              "    </tr>\n",
              "    <tr>\n",
              "      <th>4</th>\n",
              "      <td>27</td>\n",
              "      <td>77</td>\n",
              "      <td>16</td>\n",
              "      <td>0</td>\n",
              "      <td>64.8</td>\n",
              "      <td>3</td>\n",
              "      <td>14.2</td>\n",
              "      <td>1.2</td>\n",
              "      <td>3.9</td>\n",
              "      <td>0.5</td>\n",
              "      <td>not fire</td>\n",
              "      <td>1</td>\n",
              "    </tr>\n",
              "    <tr>\n",
              "      <th>...</th>\n",
              "      <td>...</td>\n",
              "      <td>...</td>\n",
              "      <td>...</td>\n",
              "      <td>...</td>\n",
              "      <td>...</td>\n",
              "      <td>...</td>\n",
              "      <td>...</td>\n",
              "      <td>...</td>\n",
              "      <td>...</td>\n",
              "      <td>...</td>\n",
              "      <td>...</td>\n",
              "      <td>...</td>\n",
              "    </tr>\n",
              "    <tr>\n",
              "      <th>241</th>\n",
              "      <td>30</td>\n",
              "      <td>65</td>\n",
              "      <td>14</td>\n",
              "      <td>0</td>\n",
              "      <td>85.4</td>\n",
              "      <td>16</td>\n",
              "      <td>44.5</td>\n",
              "      <td>4.5</td>\n",
              "      <td>16.9</td>\n",
              "      <td>6.5</td>\n",
              "      <td>fire</td>\n",
              "      <td>0</td>\n",
              "    </tr>\n",
              "    <tr>\n",
              "      <th>242</th>\n",
              "      <td>28</td>\n",
              "      <td>87</td>\n",
              "      <td>15</td>\n",
              "      <td>4.4</td>\n",
              "      <td>41.1</td>\n",
              "      <td>6.5</td>\n",
              "      <td>8</td>\n",
              "      <td>0.1</td>\n",
              "      <td>6.2</td>\n",
              "      <td>0</td>\n",
              "      <td>not fire</td>\n",
              "      <td>1</td>\n",
              "    </tr>\n",
              "    <tr>\n",
              "      <th>243</th>\n",
              "      <td>27</td>\n",
              "      <td>87</td>\n",
              "      <td>29</td>\n",
              "      <td>0.5</td>\n",
              "      <td>45.9</td>\n",
              "      <td>3.5</td>\n",
              "      <td>7.9</td>\n",
              "      <td>0.4</td>\n",
              "      <td>3.4</td>\n",
              "      <td>0.2</td>\n",
              "      <td>not fire</td>\n",
              "      <td>1</td>\n",
              "    </tr>\n",
              "    <tr>\n",
              "      <th>244</th>\n",
              "      <td>24</td>\n",
              "      <td>54</td>\n",
              "      <td>18</td>\n",
              "      <td>0.1</td>\n",
              "      <td>79.7</td>\n",
              "      <td>4.3</td>\n",
              "      <td>15.2</td>\n",
              "      <td>1.7</td>\n",
              "      <td>5.1</td>\n",
              "      <td>0.7</td>\n",
              "      <td>not fire</td>\n",
              "      <td>1</td>\n",
              "    </tr>\n",
              "    <tr>\n",
              "      <th>245</th>\n",
              "      <td>24</td>\n",
              "      <td>64</td>\n",
              "      <td>15</td>\n",
              "      <td>0.2</td>\n",
              "      <td>67.3</td>\n",
              "      <td>3.8</td>\n",
              "      <td>16.5</td>\n",
              "      <td>1.2</td>\n",
              "      <td>4.8</td>\n",
              "      <td>0.5</td>\n",
              "      <td>not fire</td>\n",
              "      <td>1</td>\n",
              "    </tr>\n",
              "  </tbody>\n",
              "</table>\n",
              "<p>243 rows × 12 columns</p>\n",
              "</div>"
            ],
            "text/plain": [
              "    Temperature  RH  Ws Rain   FFMC  DMC    DC  ISI   BUI  FWI   Classes  \\\n",
              "0            29  57  18     0  65.7  3.4   7.6  1.3   3.4  0.5  not fire   \n",
              "1            29  61  13   1.3  64.4  4.1   7.6    1   3.9  0.4  not fire   \n",
              "2            26  82  22  13.1  47.1  2.5   7.1  0.3   2.7  0.1  not fire   \n",
              "3            25  89  13   2.5  28.6  1.3   6.9    0   1.7    0  not fire   \n",
              "4            27  77  16     0  64.8    3  14.2  1.2   3.9  0.5  not fire   \n",
              "..          ...  ..  ..   ...   ...  ...   ...  ...   ...  ...       ...   \n",
              "241          30  65  14     0  85.4   16  44.5  4.5  16.9  6.5      fire   \n",
              "242          28  87  15   4.4  41.1  6.5     8  0.1   6.2    0  not fire   \n",
              "243          27  87  29   0.5  45.9  3.5   7.9  0.4   3.4  0.2  not fire   \n",
              "244          24  54  18   0.1  79.7  4.3  15.2  1.7   5.1  0.7  not fire   \n",
              "245          24  64  15   0.2  67.3  3.8  16.5  1.2   4.8  0.5  not fire   \n",
              "\n",
              "     Classes_enc  \n",
              "0              1  \n",
              "1              1  \n",
              "2              1  \n",
              "3              1  \n",
              "4              1  \n",
              "..           ...  \n",
              "241            0  \n",
              "242            1  \n",
              "243            1  \n",
              "244            1  \n",
              "245            1  \n",
              "\n",
              "[243 rows x 12 columns]"
            ]
          },
          "execution_count": 138,
          "metadata": {},
          "output_type": "execute_result"
        }
      ],
      "source": [
        "from sklearn.preprocessing import LabelEncoder\n",
        "df['Classes_enc']=LabelEncoder().fit_transform(df[['Classes']])\n",
        "df"
      ]
    },
    {
      "cell_type": "code",
      "execution_count": null,
      "id": "d319b9b1",
      "metadata": {
        "id": "d319b9b1",
        "outputId": "5cb85d0e-9318-4377-9a41-b18da886e775"
      },
      "outputs": [
        {
          "name": "stderr",
          "output_type": "stream",
          "text": [
            "C:\\Users\\User\\anaconda3\\lib\\site-packages\\pandas\\core\\frame.py:4308: SettingWithCopyWarning: \n",
            "A value is trying to be set on a copy of a slice from a DataFrame\n",
            "\n",
            "See the caveats in the documentation: https://pandas.pydata.org/pandas-docs/stable/user_guide/indexing.html#returning-a-view-versus-a-copy\n",
            "  return super().drop(\n"
          ]
        },
        {
          "data": {
            "text/html": [
              "<div>\n",
              "<style scoped>\n",
              "    .dataframe tbody tr th:only-of-type {\n",
              "        vertical-align: middle;\n",
              "    }\n",
              "\n",
              "    .dataframe tbody tr th {\n",
              "        vertical-align: top;\n",
              "    }\n",
              "\n",
              "    .dataframe thead th {\n",
              "        text-align: right;\n",
              "    }\n",
              "</style>\n",
              "<table border=\"1\" class=\"dataframe\">\n",
              "  <thead>\n",
              "    <tr style=\"text-align: right;\">\n",
              "      <th></th>\n",
              "      <th>Temperature</th>\n",
              "      <th>RH</th>\n",
              "      <th>Ws</th>\n",
              "      <th>Rain</th>\n",
              "      <th>FFMC</th>\n",
              "      <th>DMC</th>\n",
              "      <th>DC</th>\n",
              "      <th>ISI</th>\n",
              "      <th>BUI</th>\n",
              "      <th>FWI</th>\n",
              "      <th>Classes_enc</th>\n",
              "    </tr>\n",
              "  </thead>\n",
              "  <tbody>\n",
              "    <tr>\n",
              "      <th>0</th>\n",
              "      <td>29</td>\n",
              "      <td>57</td>\n",
              "      <td>18</td>\n",
              "      <td>0</td>\n",
              "      <td>65.7</td>\n",
              "      <td>3.4</td>\n",
              "      <td>7.6</td>\n",
              "      <td>1.3</td>\n",
              "      <td>3.4</td>\n",
              "      <td>0.5</td>\n",
              "      <td>1</td>\n",
              "    </tr>\n",
              "    <tr>\n",
              "      <th>1</th>\n",
              "      <td>29</td>\n",
              "      <td>61</td>\n",
              "      <td>13</td>\n",
              "      <td>1.3</td>\n",
              "      <td>64.4</td>\n",
              "      <td>4.1</td>\n",
              "      <td>7.6</td>\n",
              "      <td>1</td>\n",
              "      <td>3.9</td>\n",
              "      <td>0.4</td>\n",
              "      <td>1</td>\n",
              "    </tr>\n",
              "    <tr>\n",
              "      <th>2</th>\n",
              "      <td>26</td>\n",
              "      <td>82</td>\n",
              "      <td>22</td>\n",
              "      <td>13.1</td>\n",
              "      <td>47.1</td>\n",
              "      <td>2.5</td>\n",
              "      <td>7.1</td>\n",
              "      <td>0.3</td>\n",
              "      <td>2.7</td>\n",
              "      <td>0.1</td>\n",
              "      <td>1</td>\n",
              "    </tr>\n",
              "    <tr>\n",
              "      <th>3</th>\n",
              "      <td>25</td>\n",
              "      <td>89</td>\n",
              "      <td>13</td>\n",
              "      <td>2.5</td>\n",
              "      <td>28.6</td>\n",
              "      <td>1.3</td>\n",
              "      <td>6.9</td>\n",
              "      <td>0</td>\n",
              "      <td>1.7</td>\n",
              "      <td>0</td>\n",
              "      <td>1</td>\n",
              "    </tr>\n",
              "    <tr>\n",
              "      <th>4</th>\n",
              "      <td>27</td>\n",
              "      <td>77</td>\n",
              "      <td>16</td>\n",
              "      <td>0</td>\n",
              "      <td>64.8</td>\n",
              "      <td>3</td>\n",
              "      <td>14.2</td>\n",
              "      <td>1.2</td>\n",
              "      <td>3.9</td>\n",
              "      <td>0.5</td>\n",
              "      <td>1</td>\n",
              "    </tr>\n",
              "    <tr>\n",
              "      <th>...</th>\n",
              "      <td>...</td>\n",
              "      <td>...</td>\n",
              "      <td>...</td>\n",
              "      <td>...</td>\n",
              "      <td>...</td>\n",
              "      <td>...</td>\n",
              "      <td>...</td>\n",
              "      <td>...</td>\n",
              "      <td>...</td>\n",
              "      <td>...</td>\n",
              "      <td>...</td>\n",
              "    </tr>\n",
              "    <tr>\n",
              "      <th>241</th>\n",
              "      <td>30</td>\n",
              "      <td>65</td>\n",
              "      <td>14</td>\n",
              "      <td>0</td>\n",
              "      <td>85.4</td>\n",
              "      <td>16</td>\n",
              "      <td>44.5</td>\n",
              "      <td>4.5</td>\n",
              "      <td>16.9</td>\n",
              "      <td>6.5</td>\n",
              "      <td>0</td>\n",
              "    </tr>\n",
              "    <tr>\n",
              "      <th>242</th>\n",
              "      <td>28</td>\n",
              "      <td>87</td>\n",
              "      <td>15</td>\n",
              "      <td>4.4</td>\n",
              "      <td>41.1</td>\n",
              "      <td>6.5</td>\n",
              "      <td>8</td>\n",
              "      <td>0.1</td>\n",
              "      <td>6.2</td>\n",
              "      <td>0</td>\n",
              "      <td>1</td>\n",
              "    </tr>\n",
              "    <tr>\n",
              "      <th>243</th>\n",
              "      <td>27</td>\n",
              "      <td>87</td>\n",
              "      <td>29</td>\n",
              "      <td>0.5</td>\n",
              "      <td>45.9</td>\n",
              "      <td>3.5</td>\n",
              "      <td>7.9</td>\n",
              "      <td>0.4</td>\n",
              "      <td>3.4</td>\n",
              "      <td>0.2</td>\n",
              "      <td>1</td>\n",
              "    </tr>\n",
              "    <tr>\n",
              "      <th>244</th>\n",
              "      <td>24</td>\n",
              "      <td>54</td>\n",
              "      <td>18</td>\n",
              "      <td>0.1</td>\n",
              "      <td>79.7</td>\n",
              "      <td>4.3</td>\n",
              "      <td>15.2</td>\n",
              "      <td>1.7</td>\n",
              "      <td>5.1</td>\n",
              "      <td>0.7</td>\n",
              "      <td>1</td>\n",
              "    </tr>\n",
              "    <tr>\n",
              "      <th>245</th>\n",
              "      <td>24</td>\n",
              "      <td>64</td>\n",
              "      <td>15</td>\n",
              "      <td>0.2</td>\n",
              "      <td>67.3</td>\n",
              "      <td>3.8</td>\n",
              "      <td>16.5</td>\n",
              "      <td>1.2</td>\n",
              "      <td>4.8</td>\n",
              "      <td>0.5</td>\n",
              "      <td>1</td>\n",
              "    </tr>\n",
              "  </tbody>\n",
              "</table>\n",
              "<p>243 rows × 11 columns</p>\n",
              "</div>"
            ],
            "text/plain": [
              "    Temperature  RH  Ws Rain   FFMC  DMC    DC  ISI   BUI  FWI  Classes_enc\n",
              "0            29  57  18     0  65.7  3.4   7.6  1.3   3.4  0.5            1\n",
              "1            29  61  13   1.3  64.4  4.1   7.6    1   3.9  0.4            1\n",
              "2            26  82  22  13.1  47.1  2.5   7.1  0.3   2.7  0.1            1\n",
              "3            25  89  13   2.5  28.6  1.3   6.9    0   1.7    0            1\n",
              "4            27  77  16     0  64.8    3  14.2  1.2   3.9  0.5            1\n",
              "..          ...  ..  ..   ...   ...  ...   ...  ...   ...  ...          ...\n",
              "241          30  65  14     0  85.4   16  44.5  4.5  16.9  6.5            0\n",
              "242          28  87  15   4.4  41.1  6.5     8  0.1   6.2    0            1\n",
              "243          27  87  29   0.5  45.9  3.5   7.9  0.4   3.4  0.2            1\n",
              "244          24  54  18   0.1  79.7  4.3  15.2  1.7   5.1  0.7            1\n",
              "245          24  64  15   0.2  67.3  3.8  16.5  1.2   4.8  0.5            1\n",
              "\n",
              "[243 rows x 11 columns]"
            ]
          },
          "execution_count": 139,
          "metadata": {},
          "output_type": "execute_result"
        }
      ],
      "source": [
        "df.drop(columns='Classes',axis=1,inplace=True)\n",
        "df"
      ]
    },
    {
      "cell_type": "code",
      "execution_count": null,
      "id": "8c3387fb",
      "metadata": {
        "id": "8c3387fb",
        "outputId": "8f96de4a-b2e3-4fea-dda8-fb3b03b35428"
      },
      "outputs": [
        {
          "name": "stdout",
          "output_type": "stream",
          "text": [
            "<class 'pandas.core.frame.DataFrame'>\n",
            "Int64Index: 243 entries, 0 to 245\n",
            "Data columns (total 11 columns):\n",
            " #   Column       Non-Null Count  Dtype \n",
            "---  ------       --------------  ----- \n",
            " 0   Temperature  243 non-null    object\n",
            " 1    RH          243 non-null    object\n",
            " 2    Ws          243 non-null    object\n",
            " 3   Rain         243 non-null    object\n",
            " 4   FFMC         243 non-null    object\n",
            " 5   DMC          243 non-null    object\n",
            " 6   DC           243 non-null    object\n",
            " 7   ISI          243 non-null    object\n",
            " 8   BUI          243 non-null    object\n",
            " 9   FWI          243 non-null    object\n",
            " 10  Classes_enc  243 non-null    int32 \n",
            "dtypes: int32(1), object(10)\n",
            "memory usage: 21.8+ KB\n"
          ]
        }
      ],
      "source": [
        "df.info()"
      ]
    },
    {
      "cell_type": "code",
      "execution_count": null,
      "id": "63488889",
      "metadata": {
        "id": "63488889",
        "outputId": "74f63f1d-7ce1-4a12-e038-d8f4286750af"
      },
      "outputs": [
        {
          "name": "stderr",
          "output_type": "stream",
          "text": [
            "<ipython-input-141-973290f5e4aa>:2: DeprecationWarning: `np.object` is a deprecated alias for the builtin `object`. To silence this warning, use `object` by itself. Doing this will not modify any behavior and is safe. \n",
            "Deprecated in NumPy 1.20; for more details and guidance: https://numpy.org/devdocs/release/1.20.0-notes.html#deprecations\n",
            "  if df[column].dtypes == np.object:\n",
            "<ipython-input-141-973290f5e4aa>:3: SettingWithCopyWarning: \n",
            "A value is trying to be set on a copy of a slice from a DataFrame.\n",
            "Try using .loc[row_indexer,col_indexer] = value instead\n",
            "\n",
            "See the caveats in the documentation: https://pandas.pydata.org/pandas-docs/stable/user_guide/indexing.html#returning-a-view-versus-a-copy\n",
            "  df[column] = df[column].astype(str).astype(float)\n"
          ]
        },
        {
          "data": {
            "text/plain": [
              "Temperature    float64\n",
              " RH            float64\n",
              " Ws            float64\n",
              "Rain           float64\n",
              "FFMC           float64\n",
              "DMC            float64\n",
              "DC             float64\n",
              "ISI            float64\n",
              "BUI            float64\n",
              "FWI            float64\n",
              "Classes_enc      int32\n",
              "dtype: object"
            ]
          },
          "execution_count": 141,
          "metadata": {},
          "output_type": "execute_result"
        }
      ],
      "source": [
        "for column in df:\n",
        "    if df[column].dtypes == np.object:\n",
        "        df[column] = df[column].astype(str).astype(float)\n",
        "\n",
        "df.dtypes"
      ]
    },
    {
      "cell_type": "code",
      "execution_count": null,
      "id": "6847a439",
      "metadata": {
        "id": "6847a439",
        "outputId": "ce85340e-d545-486f-f4eb-0765c1715fbd"
      },
      "outputs": [
        {
          "data": {
            "text/plain": [
              "0    0.563786\n",
              "1    0.436214\n",
              "Name: Classes_enc, dtype: float64"
            ]
          },
          "execution_count": 142,
          "metadata": {},
          "output_type": "execute_result"
        }
      ],
      "source": [
        "df.iloc[:, -1].value_counts(normalize=True)"
      ]
    },
    {
      "cell_type": "code",
      "execution_count": null,
      "id": "8a803ff3",
      "metadata": {
        "id": "8a803ff3",
        "outputId": "5c051953-3898-4081-b273-856bff048e56"
      },
      "outputs": [
        {
          "data": {
            "image/png": "[encoded data removed]",
            "text/plain": [
              "<Figure size 864x648 with 2 Axes>"
            ]
          },
          "metadata": {},
          "output_type": "display_data"
        }
      ],
      "source": [
        "import matplotlib.pyplot as plt\n",
        "import seaborn as sns\n",
        "\n",
        "corrmat = df.corr()\n",
        "f, ax = plt.subplots(figsize=(12, 9))\n",
        "sns.heatmap(corrmat, vmax=1, square=True);"
      ]
    },
    {
      "cell_type": "code",
      "execution_count": null,
      "id": "b655b93f",
      "metadata": {
        "id": "b655b93f",
        "outputId": "cb8464e2-a320-436e-8946-74a2e7a984d2"
      },
      "outputs": [
        {
          "data": {
            "image/png": "[encoded data removed]",
            "text/plain": [
              "<Figure size 1440x864 with 2 Axes>"
            ]
          },
          "metadata": {},
          "output_type": "display_data"
        }
      ],
      "source": [
        "k = len(df.columns)\n",
        "cols = corrmat.nlargest(k, 'Classes_enc')['Classes_enc'].index\n",
        "cm = np.corrcoef(df[cols].values.T)\n",
        "sns.set(font_scale=1)\n",
        "f, ax = plt.subplots(figsize=(20, 12))\n",
        "hm = sns.heatmap(cm, cbar=True, annot=True, square=True, fmt='.2f', annot_kws={'size': 15}, yticklabels=cols.values, xticklabels=cols.values)\n",
        "plt.show()"
      ]
    },
    {
      "cell_type": "code",
      "execution_count": null,
      "id": "31991265",
      "metadata": {
        "id": "31991265",
        "outputId": "36df1678-6724-4974-feab-22ee11627db5"
      },
      "outputs": [
        {
          "data": {
            "text/plain": [
              "Index(['Temperature', ' RH', ' Ws', 'Rain ', 'FFMC', 'DMC', 'DC', 'ISI', 'BUI',\n",
              "       'FWI', 'Classes_enc'],\n",
              "      dtype='object')"
            ]
          },
          "execution_count": 145,
          "metadata": {},
          "output_type": "execute_result"
        }
      ],
      "source": [
        "df.columns"
      ]
    },
    {
      "cell_type": "code",
      "execution_count": null,
      "id": "c40c57ec",
      "metadata": {
        "id": "c40c57ec",
        "outputId": "6dc87b46-a952-41af-f008-551c0e12b344"
      },
      "outputs": [
        {
          "name": "stderr",
          "output_type": "stream",
          "text": [
            "C:\\Users\\User\\anaconda3\\lib\\site-packages\\pandas\\core\\frame.py:4308: SettingWithCopyWarning: \n",
            "A value is trying to be set on a copy of a slice from a DataFrame\n",
            "\n",
            "See the caveats in the documentation: https://pandas.pydata.org/pandas-docs/stable/user_guide/indexing.html#returning-a-view-versus-a-copy\n",
            "  return super().drop(\n"
          ]
        },
        {
          "data": {
            "text/html": [
              "<div>\n",
              "<style scoped>\n",
              "    .dataframe tbody tr th:only-of-type {\n",
              "        vertical-align: middle;\n",
              "    }\n",
              "\n",
              "    .dataframe tbody tr th {\n",
              "        vertical-align: top;\n",
              "    }\n",
              "\n",
              "    .dataframe thead th {\n",
              "        text-align: right;\n",
              "    }\n",
              "</style>\n",
              "<table border=\"1\" class=\"dataframe\">\n",
              "  <thead>\n",
              "    <tr style=\"text-align: right;\">\n",
              "      <th></th>\n",
              "      <th>Temperature</th>\n",
              "      <th>RH</th>\n",
              "      <th>Ws</th>\n",
              "      <th>Rain</th>\n",
              "      <th>DMC</th>\n",
              "      <th>DC</th>\n",
              "      <th>BUI</th>\n",
              "      <th>Classes_enc</th>\n",
              "    </tr>\n",
              "  </thead>\n",
              "  <tbody>\n",
              "    <tr>\n",
              "      <th>0</th>\n",
              "      <td>29.0</td>\n",
              "      <td>57.0</td>\n",
              "      <td>18.0</td>\n",
              "      <td>0.0</td>\n",
              "      <td>3.4</td>\n",
              "      <td>7.6</td>\n",
              "      <td>3.4</td>\n",
              "      <td>1</td>\n",
              "    </tr>\n",
              "    <tr>\n",
              "      <th>1</th>\n",
              "      <td>29.0</td>\n",
              "      <td>61.0</td>\n",
              "      <td>13.0</td>\n",
              "      <td>1.3</td>\n",
              "      <td>4.1</td>\n",
              "      <td>7.6</td>\n",
              "      <td>3.9</td>\n",
              "      <td>1</td>\n",
              "    </tr>\n",
              "    <tr>\n",
              "      <th>2</th>\n",
              "      <td>26.0</td>\n",
              "      <td>82.0</td>\n",
              "      <td>22.0</td>\n",
              "      <td>13.1</td>\n",
              "      <td>2.5</td>\n",
              "      <td>7.1</td>\n",
              "      <td>2.7</td>\n",
              "      <td>1</td>\n",
              "    </tr>\n",
              "    <tr>\n",
              "      <th>3</th>\n",
              "      <td>25.0</td>\n",
              "      <td>89.0</td>\n",
              "      <td>13.0</td>\n",
              "      <td>2.5</td>\n",
              "      <td>1.3</td>\n",
              "      <td>6.9</td>\n",
              "      <td>1.7</td>\n",
              "      <td>1</td>\n",
              "    </tr>\n",
              "    <tr>\n",
              "      <th>4</th>\n",
              "      <td>27.0</td>\n",
              "      <td>77.0</td>\n",
              "      <td>16.0</td>\n",
              "      <td>0.0</td>\n",
              "      <td>3.0</td>\n",
              "      <td>14.2</td>\n",
              "      <td>3.9</td>\n",
              "      <td>1</td>\n",
              "    </tr>\n",
              "  </tbody>\n",
              "</table>\n",
              "</div>"
            ],
            "text/plain": [
              "   Temperature    RH    Ws  Rain   DMC    DC  BUI  Classes_enc\n",
              "0         29.0  57.0  18.0    0.0  3.4   7.6  3.4            1\n",
              "1         29.0  61.0  13.0    1.3  4.1   7.6  3.9            1\n",
              "2         26.0  82.0  22.0   13.1  2.5   7.1  2.7            1\n",
              "3         25.0  89.0  13.0    2.5  1.3   6.9  1.7            1\n",
              "4         27.0  77.0  16.0    0.0  3.0  14.2  3.9            1"
            ]
          },
          "execution_count": 146,
          "metadata": {},
          "output_type": "execute_result"
        }
      ],
      "source": [
        "# удалю корреляцию ниже -0.6\n",
        "df.drop('FFMC',axis=1,inplace=True)\n",
        "df.drop('ISI',axis=1,inplace=True)\n",
        "df.drop('FWI',axis=1,inplace=True)\n",
        "df.head()"
      ]
    },
    {
      "cell_type": "markdown",
      "id": "66863f8e",
      "metadata": {
        "id": "66863f8e"
      },
      "source": [
        "Разбиваем выборку на тренировочную и тестовую части и обучаем модель (в примере - градиентный бустинг)"
      ]
    },
    {
      "cell_type": "code",
      "execution_count": null,
      "id": "b474df2f",
      "metadata": {
        "id": "b474df2f"
      },
      "outputs": [],
      "source": [
        "from sklearn.model_selection import train_test_split\n",
        "\n",
        "x_data = df.iloc[:,:-1]\n",
        "y_data = df.iloc[:,-1]\n",
        "\n",
        "x_train, x_test, y_train, y_test = train_test_split(x_data, y_data, test_size=0.2, random_state=7)"
      ]
    },
    {
      "cell_type": "code",
      "execution_count": null,
      "id": "ea23414b",
      "metadata": {
        "id": "ea23414b",
        "outputId": "70e95f14-689f-4bda-ab20-801ce52ade17"
      },
      "outputs": [
        {
          "name": "stdout",
          "output_type": "stream",
          "text": [
            "[10:07:30] WARNING: C:/Users/Administrator/workspace/xgboost-win64_release_1.5.0/src/learner.cc:1115: Starting in XGBoost 1.3.0, the default evaluation metric used with the objective 'binary:logistic' was changed from 'error' to 'logloss'. Explicitly set eval_metric if you'd like to restore the old behavior.\n"
          ]
        },
        {
          "name": "stderr",
          "output_type": "stream",
          "text": [
            "C:\\Users\\User\\anaconda3\\lib\\site-packages\\xgboost\\sklearn.py:1224: UserWarning: The use of label encoder in XGBClassifier is deprecated and will be removed in a future release. To remove this warning, do the following: 1) Pass option use_label_encoder=False when constructing XGBClassifier object; and 2) Encode your labels (y) as integers starting with 0, i.e. 0, 1, 2, ..., [num_class - 1].\n",
            "  warnings.warn(label_encoder_deprecation_msg, UserWarning)\n"
          ]
        }
      ],
      "source": [
        "import xgboost as xgb\n",
        "\n",
        "model = xgb.XGBClassifier()\n",
        "\n",
        "model.fit(x_train, y_train)\n",
        "y_predict = model.predict(x_test)"
      ]
    },
    {
      "cell_type": "markdown",
      "id": "53de53fe",
      "metadata": {
        "id": "53de53fe"
      },
      "source": [
        "Проверяем качество"
      ]
    },
    {
      "cell_type": "code",
      "execution_count": null,
      "id": "a1817e8d",
      "metadata": {
        "id": "a1817e8d",
        "outputId": "41fc1e66-9e0f-4359-aab4-80a73ca840c9"
      },
      "outputs": [
        {
          "name": "stdout",
          "output_type": "stream",
          "text": [
            "Classification results:\n",
            "f1: 88.24%\n",
            "roc: 92.33%\n",
            "recall: 93.75%\n",
            "precision: 83.33%\n"
          ]
        }
      ],
      "source": [
        "from sklearn.metrics import recall_score, precision_score, roc_auc_score, accuracy_score, f1_score\n",
        "\n",
        "def evaluate_results(y_test, y_predict, print_flag=True):\n",
        "    f1 = f1_score(y_test, y_predict)\n",
        "    roc = roc_auc_score(y_test, y_predict)\n",
        "    rec = recall_score(y_test, y_predict, average='binary')\n",
        "    prc = precision_score(y_test, y_predict, average='binary')\n",
        "    \n",
        "    if print_flag:\n",
        "        print('Classification results:')\n",
        "        print(\"f1: %.2f%%\" % (f1 * 100.0))\n",
        "        print(\"roc: %.2f%%\" % (roc * 100.0))\n",
        "        print(\"recall: %.2f%%\" % (rec * 100.0))\n",
        "        print(\"precision: %.2f%%\" % (prc * 100.0))\n",
        "    else:\n",
        "        return [f1, roc, rec, prc]\n",
        "    \n",
        "metrics = []\n",
        "evaluate_results(y_test, y_predict)\n",
        "metrics.append(evaluate_results(y_test, y_predict, print_flag=False))"
      ]
    },
    {
      "cell_type": "markdown",
      "id": "836c3dae",
      "metadata": {
        "id": "836c3dae"
      },
      "source": [
        "Теперь очередь за PU learning"
      ]
    },
    {
      "cell_type": "markdown",
      "id": "6c2cc650",
      "metadata": {
        "id": "6c2cc650"
      },
      "source": [
        "Представим, что нам неизвестны негативы и часть позитивов"
      ]
    },
    {
      "cell_type": "markdown",
      "id": "a293667d",
      "metadata": {
        "id": "a293667d"
      },
      "source": [
        "### 25%"
      ]
    },
    {
      "cell_type": "code",
      "execution_count": null,
      "id": "94056e8e",
      "metadata": {
        "id": "94056e8e",
        "outputId": "0884dad6-099b-40cb-dc55-2e63a02b359b"
      },
      "outputs": [
        {
          "name": "stdout",
          "output_type": "stream",
          "text": [
            "Using 27/106 as positives and unlabeling the rest\n"
          ]
        }
      ],
      "source": [
        "mod_data = df.copy()\n",
        "#get the indices of the positives samples\n",
        "pos_ind = np.where(mod_data.iloc[:,-1].values == 1)[0]\n",
        "#shuffle them\n",
        "np.random.shuffle(pos_ind)\n",
        "# leave just 25% of the positives marked\n",
        "pos_sample_len = int(np.ceil(0.25 * len(pos_ind)))\n",
        "print(f'Using {pos_sample_len}/{len(pos_ind)} as positives and unlabeling the rest')\n",
        "pos_sample = pos_ind[:pos_sample_len]"
      ]
    },
    {
      "cell_type": "markdown",
      "id": "be96064e",
      "metadata": {
        "id": "be96064e"
      },
      "source": [
        "Создаем столбец для новой целевой переменной, где у нас два класса - P (1) и U (-1)"
      ]
    },
    {
      "cell_type": "code",
      "execution_count": null,
      "id": "355008df",
      "metadata": {
        "id": "355008df",
        "outputId": "5aaeb6ad-2f27-41c8-bfd6-c66bfcc21796"
      },
      "outputs": [
        {
          "name": "stdout",
          "output_type": "stream",
          "text": [
            "target variable:\n",
            " -1    216\n",
            " 1     27\n",
            "Name: class_test, dtype: int64\n"
          ]
        }
      ],
      "source": [
        "mod_data['class_test'] = -1\n",
        "mod_data.loc[pos_sample,'class_test'] = 1\n",
        "print('target variable:\\n', mod_data.iloc[:,-1].value_counts())"
      ]
    },
    {
      "cell_type": "code",
      "execution_count": null,
      "id": "2a958f0a",
      "metadata": {
        "id": "2a958f0a",
        "outputId": "317a68e6-8ab8-4ae1-f56a-59a0b3a02f81"
      },
      "outputs": [
        {
          "data": {
            "text/html": [
              "<div>\n",
              "<style scoped>\n",
              "    .dataframe tbody tr th:only-of-type {\n",
              "        vertical-align: middle;\n",
              "    }\n",
              "\n",
              "    .dataframe tbody tr th {\n",
              "        vertical-align: top;\n",
              "    }\n",
              "\n",
              "    .dataframe thead th {\n",
              "        text-align: right;\n",
              "    }\n",
              "</style>\n",
              "<table border=\"1\" class=\"dataframe\">\n",
              "  <thead>\n",
              "    <tr style=\"text-align: right;\">\n",
              "      <th></th>\n",
              "      <th>Temperature</th>\n",
              "      <th>RH</th>\n",
              "      <th>Ws</th>\n",
              "      <th>Rain</th>\n",
              "      <th>DMC</th>\n",
              "      <th>DC</th>\n",
              "      <th>BUI</th>\n",
              "      <th>Classes_enc</th>\n",
              "      <th>class_test</th>\n",
              "    </tr>\n",
              "  </thead>\n",
              "  <tbody>\n",
              "    <tr>\n",
              "      <th>0</th>\n",
              "      <td>29.0</td>\n",
              "      <td>57.0</td>\n",
              "      <td>18.0</td>\n",
              "      <td>0.0</td>\n",
              "      <td>3.4</td>\n",
              "      <td>7.6</td>\n",
              "      <td>3.4</td>\n",
              "      <td>1</td>\n",
              "      <td>-1</td>\n",
              "    </tr>\n",
              "    <tr>\n",
              "      <th>1</th>\n",
              "      <td>29.0</td>\n",
              "      <td>61.0</td>\n",
              "      <td>13.0</td>\n",
              "      <td>1.3</td>\n",
              "      <td>4.1</td>\n",
              "      <td>7.6</td>\n",
              "      <td>3.9</td>\n",
              "      <td>1</td>\n",
              "      <td>-1</td>\n",
              "    </tr>\n",
              "    <tr>\n",
              "      <th>2</th>\n",
              "      <td>26.0</td>\n",
              "      <td>82.0</td>\n",
              "      <td>22.0</td>\n",
              "      <td>13.1</td>\n",
              "      <td>2.5</td>\n",
              "      <td>7.1</td>\n",
              "      <td>2.7</td>\n",
              "      <td>1</td>\n",
              "      <td>1</td>\n",
              "    </tr>\n",
              "    <tr>\n",
              "      <th>3</th>\n",
              "      <td>25.0</td>\n",
              "      <td>89.0</td>\n",
              "      <td>13.0</td>\n",
              "      <td>2.5</td>\n",
              "      <td>1.3</td>\n",
              "      <td>6.9</td>\n",
              "      <td>1.7</td>\n",
              "      <td>1</td>\n",
              "      <td>-1</td>\n",
              "    </tr>\n",
              "    <tr>\n",
              "      <th>4</th>\n",
              "      <td>27.0</td>\n",
              "      <td>77.0</td>\n",
              "      <td>16.0</td>\n",
              "      <td>0.0</td>\n",
              "      <td>3.0</td>\n",
              "      <td>14.2</td>\n",
              "      <td>3.9</td>\n",
              "      <td>1</td>\n",
              "      <td>1</td>\n",
              "    </tr>\n",
              "  </tbody>\n",
              "</table>\n",
              "</div>"
            ],
            "text/plain": [
              "   Temperature    RH    Ws  Rain   DMC    DC  BUI  Classes_enc  class_test\n",
              "0         29.0  57.0  18.0    0.0  3.4   7.6  3.4            1          -1\n",
              "1         29.0  61.0  13.0    1.3  4.1   7.6  3.9            1          -1\n",
              "2         26.0  82.0  22.0   13.1  2.5   7.1  2.7            1           1\n",
              "3         25.0  89.0  13.0    2.5  1.3   6.9  1.7            1          -1\n",
              "4         27.0  77.0  16.0    0.0  3.0  14.2  3.9            1           1"
            ]
          },
          "execution_count": 152,
          "metadata": {},
          "output_type": "execute_result"
        }
      ],
      "source": [
        "mod_data.head(5)"
      ]
    },
    {
      "cell_type": "markdown",
      "id": "201a1f70",
      "metadata": {
        "id": "201a1f70"
      },
      "source": [
        "1. random negative sampling"
      ]
    },
    {
      "cell_type": "code",
      "execution_count": null,
      "id": "83bd6cc5",
      "metadata": {
        "id": "83bd6cc5",
        "outputId": "d9bd4fb7-3f12-4add-b7d0-0645a523f29c"
      },
      "outputs": [
        {
          "name": "stdout",
          "output_type": "stream",
          "text": [
            "(27, 9) (27, 9)\n"
          ]
        }
      ],
      "source": [
        "mod_data = mod_data.sample(frac=1)\n",
        "neg_sample = mod_data[mod_data['class_test']==-1][:len(mod_data[mod_data['class_test']==1])]\n",
        "sample_test = mod_data[mod_data['class_test']==-1][len(mod_data[mod_data['class_test']==1]):]\n",
        "pos_sample = mod_data[mod_data['class_test']==1]\n",
        "print(neg_sample.shape, pos_sample.shape)\n",
        "sample_train = pd.concat([neg_sample, pos_sample]).sample(frac=1)"
      ]
    },
    {
      "cell_type": "code",
      "execution_count": null,
      "id": "d7c92466",
      "metadata": {
        "id": "d7c92466",
        "outputId": "c6620744-ad15-4e7f-bedb-9842ef32c877"
      },
      "outputs": [
        {
          "name": "stdout",
          "output_type": "stream",
          "text": [
            "[10:07:39] WARNING: C:/Users/Administrator/workspace/xgboost-win64_release_1.5.0/src/learner.cc:1115: Starting in XGBoost 1.3.0, the default evaluation metric used with the objective 'binary:logistic' was changed from 'error' to 'logloss'. Explicitly set eval_metric if you'd like to restore the old behavior.\n",
            "Classification results:\n",
            "f1: 83.12%\n",
            "roc: 85.91%\n",
            "recall: 84.21%\n",
            "precision: 82.05%\n"
          ]
        },
        {
          "name": "stderr",
          "output_type": "stream",
          "text": [
            "C:\\Users\\User\\anaconda3\\lib\\site-packages\\xgboost\\sklearn.py:1224: UserWarning: The use of label encoder in XGBClassifier is deprecated and will be removed in a future release. To remove this warning, do the following: 1) Pass option use_label_encoder=False when constructing XGBClassifier object; and 2) Encode your labels (y) as integers starting with 0, i.e. 0, 1, 2, ..., [num_class - 1].\n",
            "  warnings.warn(label_encoder_deprecation_msg, UserWarning)\n"
          ]
        }
      ],
      "source": [
        "model = xgb.XGBClassifier()\n",
        "\n",
        "model.fit(sample_train.iloc[:,:-2].values, \n",
        "          sample_train.iloc[:,-2].values)\n",
        "y_predict = model.predict(sample_test.iloc[:,:-2].values)\n",
        "evaluate_results(sample_test.iloc[:,-2].values, y_predict)\n",
        "\n",
        "metrics.append(evaluate_results(sample_test.iloc[:,-2], y_predict, print_flag=False))"
      ]
    },
    {
      "cell_type": "markdown",
      "id": "07b2c052",
      "metadata": {
        "id": "07b2c052"
      },
      "source": [
        "#### Попробую разные доли"
      ]
    },
    {
      "cell_type": "markdown",
      "id": "c672b38b",
      "metadata": {
        "id": "c672b38b"
      },
      "source": [
        "### 15%"
      ]
    },
    {
      "cell_type": "code",
      "execution_count": null,
      "id": "2e9f6e41",
      "metadata": {
        "id": "2e9f6e41",
        "outputId": "c967ab3e-4476-4e49-91da-a025cececcf1"
      },
      "outputs": [
        {
          "name": "stdout",
          "output_type": "stream",
          "text": [
            "Using 16/106 as positives and unlabeling the rest\n"
          ]
        }
      ],
      "source": [
        "mod_data = df.copy()\n",
        "#get the indices of the positives samples\n",
        "pos_ind = np.where(mod_data.iloc[:,-1].values == 1)[0]\n",
        "#shuffle them\n",
        "np.random.shuffle(pos_ind)\n",
        "# leave just 15% of the positives marked\n",
        "pos_sample_len = int(np.ceil(0.15 * len(pos_ind)))\n",
        "print(f'Using {pos_sample_len}/{len(pos_ind)} as positives and unlabeling the rest')\n",
        "pos_sample = pos_ind[:pos_sample_len]"
      ]
    },
    {
      "cell_type": "code",
      "execution_count": null,
      "id": "a4ba3cbb",
      "metadata": {
        "id": "a4ba3cbb",
        "outputId": "f066d9f1-cf53-482f-d9b9-258b37b26006"
      },
      "outputs": [
        {
          "name": "stdout",
          "output_type": "stream",
          "text": [
            "target variable:\n",
            " -1    227\n",
            " 1     16\n",
            "Name: class_test, dtype: int64\n"
          ]
        }
      ],
      "source": [
        "mod_data['class_test'] = -1\n",
        "mod_data.loc[pos_sample,'class_test'] = 1\n",
        "print('target variable:\\n', mod_data.iloc[:,-1].value_counts())"
      ]
    },
    {
      "cell_type": "code",
      "execution_count": null,
      "id": "5f9ea00d",
      "metadata": {
        "id": "5f9ea00d"
      },
      "outputs": [],
      "source": [
        "x_data = mod_data.iloc[:,:-2].values # just the X \n",
        "y_labeled = mod_data.iloc[:,-1].values # new class (just the P & U)\n",
        "y_positive = mod_data.iloc[:,-2].values # original class"
      ]
    },
    {
      "cell_type": "code",
      "execution_count": null,
      "id": "df7794b3",
      "metadata": {
        "id": "df7794b3",
        "outputId": "ebb5968c-e737-4a1e-947e-4691b884ff7a"
      },
      "outputs": [
        {
          "name": "stdout",
          "output_type": "stream",
          "text": [
            "(16, 9) (16, 9)\n"
          ]
        }
      ],
      "source": [
        "mod_data = mod_data.sample(frac=1)\n",
        "neg_sample = mod_data[mod_data['class_test']==-1][:len(mod_data[mod_data['class_test']==1])]\n",
        "sample_test = mod_data[mod_data['class_test']==-1][len(mod_data[mod_data['class_test']==1]):]\n",
        "pos_sample = mod_data[mod_data['class_test']==1]\n",
        "print(neg_sample.shape, pos_sample.shape)\n",
        "sample_train = pd.concat([neg_sample, pos_sample]).sample(frac=1)"
      ]
    },
    {
      "cell_type": "code",
      "execution_count": null,
      "id": "51983c1c",
      "metadata": {
        "id": "51983c1c",
        "outputId": "2a4964a6-1fa4-4415-a12f-2e958a6bab3b"
      },
      "outputs": [
        {
          "name": "stdout",
          "output_type": "stream",
          "text": [
            "[10:07:46] WARNING: C:/Users/Administrator/workspace/xgboost-win64_release_1.5.0/src/learner.cc:1115: Starting in XGBoost 1.3.0, the default evaluation metric used with the objective 'binary:logistic' was changed from 'error' to 'logloss'. Explicitly set eval_metric if you'd like to restore the old behavior.\n",
            "Classification results:\n",
            "f1: 83.33%\n",
            "roc: 85.69%\n",
            "recall: 96.59%\n",
            "precision: 73.28%\n"
          ]
        },
        {
          "name": "stderr",
          "output_type": "stream",
          "text": [
            "C:\\Users\\User\\anaconda3\\lib\\site-packages\\xgboost\\sklearn.py:1224: UserWarning: The use of label encoder in XGBClassifier is deprecated and will be removed in a future release. To remove this warning, do the following: 1) Pass option use_label_encoder=False when constructing XGBClassifier object; and 2) Encode your labels (y) as integers starting with 0, i.e. 0, 1, 2, ..., [num_class - 1].\n",
            "  warnings.warn(label_encoder_deprecation_msg, UserWarning)\n"
          ]
        }
      ],
      "source": [
        "model = xgb.XGBClassifier()\n",
        "\n",
        "model.fit(sample_train.iloc[:,:-2].values, \n",
        "          sample_train.iloc[:,-2].values)\n",
        "y_predict = model.predict(sample_test.iloc[:,:-2].values)\n",
        "evaluate_results(sample_test.iloc[:,-2].values, y_predict)\n",
        "\n",
        "metrics.append(evaluate_results(sample_test.iloc[:,-2], y_predict, print_flag=False))"
      ]
    },
    {
      "cell_type": "markdown",
      "id": "1aa4765e",
      "metadata": {
        "id": "1aa4765e"
      },
      "source": [
        "### 35%"
      ]
    },
    {
      "cell_type": "code",
      "execution_count": null,
      "id": "c8329dc0",
      "metadata": {
        "id": "c8329dc0",
        "outputId": "6507293c-0285-4eff-93d0-83ccc08f7797"
      },
      "outputs": [
        {
          "name": "stdout",
          "output_type": "stream",
          "text": [
            "Using 38/106 as positives and unlabeling the rest\n"
          ]
        }
      ],
      "source": [
        "mod_data = df.copy()\n",
        "#get the indices of the positives samples\n",
        "pos_ind = np.where(mod_data.iloc[:,-1].values == 1)[0]\n",
        "#shuffle them\n",
        "np.random.shuffle(pos_ind)\n",
        "# leave just 15% of the positives marked\n",
        "pos_sample_len = int(np.ceil(0.35 * len(pos_ind)))\n",
        "print(f'Using {pos_sample_len}/{len(pos_ind)} as positives and unlabeling the rest')\n",
        "pos_sample = pos_ind[:pos_sample_len]"
      ]
    },
    {
      "cell_type": "code",
      "execution_count": null,
      "id": "44ade9cd",
      "metadata": {
        "id": "44ade9cd",
        "outputId": "c694ae0d-b727-49a8-c053-5c49571c0d45"
      },
      "outputs": [
        {
          "name": "stdout",
          "output_type": "stream",
          "text": [
            "target variable:\n",
            " -1    205\n",
            " 1     38\n",
            "Name: class_test, dtype: int64\n"
          ]
        }
      ],
      "source": [
        "mod_data['class_test'] = -1\n",
        "mod_data.loc[pos_sample,'class_test'] = 1\n",
        "print('target variable:\\n', mod_data.iloc[:,-1].value_counts())"
      ]
    },
    {
      "cell_type": "code",
      "execution_count": null,
      "id": "52e5e04e",
      "metadata": {
        "id": "52e5e04e"
      },
      "outputs": [],
      "source": [
        "x_data = mod_data.iloc[:,:-2].values # just the X \n",
        "y_labeled = mod_data.iloc[:,-1].values # new class (just the P & U)\n",
        "y_positive = mod_data.iloc[:,-2].values # original class"
      ]
    },
    {
      "cell_type": "code",
      "execution_count": null,
      "id": "4d6e3181",
      "metadata": {
        "id": "4d6e3181",
        "outputId": "518dac0c-3242-44f3-dfd4-087b50dd5486"
      },
      "outputs": [
        {
          "name": "stdout",
          "output_type": "stream",
          "text": [
            "(38, 9) (38, 9)\n"
          ]
        }
      ],
      "source": [
        "mod_data = mod_data.sample(frac=1)\n",
        "neg_sample = mod_data[mod_data['class_test']==-1][:len(mod_data[mod_data['class_test']==1])]\n",
        "sample_test = mod_data[mod_data['class_test']==-1][len(mod_data[mod_data['class_test']==1]):]\n",
        "pos_sample = mod_data[mod_data['class_test']==1]\n",
        "print(neg_sample.shape, pos_sample.shape)\n",
        "sample_train = pd.concat([neg_sample, pos_sample]).sample(frac=1)"
      ]
    },
    {
      "cell_type": "code",
      "execution_count": null,
      "id": "230243d2",
      "metadata": {
        "id": "230243d2",
        "outputId": "04722169-837c-404f-f642-58ba475be643"
      },
      "outputs": [
        {
          "name": "stderr",
          "output_type": "stream",
          "text": [
            "C:\\Users\\User\\anaconda3\\lib\\site-packages\\xgboost\\sklearn.py:1224: UserWarning: The use of label encoder in XGBClassifier is deprecated and will be removed in a future release. To remove this warning, do the following: 1) Pass option use_label_encoder=False when constructing XGBClassifier object; and 2) Encode your labels (y) as integers starting with 0, i.e. 0, 1, 2, ..., [num_class - 1].\n",
            "  warnings.warn(label_encoder_deprecation_msg, UserWarning)\n"
          ]
        },
        {
          "name": "stdout",
          "output_type": "stream",
          "text": [
            "[10:08:17] WARNING: C:/Users/Administrator/workspace/xgboost-win64_release_1.5.0/src/learner.cc:1115: Starting in XGBoost 1.3.0, the default evaluation metric used with the objective 'binary:logistic' was changed from 'error' to 'logloss'. Explicitly set eval_metric if you'd like to restore the old behavior.\n",
            "Classification results:\n",
            "f1: 82.81%\n",
            "roc: 86.84%\n",
            "recall: 86.89%\n",
            "precision: 79.10%\n"
          ]
        }
      ],
      "source": [
        "model = xgb.XGBClassifier()\n",
        "\n",
        "model.fit(sample_train.iloc[:,:-2].values, \n",
        "          sample_train.iloc[:,-2].values)\n",
        "y_predict = model.predict(sample_test.iloc[:,:-2].values)\n",
        "evaluate_results(sample_test.iloc[:,-2].values, y_predict)\n",
        "\n",
        "metrics.append(evaluate_results(sample_test.iloc[:,-2], y_predict, print_flag=False))"
      ]
    },
    {
      "cell_type": "code",
      "execution_count": null,
      "id": "9bc5c0f5",
      "metadata": {
        "id": "9bc5c0f5",
        "outputId": "6f5d2c25-c18e-4b8e-8933-85418c0c0a72"
      },
      "outputs": [
        {
          "data": {
            "text/html": [
              "<div>\n",
              "<style scoped>\n",
              "    .dataframe tbody tr th:only-of-type {\n",
              "        vertical-align: middle;\n",
              "    }\n",
              "\n",
              "    .dataframe tbody tr th {\n",
              "        vertical-align: top;\n",
              "    }\n",
              "\n",
              "    .dataframe thead th {\n",
              "        text-align: right;\n",
              "    }\n",
              "</style>\n",
              "<table border=\"1\" class=\"dataframe\">\n",
              "  <thead>\n",
              "    <tr style=\"text-align: right;\">\n",
              "      <th></th>\n",
              "      <th>fscore</th>\n",
              "      <th>roc_auc</th>\n",
              "      <th>recall</th>\n",
              "      <th>precision</th>\n",
              "    </tr>\n",
              "  </thead>\n",
              "  <tbody>\n",
              "    <tr>\n",
              "      <th>XGBClassifier</th>\n",
              "      <td>0.882353</td>\n",
              "      <td>0.923295</td>\n",
              "      <td>0.937500</td>\n",
              "      <td>0.833333</td>\n",
              "    </tr>\n",
              "    <tr>\n",
              "      <th>XGBClassifier + random negative sampling 25%</th>\n",
              "      <td>0.831169</td>\n",
              "      <td>0.859106</td>\n",
              "      <td>0.842105</td>\n",
              "      <td>0.820513</td>\n",
              "    </tr>\n",
              "    <tr>\n",
              "      <th>XGBClassifier + random negative sampling 15%</th>\n",
              "      <td>0.833333</td>\n",
              "      <td>0.856938</td>\n",
              "      <td>0.965909</td>\n",
              "      <td>0.732759</td>\n",
              "    </tr>\n",
              "    <tr>\n",
              "      <th>XGBClassifier + random negative sampling 35%</th>\n",
              "      <td>0.828125</td>\n",
              "      <td>0.868388</td>\n",
              "      <td>0.868852</td>\n",
              "      <td>0.791045</td>\n",
              "    </tr>\n",
              "  </tbody>\n",
              "</table>\n",
              "</div>"
            ],
            "text/plain": [
              "                                                fscore   roc_auc    recall  \\\n",
              "XGBClassifier                                 0.882353  0.923295  0.937500   \n",
              "XGBClassifier + random negative sampling 25%  0.831169  0.859106  0.842105   \n",
              "XGBClassifier + random negative sampling 15%  0.833333  0.856938  0.965909   \n",
              "XGBClassifier + random negative sampling 35%  0.828125  0.868388  0.868852   \n",
              "\n",
              "                                              precision  \n",
              "XGBClassifier                                  0.833333  \n",
              "XGBClassifier + random negative sampling 25%   0.820513  \n",
              "XGBClassifier + random negative sampling 15%   0.732759  \n",
              "XGBClassifier + random negative sampling 35%   0.791045  "
            ]
          },
          "execution_count": 165,
          "metadata": {},
          "output_type": "execute_result"
        }
      ],
      "source": [
        "metrics_comparison_df = pd.DataFrame(np.array(metrics),\n",
        "                   columns=['fscore', 'roc_auc', 'recall', 'precision'],\n",
        "                   index=['XGBClassifier', 'XGBClassifier + random negative sampling 25%', \n",
        "                          'XGBClassifier + random negative sampling 15%', \n",
        "                          'XGBClassifier + random negative sampling 35%'])\n",
        "metrics_comparison_df"
      ]
    },
    {
      "cell_type": "markdown",
      "id": "3c2b5ed5",
      "metadata": {
        "id": "3c2b5ed5"
      },
      "source": [
        "#### Размер выборки немного влияет на качество, в данном случае лучше всего получиласть модель со случайной выборкой 15%"
      ]
    },
    {
      "cell_type": "markdown",
      "id": "ac03e392",
      "metadata": {
        "id": "ac03e392"
      },
      "source": [
        "Бонусный вопрос:\n",
        "\n",
        "Как вы думаете, какой из методов на практике является более предпочтительным: random negative sampling или 2-step approach?"
      ]
    },
    {
      "cell_type": "markdown",
      "id": "db1a51c6",
      "metadata": {
        "id": "db1a51c6"
      },
      "source": [
        "Думаю 2-step approach, т.к. он более устойчив за счет отсутствия случайности. Например, для random negative sampling может попасться неудачная с выборка"
      ]
    },
    {
      "cell_type": "code",
      "execution_count": null,
      "id": "6612b112",
      "metadata": {
        "id": "6612b112"
      },
      "outputs": [],
      "source": [
        ""
      ]
    }
  ],
  "metadata": {
    "kernelspec": {
      "display_name": "Python 3",
      "language": "python",
      "name": "python3"
    },
    "language_info": {
      "codemirror_mode": {
        "name": "ipython",
        "version": 3
      },
      "file_extension": ".py",
      "mimetype": "text/x-python",
      "name": "python",
      "nbconvert_exporter": "python",
      "pygments_lexer": "ipython3",
      "version": "3.8.8"
    },
    "colab": {
      "name": "HW_6_Gorokhova_A.ipynb",
      "provenance": [],
      "include_colab_link": true
    }
  },
  "nbformat": 4,
  "nbformat_minor": 5
}